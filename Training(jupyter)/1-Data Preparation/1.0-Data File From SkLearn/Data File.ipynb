{
 "cells": [
  {
   "cell_type": "code",
   "execution_count": 1,
   "id": "grand-front",
   "metadata": {},
   "outputs": [],
   "source": [
    "import sklearn"
   ]
  },
  {
   "cell_type": "code",
   "execution_count": 2,
   "id": "bored-manor",
   "metadata": {},
   "outputs": [
    {
     "name": "stdout",
     "output_type": "stream",
     "text": [
      "0.23.2\n"
     ]
    }
   ],
   "source": [
    "print(sklearn.__version__)"
   ]
  },
  {
   "cell_type": "markdown",
   "id": "prime-postcard",
   "metadata": {},
   "source": [
    "# 1-Iris DataSet"
   ]
  },
  {
   "cell_type": "code",
   "execution_count": 5,
   "id": "adapted-village",
   "metadata": {},
   "outputs": [],
   "source": [
    "from sklearn.datasets import load_iris"
   ]
  },
  {
   "cell_type": "code",
   "execution_count": 6,
   "id": "appointed-connecticut",
   "metadata": {},
   "outputs": [],
   "source": [
    "Iris_DataSet=load_iris()"
   ]
  },
  {
   "cell_type": "code",
   "execution_count": 9,
   "id": "original-ghana",
   "metadata": {},
   "outputs": [],
   "source": [
    "X=Iris_DataSet.data\n",
    "Y=Iris_DataSet.target"
   ]
  },
  {
   "cell_type": "code",
   "execution_count": 27,
   "id": "widespread-extreme",
   "metadata": {},
   "outputs": [
    {
     "name": "stdout",
     "output_type": "stream",
     "text": [
      "Data Set :\n",
      " [[5.1 3.5 1.4 0.2]\n",
      " [4.9 3.  1.4 0.2]\n",
      " [4.7 3.2 1.3 0.2]\n",
      " [4.6 3.1 1.5 0.2]\n",
      " [5.  3.6 1.4 0.2]\n",
      " [5.4 3.9 1.7 0.4]\n",
      " [4.6 3.4 1.4 0.3]\n",
      " [5.  3.4 1.5 0.2]\n",
      " [4.4 2.9 1.4 0.2]\n",
      " [4.9 3.1 1.5 0.1]\n",
      " [5.4 3.7 1.5 0.2]\n",
      " [4.8 3.4 1.6 0.2]]\n",
      "Shape : (150, 4)\n",
      "Feature Names :\n",
      " ['sepal length (cm)', 'sepal width (cm)', 'petal length (cm)', 'petal width (cm)']\n"
     ]
    }
   ],
   "source": [
    "print(\"Data Set :\\n\",X[:12])\n",
    "print(\"Shape :\",X.shape)\n",
    "print(\"Feature Names :\\n\",Iris_DataSet.feature_names)"
   ]
  },
  {
   "cell_type": "code",
   "execution_count": 28,
   "id": "informative-traveler",
   "metadata": {},
   "outputs": [
    {
     "name": "stdout",
     "output_type": "stream",
     "text": [
      "Y Data :\n",
      " [0 0 0 0 0 0 0 0 0 0]\n",
      "Y Shape: (150,)\n",
      "['setosa' 'versicolor' 'virginica']\n"
     ]
    }
   ],
   "source": [
    "print(\"Y Data :\\n\",Y[:10])\n",
    "print(\"Y Shape:\",Y.shape)\n",
    "print(Iris_DataSet.target_names)"
   ]
  },
  {
   "cell_type": "code",
   "execution_count": null,
   "id": "attached-round",
   "metadata": {},
   "outputs": [],
   "source": []
  }
 ],
 "metadata": {
  "kernelspec": {
   "display_name": "Python 3",
   "language": "python",
   "name": "python3"
  },
  "language_info": {
   "codemirror_mode": {
    "name": "ipython",
    "version": 3
   },
   "file_extension": ".py",
   "mimetype": "text/x-python",
   "name": "python",
   "nbconvert_exporter": "python",
   "pygments_lexer": "ipython3",
   "version": "3.8.1"
  }
 },
 "nbformat": 4,
 "nbformat_minor": 5
}
