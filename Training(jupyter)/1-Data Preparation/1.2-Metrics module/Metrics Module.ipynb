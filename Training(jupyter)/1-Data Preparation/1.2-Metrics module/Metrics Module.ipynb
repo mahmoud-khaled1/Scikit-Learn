{
 "cells": [
  {
   "cell_type": "markdown",
   "id": "shaped-olive",
   "metadata": {},
   "source": [
    "# 1-Regression Metrics"
   ]
  },
  {
   "cell_type": "markdown",
   "id": "eligible-transfer",
   "metadata": {},
   "source": [
    "#### 1.1-Mean Absolute Error  "
   ]
  },
  {
   "cell_type": "markdown",
   "id": "forced-material",
   "metadata": {},
   "source": [
    " <img src=\"MAE.png\">"
   ]
  },
  {
   "cell_type": "code",
   "execution_count": 3,
   "id": "practical-prediction",
   "metadata": {},
   "outputs": [],
   "source": [
    "from sklearn.metrics import mean_absolute_error"
   ]
  },
  {
   "cell_type": "code",
   "execution_count": 10,
   "id": "knowing-history",
   "metadata": {},
   "outputs": [],
   "source": [
    "Y_test=[5,4,9,3,6]\n",
    "Y_pred=[5,3,9,4,6]"
   ]
  },
  {
   "cell_type": "code",
   "execution_count": 11,
   "id": "cheap-prediction",
   "metadata": {},
   "outputs": [],
   "source": [
    "MAE=mean_absolute_error(Y_test,Y_pred,multioutput='uniform_average')"
   ]
  },
  {
   "cell_type": "code",
   "execution_count": 12,
   "id": "coordinated-abuse",
   "metadata": {},
   "outputs": [
    {
     "name": "stdout",
     "output_type": "stream",
     "text": [
      "Mean Absolute Error :  0.4\n"
     ]
    }
   ],
   "source": [
    "print(\"Mean Absolute Error : \",MAE)"
   ]
  },
  {
   "cell_type": "markdown",
   "id": "auburn-dynamics",
   "metadata": {},
   "source": [
    "#### 1.2-Mean Squared Error "
   ]
  },
  {
   "cell_type": "markdown",
   "id": "looking-society",
   "metadata": {},
   "source": [
    " <img src=\"MSE.png\">"
   ]
  },
  {
   "cell_type": "code",
   "execution_count": 13,
   "id": "adverse-brass",
   "metadata": {},
   "outputs": [],
   "source": [
    "from sklearn.metrics import mean_squared_error "
   ]
  },
  {
   "cell_type": "code",
   "execution_count": 14,
   "id": "convertible-specification",
   "metadata": {},
   "outputs": [],
   "source": [
    "Y_test=[5,4,9,3,6]\n",
    "Y_pred=[5,3,9,4,6]"
   ]
  },
  {
   "cell_type": "code",
   "execution_count": 15,
   "id": "approximate-afghanistan",
   "metadata": {},
   "outputs": [],
   "source": [
    "MSE=mean_squared_error(Y_test,Y_pred,multioutput='uniform_average')"
   ]
  },
  {
   "cell_type": "code",
   "execution_count": 22,
   "id": "secondary-nursery",
   "metadata": {},
   "outputs": [
    {
     "name": "stdout",
     "output_type": "stream",
     "text": [
      "MSE :  0.4\n"
     ]
    }
   ],
   "source": [
    "print(\"MSE : \",MSE)"
   ]
  },
  {
   "cell_type": "markdown",
   "id": "persistent-breath",
   "metadata": {},
   "source": [
    "#### 1.3-Median Absolute Error "
   ]
  },
  {
   "cell_type": "markdown",
   "id": "working-console",
   "metadata": {},
   "source": [
    "<img src=\"MAE2.png\">"
   ]
  },
  {
   "cell_type": "code",
   "execution_count": 17,
   "id": "functioning-degree",
   "metadata": {},
   "outputs": [],
   "source": [
    "from sklearn.metrics import median_absolute_error "
   ]
  },
  {
   "cell_type": "code",
   "execution_count": 18,
   "id": "eligible-howard",
   "metadata": {},
   "outputs": [],
   "source": [
    "Y_test=[5,4,9,3,6]\n",
    "Y_pred=[5,3,9,4,6]"
   ]
  },
  {
   "cell_type": "code",
   "execution_count": 19,
   "id": "accurate-preview",
   "metadata": {},
   "outputs": [],
   "source": [
    "mse=median_absolute_error(Y_test,Y_pred,multioutput='uniform_average')"
   ]
  },
  {
   "cell_type": "code",
   "execution_count": 21,
   "id": "sticky-array",
   "metadata": {},
   "outputs": [
    {
     "name": "stdout",
     "output_type": "stream",
     "text": [
      "mse :  0.0\n"
     ]
    }
   ],
   "source": [
    "print(\"mse : \",mse)"
   ]
  },
  {
   "cell_type": "markdown",
   "id": "sexual-colors",
   "metadata": {},
   "source": [
    "# 2-Classification Metrics"
   ]
  },
  {
   "cell_type": "markdown",
   "id": "atlantic-horizontal",
   "metadata": {},
   "source": [
    "#### 2.1-Confusion_matrix"
   ]
  },
  {
   "cell_type": "markdown",
   "id": "opening-apple",
   "metadata": {},
   "source": [
    "<img src=\"CM.jpeg\">"
   ]
  },
  {
   "cell_type": "code",
   "execution_count": 2,
   "id": "posted-senior",
   "metadata": {},
   "outputs": [],
   "source": [
    "from sklearn.metrics import confusion_matrix\n",
    "import matplotlib.pyplot as plt \n",
    "import seaborn as sns"
   ]
  },
  {
   "cell_type": "code",
   "execution_count": null,
   "id": "becoming-queen",
   "metadata": {},
   "outputs": [],
   "source": []
  }
 ],
 "metadata": {
  "kernelspec": {
   "display_name": "Python 3",
   "language": "python",
   "name": "python3"
  },
  "language_info": {
   "codemirror_mode": {
    "name": "ipython",
    "version": 3
   },
   "file_extension": ".py",
   "mimetype": "text/x-python",
   "name": "python",
   "nbconvert_exporter": "python",
   "pygments_lexer": "ipython3",
   "version": "3.8.1"
  }
 },
 "nbformat": 4,
 "nbformat_minor": 5
}
