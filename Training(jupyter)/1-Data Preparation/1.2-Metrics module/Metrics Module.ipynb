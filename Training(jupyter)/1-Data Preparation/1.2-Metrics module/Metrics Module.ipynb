{
 "cells": [
  {
   "cell_type": "markdown",
   "id": "foster-thermal",
   "metadata": {},
   "source": [
    "# 1-Regression Metrics"
   ]
  },
  {
   "cell_type": "markdown",
   "id": "civilian-westminster",
   "metadata": {},
   "source": [
    "#### 1.1-Mean Absolute Error  "
   ]
  },
  {
   "cell_type": "markdown",
   "id": "numerous-isaac",
   "metadata": {},
   "source": [
    " <img src=\"MAE.png\">"
   ]
  },
  {
   "cell_type": "code",
   "execution_count": 3,
   "id": "directed-bradley",
   "metadata": {},
   "outputs": [],
   "source": [
    "from sklearn.metrics import mean_absolute_error"
   ]
  },
  {
   "cell_type": "code",
   "execution_count": 10,
   "id": "casual-alpha",
   "metadata": {},
   "outputs": [],
   "source": [
    "Y_test=[5,4,9,3,6]\n",
    "Y_pred=[5,3,9,4,6]"
   ]
  },
  {
   "cell_type": "code",
   "execution_count": 11,
   "id": "scientific-continent",
   "metadata": {},
   "outputs": [],
   "source": [
    "MAE=mean_absolute_error(Y_test,Y_pred,multioutput='uniform_average')"
   ]
  },
  {
   "cell_type": "code",
   "execution_count": 12,
   "id": "focal-worth",
   "metadata": {},
   "outputs": [
    {
     "name": "stdout",
     "output_type": "stream",
     "text": [
      "Mean Absolute Error :  0.4\n"
     ]
    }
   ],
   "source": [
    "print(\"Mean Absolute Error : \",MAE)"
   ]
  },
  {
   "cell_type": "markdown",
   "id": "ordered-gnome",
   "metadata": {},
   "source": [
    "#### 1.2-Mean Squared Error "
   ]
  },
  {
   "cell_type": "markdown",
   "id": "front-somewhere",
   "metadata": {},
   "source": [
    " <img src=\"MSE.png\">"
   ]
  },
  {
   "cell_type": "code",
   "execution_count": 13,
   "id": "cardiovascular-conservative",
   "metadata": {},
   "outputs": [],
   "source": [
    "from sklearn.metrics import mean_squared_error "
   ]
  },
  {
   "cell_type": "code",
   "execution_count": 14,
   "id": "ambient-fraction",
   "metadata": {},
   "outputs": [],
   "source": [
    "Y_test=[5,4,9,3,6]\n",
    "Y_pred=[5,3,9,4,6]"
   ]
  },
  {
   "cell_type": "code",
   "execution_count": 15,
   "id": "strange-memory",
   "metadata": {},
   "outputs": [],
   "source": [
    "MSE=mean_squared_error(Y_test,Y_pred,multioutput='uniform_average')"
   ]
  },
  {
   "cell_type": "code",
   "execution_count": 22,
   "id": "assigned-reason",
   "metadata": {},
   "outputs": [
    {
     "name": "stdout",
     "output_type": "stream",
     "text": [
      "MSE :  0.4\n"
     ]
    }
   ],
   "source": [
    "print(\"MSE : \",MSE)"
   ]
  },
  {
   "cell_type": "markdown",
   "id": "unable-techno",
   "metadata": {},
   "source": [
    "#### 1.3-Median Absolute Error "
   ]
  },
  {
   "cell_type": "markdown",
   "id": "decreased-craps",
   "metadata": {},
   "source": [
    "<img src=\"MAE2.png\">"
   ]
  },
  {
   "cell_type": "code",
   "execution_count": 17,
   "id": "brief-accessory",
   "metadata": {},
   "outputs": [],
   "source": [
    "from sklearn.metrics import median_absolute_error "
   ]
  },
  {
   "cell_type": "code",
   "execution_count": 18,
   "id": "subsequent-fraud",
   "metadata": {},
   "outputs": [],
   "source": [
    "Y_test=[5,4,9,3,6]\n",
    "Y_pred=[5,3,9,4,6]"
   ]
  },
  {
   "cell_type": "code",
   "execution_count": 19,
   "id": "classified-scheme",
   "metadata": {},
   "outputs": [],
   "source": [
    "mse=median_absolute_error(Y_test,Y_pred,multioutput='uniform_average')"
   ]
  },
  {
   "cell_type": "code",
   "execution_count": 21,
   "id": "large-mitchell",
   "metadata": {},
   "outputs": [
    {
     "name": "stdout",
     "output_type": "stream",
     "text": [
      "mse :  0.0\n"
     ]
    }
   ],
   "source": [
    "print(\"mse : \",mse)"
   ]
  },
  {
   "cell_type": "markdown",
   "id": "muslim-twenty",
   "metadata": {},
   "source": [
    "# 2-Classification Metrics"
   ]
  },
  {
   "cell_type": "markdown",
   "id": "determined-craps",
   "metadata": {},
   "source": [
    "#### 2.1-Confusion_matrix"
   ]
  },
  {
   "cell_type": "markdown",
   "id": "registered-eligibility",
   "metadata": {},
   "source": [
    "<img src=\"CM.jpeg\">"
   ]
  },
  {
   "cell_type": "code",
   "execution_count": null,
   "id": "unusual-relevance",
   "metadata": {},
   "outputs": [],
   "source": []
  }
 ],
 "metadata": {
  "kernelspec": {
   "display_name": "Python 3",
   "language": "python",
   "name": "python3"
  },
  "language_info": {
   "codemirror_mode": {
    "name": "ipython",
    "version": 3
   },
   "file_extension": ".py",
   "mimetype": "text/x-python",
   "name": "python",
   "nbconvert_exporter": "python",
   "pygments_lexer": "ipython3",
   "version": "3.8.1"
  }
 },
 "nbformat": 4,
 "nbformat_minor": 5
}
