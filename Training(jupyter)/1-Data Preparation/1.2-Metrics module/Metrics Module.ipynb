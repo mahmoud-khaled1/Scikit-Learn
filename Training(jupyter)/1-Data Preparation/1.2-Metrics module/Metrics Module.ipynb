{
 "cells": [
  {
   "cell_type": "markdown",
   "id": "different-abraham",
   "metadata": {},
   "source": [
    "# 1-Regression Metrics"
   ]
  },
  {
   "cell_type": "markdown",
   "id": "characteristic-broadcast",
   "metadata": {},
   "source": [
    "#### 1.1-Mean Absolute Error  "
   ]
  },
  {
   "cell_type": "markdown",
   "id": "dental-quality",
   "metadata": {},
   "source": [
    " <img src=\"MAE.png\">"
   ]
  },
  {
   "cell_type": "code",
   "execution_count": 3,
   "id": "combined-planet",
   "metadata": {},
   "outputs": [],
   "source": [
    "from sklearn.metrics import mean_absolute_error"
   ]
  },
  {
   "cell_type": "code",
   "execution_count": 10,
   "id": "studied-syria",
   "metadata": {},
   "outputs": [],
   "source": [
    "Y_test=[5,4,9,3,6]\n",
    "Y_pred=[5,3,9,4,6]"
   ]
  },
  {
   "cell_type": "code",
   "execution_count": 11,
   "id": "smooth-investment",
   "metadata": {},
   "outputs": [],
   "source": [
    "MAE=mean_absolute_error(Y_test,Y_pred,multioutput='uniform_average')"
   ]
  },
  {
   "cell_type": "code",
   "execution_count": 12,
   "id": "organic-screening",
   "metadata": {},
   "outputs": [
    {
     "name": "stdout",
     "output_type": "stream",
     "text": [
      "Mean Absolute Error :  0.4\n"
     ]
    }
   ],
   "source": [
    "print(\"Mean Absolute Error : \",MAE)"
   ]
  },
  {
   "cell_type": "markdown",
   "id": "olympic-detector",
   "metadata": {},
   "source": [
    "#### 1.2-Mean Squared Error "
   ]
  },
  {
   "cell_type": "markdown",
   "id": "plastic-organic",
   "metadata": {},
   "source": [
    " <img src=\"MSE.png\">"
   ]
  },
  {
   "cell_type": "code",
   "execution_count": 13,
   "id": "careful-fever",
   "metadata": {},
   "outputs": [],
   "source": [
    "from sklearn.metrics import mean_squared_error "
   ]
  },
  {
   "cell_type": "code",
   "execution_count": 14,
   "id": "suffering-moldova",
   "metadata": {},
   "outputs": [],
   "source": [
    "Y_test=[5,4,9,3,6]\n",
    "Y_pred=[5,3,9,4,6]"
   ]
  },
  {
   "cell_type": "code",
   "execution_count": 15,
   "id": "chronic-blade",
   "metadata": {},
   "outputs": [],
   "source": [
    "MSE=mean_squared_error(Y_test,Y_pred,multioutput='uniform_average')"
   ]
  },
  {
   "cell_type": "code",
   "execution_count": 22,
   "id": "referenced-terminal",
   "metadata": {},
   "outputs": [
    {
     "name": "stdout",
     "output_type": "stream",
     "text": [
      "MSE :  0.4\n"
     ]
    }
   ],
   "source": [
    "print(\"MSE : \",MSE)"
   ]
  },
  {
   "cell_type": "markdown",
   "id": "partial-oregon",
   "metadata": {},
   "source": [
    "#### 1.3-Median Absolute Error "
   ]
  },
  {
   "cell_type": "markdown",
   "id": "residential-replica",
   "metadata": {},
   "source": [
    "<img src=\"MAE2.png\">"
   ]
  },
  {
   "cell_type": "code",
   "execution_count": 17,
   "id": "polar-elephant",
   "metadata": {},
   "outputs": [],
   "source": [
    "from sklearn.metrics import median_absolute_error "
   ]
  },
  {
   "cell_type": "code",
   "execution_count": 18,
   "id": "fossil-welsh",
   "metadata": {},
   "outputs": [],
   "source": [
    "Y_test=[5,4,9,3,6]\n",
    "Y_pred=[5,3,9,4,6]"
   ]
  },
  {
   "cell_type": "code",
   "execution_count": 19,
   "id": "satellite-enterprise",
   "metadata": {},
   "outputs": [],
   "source": [
    "mse=median_absolute_error(Y_test,Y_pred,multioutput='uniform_average')"
   ]
  },
  {
   "cell_type": "code",
   "execution_count": 21,
   "id": "experimental-chaos",
   "metadata": {},
   "outputs": [
    {
     "name": "stdout",
     "output_type": "stream",
     "text": [
      "mse :  0.0\n"
     ]
    }
   ],
   "source": [
    "print(\"mse : \",mse)"
   ]
  },
  {
   "cell_type": "markdown",
   "id": "piano-smile",
   "metadata": {},
   "source": [
    "# 2-Classification Metrics"
   ]
  },
  {
   "cell_type": "markdown",
   "id": "eligible-racing",
   "metadata": {},
   "source": [
    "#### 2.1-Confusion_matrix"
   ]
  },
  {
   "cell_type": "markdown",
   "id": "hired-alignment",
   "metadata": {},
   "source": [
    "<img src=\"Confusion matrix.png\">"
   ]
  },
  {
   "cell_type": "code",
   "execution_count": null,
   "id": "emotional-generic",
   "metadata": {},
   "outputs": [],
   "source": []
  }
 ],
 "metadata": {
  "kernelspec": {
   "display_name": "Python 3",
   "language": "python",
   "name": "python3"
  },
  "language_info": {
   "codemirror_mode": {
    "name": "ipython",
    "version": 3
   },
   "file_extension": ".py",
   "mimetype": "text/x-python",
   "name": "python",
   "nbconvert_exporter": "python",
   "pygments_lexer": "ipython3",
   "version": "3.8.1"
  }
 },
 "nbformat": 4,
 "nbformat_minor": 5
}
