{
 "cells": [
  {
   "cell_type": "markdown",
   "id": "vital-entertainment",
   "metadata": {},
   "source": [
    "# 1-Regression Metrics"
   ]
  },
  {
   "cell_type": "markdown",
   "id": "textile-lexington",
   "metadata": {},
   "source": [
    "#### 1.1-Mean Absolute Error  "
   ]
  },
  {
   "cell_type": "markdown",
   "id": "toxic-fisher",
   "metadata": {},
   "source": [
    " <img src=\"MAE.png\">"
   ]
  },
  {
   "cell_type": "code",
   "execution_count": 3,
   "id": "bronze-radical",
   "metadata": {},
   "outputs": [],
   "source": [
    "from sklearn.metrics import mean_absolute_error"
   ]
  },
  {
   "cell_type": "code",
   "execution_count": 10,
   "id": "mature-rating",
   "metadata": {},
   "outputs": [],
   "source": [
    "Y_test=[5,4,9,3,6]\n",
    "Y_pred=[5,3,9,4,6]"
   ]
  },
  {
   "cell_type": "code",
   "execution_count": 11,
   "id": "considered-latex",
   "metadata": {},
   "outputs": [],
   "source": [
    "MAE=mean_absolute_error(Y_test,Y_pred,multioutput='uniform_average')"
   ]
  },
  {
   "cell_type": "code",
   "execution_count": 12,
   "id": "portuguese-deployment",
   "metadata": {},
   "outputs": [
    {
     "name": "stdout",
     "output_type": "stream",
     "text": [
      "Mean Absolute Error :  0.4\n"
     ]
    }
   ],
   "source": [
    "print(\"Mean Absolute Error : \",MAE)"
   ]
  },
  {
   "cell_type": "markdown",
   "id": "informed-flash",
   "metadata": {},
   "source": [
    "#### 1.2-Mean Squared Error "
   ]
  },
  {
   "cell_type": "markdown",
   "id": "plain-hometown",
   "metadata": {},
   "source": [
    " <img src=\"MSE.png\">"
   ]
  },
  {
   "cell_type": "code",
   "execution_count": 13,
   "id": "grateful-voluntary",
   "metadata": {},
   "outputs": [],
   "source": [
    "from sklearn.metrics import mean_squared_error "
   ]
  },
  {
   "cell_type": "code",
   "execution_count": 14,
   "id": "resistant-philip",
   "metadata": {},
   "outputs": [],
   "source": [
    "Y_test=[5,4,9,3,6]\n",
    "Y_pred=[5,3,9,4,6]"
   ]
  },
  {
   "cell_type": "code",
   "execution_count": 15,
   "id": "flush-welding",
   "metadata": {},
   "outputs": [],
   "source": [
    "MSE=mean_squared_error(Y_test,Y_pred,multioutput='uniform_average')"
   ]
  },
  {
   "cell_type": "code",
   "execution_count": 22,
   "id": "korean-march",
   "metadata": {},
   "outputs": [
    {
     "name": "stdout",
     "output_type": "stream",
     "text": [
      "MSE :  0.4\n"
     ]
    }
   ],
   "source": [
    "print(\"MSE : \",MSE)"
   ]
  },
  {
   "cell_type": "markdown",
   "id": "weekly-seller",
   "metadata": {},
   "source": [
    "#### 1.3-Median Absolute Error "
   ]
  },
  {
   "cell_type": "markdown",
   "id": "furnished-platform",
   "metadata": {},
   "source": [
    "<img src=\"MAE2.png\">"
   ]
  },
  {
   "cell_type": "code",
   "execution_count": 17,
   "id": "alternative-product",
   "metadata": {},
   "outputs": [],
   "source": [
    "from sklearn.metrics import median_absolute_error "
   ]
  },
  {
   "cell_type": "code",
   "execution_count": 18,
   "id": "valuable-administration",
   "metadata": {},
   "outputs": [],
   "source": [
    "Y_test=[5,4,9,3,6]\n",
    "Y_pred=[5,3,9,4,6]"
   ]
  },
  {
   "cell_type": "code",
   "execution_count": 19,
   "id": "sixth-diagram",
   "metadata": {},
   "outputs": [],
   "source": [
    "mse=median_absolute_error(Y_test,Y_pred,multioutput='uniform_average')"
   ]
  },
  {
   "cell_type": "code",
   "execution_count": 21,
   "id": "complicated-picnic",
   "metadata": {},
   "outputs": [
    {
     "name": "stdout",
     "output_type": "stream",
     "text": [
      "mse :  0.0\n"
     ]
    }
   ],
   "source": [
    "print(\"mse : \",mse)"
   ]
  },
  {
   "cell_type": "markdown",
   "id": "incredible-runner",
   "metadata": {},
   "source": [
    "# 2-Classification Metrics"
   ]
  },
  {
   "cell_type": "markdown",
   "id": "provincial-biotechnology",
   "metadata": {},
   "source": [
    "#### 2.1-Confusion_matrix"
   ]
  },
  {
   "cell_type": "markdown",
   "id": "charged-medicine",
   "metadata": {},
   "source": [
    "<img src=\"CM.jpeg\">"
   ]
  },
  {
   "cell_type": "code",
   "execution_count": 2,
   "id": "strong-breakfast",
   "metadata": {},
   "outputs": [],
   "source": [
    "from sklearn.metrics import confusion_matrix\n",
    "import matplotlib.pyplot as plt \n",
    "import seaborn as sns"
   ]
  },
  {
   "cell_type": "code",
   "execution_count": 6,
   "id": "weighted-brunei",
   "metadata": {},
   "outputs": [],
   "source": [
    "Y_test=[1,0,1,0,1,0,0]\n",
    "Y_pred=[1,0,1,0,0,1,0]"
   ]
  },
  {
   "cell_type": "code",
   "execution_count": 10,
   "id": "ready-council",
   "metadata": {},
   "outputs": [],
   "source": [
    "CM=confusion_matrix(Y_test,Y_pred)"
   ]
  },
  {
   "cell_type": "code",
   "execution_count": 12,
   "id": "diagnostic-violin",
   "metadata": {},
   "outputs": [
    {
     "name": "stdout",
     "output_type": "stream",
     "text": [
      "[[3 1]\n",
      " [1 2]]\n"
     ]
    }
   ],
   "source": [
    "print(CM)"
   ]
  },
  {
   "cell_type": "code",
   "execution_count": 11,
   "id": "convinced-corruption",
   "metadata": {},
   "outputs": [
    {
     "data": {
      "image/png": "[encoded data removed]",
      "text/plain": [
       "<Figure size 432x288 with 2 Axes>"
      ]
     },
     "metadata": {
      "needs_background": "light"
     },
     "output_type": "display_data"
    }
   ],
   "source": [
    "sns.heatmap(CM,center=True)\n",
    "plt.show()"
   ]
  },
  {
   "cell_type": "code",
   "execution_count": null,
   "id": "atmospheric-recall",
   "metadata": {},
   "outputs": [],
   "source": []
  }
 ],
 "metadata": {
  "kernelspec": {
   "display_name": "Python 3",
   "language": "python",
   "name": "python3"
  },
  "language_info": {
   "codemirror_mode": {
    "name": "ipython",
    "version": 3
   },
   "file_extension": ".py",
   "mimetype": "text/x-python",
   "name": "python",
   "nbconvert_exporter": "python",
   "pygments_lexer": "ipython3",
   "version": "3.8.1"
  }
 },
 "nbformat": 4,
 "nbformat_minor": 5
}
