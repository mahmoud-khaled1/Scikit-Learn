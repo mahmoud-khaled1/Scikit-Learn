{
 "cells": [
  {
   "cell_type": "markdown",
   "id": "heated-nylon",
   "metadata": {},
   "source": [
    "# DataSet Spliting"
   ]
  },
  {
   "cell_type": "markdown",
   "id": "clinical-capture",
   "metadata": {},
   "source": [
    "<img src=\"DataSplit.png\">"
   ]
  },
  {
   "cell_type": "markdown",
   "id": "alpine-brain",
   "metadata": {},
   "source": [
    "## 1-train_test_split"
   ]
  },
  {
   "cell_type": "code",
   "execution_count": 7,
   "id": "quiet-champagne",
   "metadata": {},
   "outputs": [],
   "source": [
    "from sklearn.model_selection import train_test_split"
   ]
  },
  {
   "cell_type": "code",
   "execution_count": 8,
   "id": "compact-safety",
   "metadata": {},
   "outputs": [],
   "source": [
    "from sklearn.datasets import load_breast_cancer"
   ]
  },
  {
   "cell_type": "code",
   "execution_count": 9,
   "id": "attractive-paint",
   "metadata": {},
   "outputs": [],
   "source": [
    "Breast_Cancer=load_breast_cancer()\n",
    "X=Breast_Cancer.data\n",
    "Y=Breast_Cancer.target"
   ]
  },
  {
   "cell_type": "code",
   "execution_count": 11,
   "id": "discrete-bachelor",
   "metadata": {},
   "outputs": [
    {
     "data": {
      "text/plain": [
       "(569, 30)"
      ]
     },
     "execution_count": 11,
     "metadata": {},
     "output_type": "execute_result"
    }
   ],
   "source": [
    "X.shape"
   ]
  },
  {
   "cell_type": "code",
   "execution_count": 21,
   "id": "saving-morris",
   "metadata": {},
   "outputs": [],
   "source": [
    "X_train,X_test,y_train,y_test=train_test_split(X,Y,random_state=44,test_size=0.2,shuffle=True)"
   ]
  },
  {
   "cell_type": "markdown",
   "id": "executive-psychiatry",
   "metadata": {},
   "source": [
    "Here We will splite Train dataset to train and validation "
   ]
  },
  {
   "cell_type": "code",
   "execution_count": 22,
   "id": "sized-continent",
   "metadata": {},
   "outputs": [],
   "source": [
    "X_train,X_val,y_train,y_val=train_test_split(X_train,y_train,random_state=44,test_size=0.2,shuffle=True)"
   ]
  },
  {
   "cell_type": "markdown",
   "id": "incorporate-luther",
   "metadata": {},
   "source": [
    "Now we Have Train , Test ,Validation data set Let's Explore them !"
   ]
  },
  {
   "cell_type": "code",
   "execution_count": 23,
   "id": "classical-gender",
   "metadata": {},
   "outputs": [
    {
     "name": "stdout",
     "output_type": "stream",
     "text": [
      "Train :  (364, 30)\n",
      "Test :  (114, 30)\n",
      "Validation :  (91, 30)\n"
     ]
    }
   ],
   "source": [
    "print(\"Train : \",X_train.shape)\n",
    "print(\"Test : \",X_test.shape)\n",
    "print(\"Validation : \",X_val.shape)"
   ]
  },
  {
   "cell_type": "markdown",
   "id": "chubby-naples",
   "metadata": {},
   "source": [
    "## 2-"
   ]
  }
 ],
 "metadata": {
  "kernelspec": {
   "display_name": "Python 3",
   "language": "python",
   "name": "python3"
  },
  "language_info": {
   "codemirror_mode": {
    "name": "ipython",
    "version": 3
   },
   "file_extension": ".py",
   "mimetype": "text/x-python",
   "name": "python",
   "nbconvert_exporter": "python",
   "pygments_lexer": "ipython3",
   "version": "3.8.1"
  }
 },
 "nbformat": 4,
 "nbformat_minor": 5
}
