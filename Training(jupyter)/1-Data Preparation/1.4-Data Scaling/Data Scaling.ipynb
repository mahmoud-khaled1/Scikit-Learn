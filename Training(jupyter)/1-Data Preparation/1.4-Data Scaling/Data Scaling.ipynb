{
 "cells": [
  {
   "cell_type": "markdown",
   "id": "rough-museum",
   "metadata": {},
   "source": [
    "#### 1-Standard Scaler "
   ]
  },
  {
   "cell_type": "markdown",
   "id": "competent-divide",
   "metadata": {},
   "source": [
    "<img src=\"Standard Scaler.png\">"
   ]
  },
  {
   "cell_type": "code",
   "execution_count": 1,
   "id": "pressed-tower",
   "metadata": {},
   "outputs": [],
   "source": [
    "from sklearn.preprocessing import StandardScaler "
   ]
  },
  {
   "cell_type": "code",
   "execution_count": 9,
   "id": "medieval-rocket",
   "metadata": {},
   "outputs": [],
   "source": [
    " X=[[10,14],\n",
    "    [2,5],\n",
    "    [6,99],\n",
    "    [8,10]]"
   ]
  },
  {
   "cell_type": "code",
   "execution_count": 10,
   "id": "necessary-sugar",
   "metadata": {},
   "outputs": [],
   "source": [
    "Scaler=StandardScaler(copy=True,with_mean=True,with_std=True)"
   ]
  },
  {
   "cell_type": "code",
   "execution_count": 11,
   "id": "afraid-enzyme",
   "metadata": {},
   "outputs": [],
   "source": [
    "X=Scaler.fit_transform(X)"
   ]
  },
  {
   "cell_type": "code",
   "execution_count": 12,
   "id": "declared-garbage",
   "metadata": {},
   "outputs": [
    {
     "name": "stdout",
     "output_type": "stream",
     "text": [
      "X after Scalling : \n",
      "  [[ 1.18321596 -0.46375429]\n",
      " [-1.52127766 -0.69563143]\n",
      " [-0.16903085  1.72619651]\n",
      " [ 0.50709255 -0.56681079]]\n"
     ]
    }
   ],
   "source": [
    "print(\"X after Scalling : \\n \",X)"
   ]
  },
  {
   "cell_type": "markdown",
   "id": "serial-ecology",
   "metadata": {},
   "source": [
    "#### 2-MinMax Sacler"
   ]
  },
  {
   "cell_type": "markdown",
   "id": "revised-nancy",
   "metadata": {},
   "source": [
    "<img src=\"Min Max .png\">"
   ]
  },
  {
   "cell_type": "code",
   "execution_count": 19,
   "id": "palestinian-modeling",
   "metadata": {},
   "outputs": [],
   "source": [
    "from sklearn.preprocessing import MinMaxScaler"
   ]
  },
  {
   "cell_type": "code",
   "execution_count": 20,
   "id": "broke-reply",
   "metadata": {},
   "outputs": [],
   "source": [
    " X=[[10,14],\n",
    "    [2,5],\n",
    "    [6,99],\n",
    "    [8,10]]"
   ]
  },
  {
   "cell_type": "code",
   "execution_count": 21,
   "id": "entertaining-commitment",
   "metadata": {},
   "outputs": [],
   "source": [
    "MinMaxScaler=MinMaxScaler(copy=True,feature_range=(0,1)) #feature_range what is the range of data want "
   ]
  },
  {
   "cell_type": "code",
   "execution_count": 22,
   "id": "directed-nutrition",
   "metadata": {},
   "outputs": [],
   "source": [
    "X=MinMaxScaler.fit_transform(X)"
   ]
  },
  {
   "cell_type": "code",
   "execution_count": 23,
   "id": "fluid-absolute",
   "metadata": {},
   "outputs": [
    {
     "name": "stdout",
     "output_type": "stream",
     "text": [
      "X after Scaling : \n",
      " [[1.         0.09574468]\n",
      " [0.         0.        ]\n",
      " [0.5        1.        ]\n",
      " [0.75       0.05319149]]\n"
     ]
    }
   ],
   "source": [
    "print(\"X after Scaling : \\n\",X)"
   ]
  },
  {
   "cell_type": "code",
   "execution_count": 24,
   "id": "nominated-introduction",
   "metadata": {},
   "outputs": [
    {
     "name": "stdout",
     "output_type": "stream",
     "text": [
      "Min : [2. 5.]\n"
     ]
    }
   ],
   "source": [
    "print(\"Min :\",MinMaxScaler.data_min_)"
   ]
  },
  {
   "cell_type": "code",
   "execution_count": 25,
   "id": "creative-investigation",
   "metadata": {},
   "outputs": [
    {
     "name": "stdout",
     "output_type": "stream",
     "text": [
      "Max :  [10. 99.]\n"
     ]
    }
   ],
   "source": [
    "print(\"Max : \",MinMaxScaler.data_max_)"
   ]
  },
  {
   "cell_type": "code",
   "execution_count": null,
   "id": "electric-briefs",
   "metadata": {},
   "outputs": [],
   "source": []
  }
 ],
 "metadata": {
  "kernelspec": {
   "display_name": "Python 3",
   "language": "python",
   "name": "python3"
  },
  "language_info": {
   "codemirror_mode": {
    "name": "ipython",
    "version": 3
   },
   "file_extension": ".py",
   "mimetype": "text/x-python",
   "name": "python",
   "nbconvert_exporter": "python",
   "pygments_lexer": "ipython3",
   "version": "3.8.1"
  }
 },
 "nbformat": 4,
 "nbformat_minor": 5
}
