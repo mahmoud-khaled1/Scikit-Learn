{
 "cells": [
  {
   "cell_type": "markdown",
   "id": "ideal-electron",
   "metadata": {},
   "source": [
    "## 1-Standard Scaler "
   ]
  },
  {
   "cell_type": "markdown",
   "id": "thick-therapy",
   "metadata": {},
   "source": [
    "<img src=\"Standard Scaler.png\">"
   ]
  },
  {
   "cell_type": "code",
   "execution_count": 1,
   "id": "improving-techno",
   "metadata": {},
   "outputs": [],
   "source": [
    "from sklearn.preprocessing import StandardScaler "
   ]
  },
  {
   "cell_type": "code",
   "execution_count": 9,
   "id": "secret-office",
   "metadata": {},
   "outputs": [],
   "source": [
    " X=[[10,14],\n",
    "    [2,5],\n",
    "    [6,99],\n",
    "    [8,10]]"
   ]
  },
  {
   "cell_type": "code",
   "execution_count": 10,
   "id": "naked-cricket",
   "metadata": {},
   "outputs": [],
   "source": [
    "Scaler=StandardScaler(copy=True,with_mean=True,with_std=True)"
   ]
  },
  {
   "cell_type": "code",
   "execution_count": 11,
   "id": "square-palace",
   "metadata": {},
   "outputs": [],
   "source": [
    "X=Scaler.fit_transform(X)"
   ]
  },
  {
   "cell_type": "code",
   "execution_count": 12,
   "id": "derived-filename",
   "metadata": {},
   "outputs": [
    {
     "name": "stdout",
     "output_type": "stream",
     "text": [
      "X after Scalling : \n",
      "  [[ 1.18321596 -0.46375429]\n",
      " [-1.52127766 -0.69563143]\n",
      " [-0.16903085  1.72619651]\n",
      " [ 0.50709255 -0.56681079]]\n"
     ]
    }
   ],
   "source": [
    "print(\"X after Scalling : \\n \",X)"
   ]
  },
  {
   "cell_type": "markdown",
   "id": "dying-cigarette",
   "metadata": {},
   "source": [
    "## 2-MinMax Sacler"
   ]
  },
  {
   "cell_type": "markdown",
   "id": "mineral-platform",
   "metadata": {},
   "source": [
    "<img src=\"Min Max .png\">"
   ]
  },
  {
   "cell_type": "code",
   "execution_count": 19,
   "id": "raised-fitness",
   "metadata": {},
   "outputs": [],
   "source": [
    "from sklearn.preprocessing import MinMaxScaler"
   ]
  },
  {
   "cell_type": "code",
   "execution_count": 20,
   "id": "soviet-jones",
   "metadata": {},
   "outputs": [],
   "source": [
    " X=[[10,14],\n",
    "    [2,5],\n",
    "    [6,99],\n",
    "    [8,10]]"
   ]
  },
  {
   "cell_type": "code",
   "execution_count": 21,
   "id": "closed-comment",
   "metadata": {},
   "outputs": [],
   "source": [
    "MinMaxScaler=MinMaxScaler(copy=True,feature_range=(0,1)) #feature_range what is the range of data want "
   ]
  },
  {
   "cell_type": "code",
   "execution_count": 22,
   "id": "minimal-marine",
   "metadata": {},
   "outputs": [],
   "source": [
    "X=MinMaxScaler.fit_transform(X)"
   ]
  },
  {
   "cell_type": "code",
   "execution_count": 23,
   "id": "phantom-bicycle",
   "metadata": {},
   "outputs": [
    {
     "name": "stdout",
     "output_type": "stream",
     "text": [
      "X after Scaling : \n",
      " [[1.         0.09574468]\n",
      " [0.         0.        ]\n",
      " [0.5        1.        ]\n",
      " [0.75       0.05319149]]\n"
     ]
    }
   ],
   "source": [
    "print(\"X after Scaling : \\n\",X)"
   ]
  },
  {
   "cell_type": "code",
   "execution_count": 24,
   "id": "paperback-degree",
   "metadata": {},
   "outputs": [
    {
     "name": "stdout",
     "output_type": "stream",
     "text": [
      "Min : [2. 5.]\n"
     ]
    }
   ],
   "source": [
    "print(\"Min :\",MinMaxScaler.data_min_)"
   ]
  },
  {
   "cell_type": "code",
   "execution_count": 25,
   "id": "corresponding-rogers",
   "metadata": {},
   "outputs": [
    {
     "name": "stdout",
     "output_type": "stream",
     "text": [
      "Max :  [10. 99.]\n"
     ]
    }
   ],
   "source": [
    "print(\"Max : \",MinMaxScaler.data_max_)"
   ]
  },
  {
   "cell_type": "markdown",
   "id": "adapted-requirement",
   "metadata": {},
   "source": [
    "## 4-Normalizer"
   ]
  },
  {
   "cell_type": "code",
   "execution_count": 27,
   "id": "finite-forward",
   "metadata": {},
   "outputs": [],
   "source": [
    "from sklearn.preprocessing import Normalizer"
   ]
  },
  {
   "cell_type": "code",
   "execution_count": 28,
   "id": "genetic-trinidad",
   "metadata": {},
   "outputs": [],
   "source": [
    " X=[[10,14],\n",
    "    [2,5],\n",
    "    [6,99],\n",
    "    [8,10]]"
   ]
  },
  {
   "cell_type": "code",
   "execution_count": 29,
   "id": "comfortable-killer",
   "metadata": {},
   "outputs": [],
   "source": [
    "Norm=Normalizer(norm='max') #norm can be max , L1 , L2  default=’l2’"
   ]
  },
  {
   "cell_type": "code",
   "execution_count": 30,
   "id": "moral-biotechnology",
   "metadata": {},
   "outputs": [],
   "source": [
    "X=Norm.fit_transform(X)"
   ]
  },
  {
   "cell_type": "code",
   "execution_count": 31,
   "id": "stainless-sandwich",
   "metadata": {},
   "outputs": [
    {
     "name": "stdout",
     "output_type": "stream",
     "text": [
      "X After Scaling :\n",
      "  [[0.71428571 1.        ]\n",
      " [0.4        1.        ]\n",
      " [0.06060606 1.        ]\n",
      " [0.8        1.        ]]\n"
     ]
    }
   ],
   "source": [
    "print(\"X After Scaling :\\n \",X)"
   ]
  },
  {
   "cell_type": "code",
   "execution_count": null,
   "id": "binary-ceiling",
   "metadata": {},
   "outputs": [],
   "source": []
  }
 ],
 "metadata": {
  "kernelspec": {
   "display_name": "Python 3",
   "language": "python",
   "name": "python3"
  },
  "language_info": {
   "codemirror_mode": {
    "name": "ipython",
    "version": 3
   },
   "file_extension": ".py",
   "mimetype": "text/x-python",
   "name": "python",
   "nbconvert_exporter": "python",
   "pygments_lexer": "ipython3",
   "version": "3.8.1"
  }
 },
 "nbformat": 4,
 "nbformat_minor": 5
}
