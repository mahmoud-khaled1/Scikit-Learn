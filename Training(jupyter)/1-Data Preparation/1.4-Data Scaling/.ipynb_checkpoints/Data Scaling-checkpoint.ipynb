{
 "cells": [
  {
   "cell_type": "markdown",
   "id": "experienced-barrel",
   "metadata": {},
   "source": [
    "## 1-Standard Scaler "
   ]
  },
  {
   "cell_type": "markdown",
   "id": "moral-montgomery",
   "metadata": {},
   "source": [
    "<img src=\"Standard Scaler.png\">"
   ]
  },
  {
   "cell_type": "code",
   "execution_count": 1,
   "id": "annoying-remedy",
   "metadata": {},
   "outputs": [],
   "source": [
    "from sklearn.preprocessing import StandardScaler "
   ]
  },
  {
   "cell_type": "code",
   "execution_count": 9,
   "id": "above-aluminum",
   "metadata": {},
   "outputs": [],
   "source": [
    " X=[[10,14],\n",
    "    [2,5],\n",
    "    [6,99],\n",
    "    [8,10]]"
   ]
  },
  {
   "cell_type": "code",
   "execution_count": 10,
   "id": "mental-fight",
   "metadata": {},
   "outputs": [],
   "source": [
    "Scaler=StandardScaler(copy=True,with_mean=True,with_std=True)"
   ]
  },
  {
   "cell_type": "code",
   "execution_count": 11,
   "id": "underlying-cliff",
   "metadata": {},
   "outputs": [],
   "source": [
    "X=Scaler.fit_transform(X)"
   ]
  },
  {
   "cell_type": "code",
   "execution_count": 12,
   "id": "nervous-module",
   "metadata": {},
   "outputs": [
    {
     "name": "stdout",
     "output_type": "stream",
     "text": [
      "X after Scalling : \n",
      "  [[ 1.18321596 -0.46375429]\n",
      " [-1.52127766 -0.69563143]\n",
      " [-0.16903085  1.72619651]\n",
      " [ 0.50709255 -0.56681079]]\n"
     ]
    }
   ],
   "source": [
    "print(\"X after Scalling : \\n \",X)"
   ]
  },
  {
   "cell_type": "markdown",
   "id": "atmospheric-satellite",
   "metadata": {},
   "source": [
    "## 2-MinMax Sacler"
   ]
  },
  {
   "cell_type": "markdown",
   "id": "fancy-valley",
   "metadata": {},
   "source": [
    "<img src=\"Min Max .png\">"
   ]
  },
  {
   "cell_type": "code",
   "execution_count": 19,
   "id": "toxic-chile",
   "metadata": {},
   "outputs": [],
   "source": [
    "from sklearn.preprocessing import MinMaxScaler"
   ]
  },
  {
   "cell_type": "code",
   "execution_count": 20,
   "id": "smoking-sleeping",
   "metadata": {},
   "outputs": [],
   "source": [
    " X=[[10,14],\n",
    "    [2,5],\n",
    "    [6,99],\n",
    "    [8,10]]"
   ]
  },
  {
   "cell_type": "code",
   "execution_count": 21,
   "id": "valuable-champion",
   "metadata": {},
   "outputs": [],
   "source": [
    "MinMaxScaler=MinMaxScaler(copy=True,feature_range=(0,1)) #feature_range what is the range of data want "
   ]
  },
  {
   "cell_type": "code",
   "execution_count": 22,
   "id": "empty-prague",
   "metadata": {},
   "outputs": [],
   "source": [
    "X=MinMaxScaler.fit_transform(X)"
   ]
  },
  {
   "cell_type": "code",
   "execution_count": 23,
   "id": "controlled-proposal",
   "metadata": {},
   "outputs": [
    {
     "name": "stdout",
     "output_type": "stream",
     "text": [
      "X after Scaling : \n",
      " [[1.         0.09574468]\n",
      " [0.         0.        ]\n",
      " [0.5        1.        ]\n",
      " [0.75       0.05319149]]\n"
     ]
    }
   ],
   "source": [
    "print(\"X after Scaling : \\n\",X)"
   ]
  },
  {
   "cell_type": "code",
   "execution_count": 24,
   "id": "featured-running",
   "metadata": {},
   "outputs": [
    {
     "name": "stdout",
     "output_type": "stream",
     "text": [
      "Min : [2. 5.]\n"
     ]
    }
   ],
   "source": [
    "print(\"Min :\",MinMaxScaler.data_min_)"
   ]
  },
  {
   "cell_type": "code",
   "execution_count": 25,
   "id": "complimentary-representation",
   "metadata": {},
   "outputs": [
    {
     "name": "stdout",
     "output_type": "stream",
     "text": [
      "Max :  [10. 99.]\n"
     ]
    }
   ],
   "source": [
    "print(\"Max : \",MinMaxScaler.data_max_)"
   ]
  },
  {
   "cell_type": "markdown",
   "id": "turned-gateway",
   "metadata": {},
   "source": [
    "## 4-Normalizer"
   ]
  },
  {
   "cell_type": "code",
   "execution_count": 27,
   "id": "color-substance",
   "metadata": {},
   "outputs": [],
   "source": [
    "from sklearn.preprocessing import Normalizer"
   ]
  },
  {
   "cell_type": "code",
   "execution_count": 28,
   "id": "informational-peninsula",
   "metadata": {},
   "outputs": [],
   "source": [
    " X=[[10,14],\n",
    "    [2,5],\n",
    "    [6,99],\n",
    "    [8,10]]"
   ]
  },
  {
   "cell_type": "code",
   "execution_count": 29,
   "id": "scheduled-bermuda",
   "metadata": {},
   "outputs": [],
   "source": [
    "Norm=Normalizer(norm='max') #norm can be max , L1 , L2  default=’l2’"
   ]
  },
  {
   "cell_type": "code",
   "execution_count": 30,
   "id": "honest-lloyd",
   "metadata": {},
   "outputs": [],
   "source": [
    "X=Norm.fit_transform(X)"
   ]
  },
  {
   "cell_type": "code",
   "execution_count": 31,
   "id": "soviet-stick",
   "metadata": {},
   "outputs": [
    {
     "name": "stdout",
     "output_type": "stream",
     "text": [
      "X After Scaling :\n",
      "  [[0.71428571 1.        ]\n",
      " [0.4        1.        ]\n",
      " [0.06060606 1.        ]\n",
      " [0.8        1.        ]]\n"
     ]
    }
   ],
   "source": [
    "print(\"X After Scaling :\\n \",X)"
   ]
  },
  {
   "cell_type": "markdown",
   "id": "organized-living",
   "metadata": {},
   "source": [
    "## 5-Function Transformer "
   ]
  },
  {
   "cell_type": "markdown",
   "id": "authorized-sheep",
   "metadata": {},
   "source": [
    "You Create Ypu own function to make scaling to dataset ."
   ]
  },
  {
   "cell_type": "code",
   "execution_count": 32,
   "id": "virtual-geology",
   "metadata": {},
   "outputs": [],
   "source": [
    "from sklearn.preprocessing import FunctionTransformer"
   ]
  },
  {
   "cell_type": "code",
   "execution_count": 33,
   "id": "healthy-centre",
   "metadata": {},
   "outputs": [],
   "source": [
    " X=[[10,14],\n",
    "    [2,5],\n",
    "    [6,99],\n",
    "    [8,10]]"
   ]
  },
  {
   "cell_type": "code",
   "execution_count": 37,
   "id": "fancy-circumstances",
   "metadata": {},
   "outputs": [],
   "source": [
    "Scalerr=FunctionTransformer(func=lambda x:x**0.1,validate=True)"
   ]
  },
  {
   "cell_type": "code",
   "execution_count": 38,
   "id": "valued-slovenia",
   "metadata": {},
   "outputs": [],
   "source": [
    "X=Scalerr.fit_transform(X)"
   ]
  },
  {
   "cell_type": "code",
   "execution_count": 39,
   "id": "residential-variety",
   "metadata": {},
   "outputs": [
    {
     "name": "stdout",
     "output_type": "stream",
     "text": [
      "X After Scaling :\n",
      " [[1.58489319 1.6952182 ]\n",
      " [1.14869835 1.37972966]\n",
      " [1.43096908 2.50684244]\n",
      " [1.51571657 1.58489319]]\n"
     ]
    }
   ],
   "source": [
    "print(\"X After Scaling :\\n\",X)"
   ]
  },
  {
   "cell_type": "code",
   "execution_count": null,
   "id": "filled-bidding",
   "metadata": {},
   "outputs": [],
   "source": []
  }
 ],
 "metadata": {
  "kernelspec": {
   "display_name": "Python 3",
   "language": "python",
   "name": "python3"
  },
  "language_info": {
   "codemirror_mode": {
    "name": "ipython",
    "version": 3
   },
   "file_extension": ".py",
   "mimetype": "text/x-python",
   "name": "python",
   "nbconvert_exporter": "python",
   "pygments_lexer": "ipython3",
   "version": "3.8.1"
  }
 },
 "nbformat": 4,
 "nbformat_minor": 5
}
