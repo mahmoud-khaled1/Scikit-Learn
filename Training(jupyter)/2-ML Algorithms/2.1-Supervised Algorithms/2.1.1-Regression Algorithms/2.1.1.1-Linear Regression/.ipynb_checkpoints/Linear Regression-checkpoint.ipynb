{
 "cells": [
  {
   "cell_type": "markdown",
   "id": "primary-external",
   "metadata": {},
   "source": [
    "## 1-Linear Regression "
   ]
  },
  {
   "cell_type": "markdown",
   "id": "necessary-trading",
   "metadata": {},
   "source": [
    "Linear regression is the simplest and most widely used statistical technique for predictive modeling. It basically gives us an equation, where we have our features as independent variables, on which our target variable [sales in our case] is dependent upon.\n",
    "this model just regression without using any regularization .\n",
    "So what does the equation look like? Linear regression equation looks like this:\n"
   ]
  },
  {
   "cell_type": "markdown",
   "id": "acute-marathon",
   "metadata": {},
   "source": [
    "<img src=\"Capture.PNG\">"
   ]
  },
  {
   "cell_type": "code",
   "execution_count": 12,
   "id": "cathedral-samuel",
   "metadata": {},
   "outputs": [],
   "source": [
    "from sklearn.linear_model import LinearRegression\n",
    "from sklearn.metrics import mean_absolute_error\n",
    "from sklearn.metrics import median_absolute_error\n",
    "from sklearn.metrics import mean_squared_error\n",
    "import pandas as pd \n",
    "import numpy as np \n",
    "import matplotlib.pyplot as plt \n",
    "from sklearn.datasets import load_boston\n",
    "from sklearn.model_selection import train_test_split"
   ]
  },
  {
   "cell_type": "code",
   "execution_count": 13,
   "id": "norman-storage",
   "metadata": {},
   "outputs": [],
   "source": [
    "BostonData=load_boston()"
   ]
  },
  {
   "cell_type": "code",
   "execution_count": 14,
   "id": "supreme-survey",
   "metadata": {},
   "outputs": [],
   "source": [
    "X=BostonData.data\n",
    "Y=BostonData.target"
   ]
  },
  {
   "cell_type": "code",
   "execution_count": 15,
   "id": "crude-bacon",
   "metadata": {},
   "outputs": [],
   "source": [
    "X_train,X_test,y_train,y_test=train_test_split(X,Y,test_size=0.2,shuffle=True,random_state=44)"
   ]
  },
  {
   "cell_type": "code",
   "execution_count": 35,
   "id": "obvious-columbus",
   "metadata": {},
   "outputs": [
    {
     "data": {
      "text/plain": [
       "'\\nsklearn.linear_model.LinearRegression(*, fit_intercept=True, normalize=False,\\ncopy_X=True, n_jobs=None)\\n'"
      ]
     },
     "execution_count": 35,
     "metadata": {},
     "output_type": "execute_result"
    }
   ],
   "source": [
    "\"\"\"\n",
    "sklearn.linear_model.LinearRegression(*, fit_intercept=True, normalize=False,\n",
    "copy_X=True, n_jobs=None)\n",
    "\"\"\""
   ]
  },
  {
   "cell_type": "code",
   "execution_count": 16,
   "id": "protective-disclaimer",
   "metadata": {},
   "outputs": [
    {
     "data": {
      "text/plain": [
       "LinearRegression(n_jobs=-1, normalize=True)"
      ]
     },
     "execution_count": 16,
     "metadata": {},
     "output_type": "execute_result"
    }
   ],
   "source": [
    "LinearRegressionModel=LinearRegression(copy_X=True,n_jobs=-1,normalize=True,fit_intercept=True)\n",
    "LinearRegressionModel.fit(X_train,y_train)"
   ]
  },
  {
   "cell_type": "code",
   "execution_count": 17,
   "id": "secure-divide",
   "metadata": {},
   "outputs": [
    {
     "name": "stdout",
     "output_type": "stream",
     "text": [
      "Train Score :  0.733565792886427\n",
      "Test Score :  0.7521800808693158\n",
      "Model Coef :  [-1.18000933e-01  5.23312473e-02 -3.42698066e-03  3.27003752e+00\n",
      " -1.97085281e+01  3.11609207e+00  1.98406750e-03 -1.78381648e+00\n",
      "  3.08103483e-01 -1.11789998e-02 -9.60997408e-01  1.00743448e-02\n",
      " -5.75953939e-01]\n"
     ]
    }
   ],
   "source": [
    "print(\"Train Score : \",LinearRegressionModel.score(X_train,y_train))\n",
    "print(\"Test Score : \",LinearRegressionModel.score(X_test,y_test))\n",
    "print(\"Model Coef : \",LinearRegressionModel.coef_)"
   ]
  },
  {
   "cell_type": "code",
   "execution_count": 18,
   "id": "genetic-teach",
   "metadata": {},
   "outputs": [],
   "source": [
    "Pred=LinearRegressionModel.predict(X_test)"
   ]
  },
  {
   "cell_type": "code",
   "execution_count": 21,
   "id": "competent-strain",
   "metadata": {},
   "outputs": [
    {
     "name": "stdout",
     "output_type": "stream",
     "text": [
      "[17.44218075 25.56161457 22.26808304 37.06364051 13.87846166]\n",
      "[17.8 21.5 21.2 32.4 10.9]\n"
     ]
    }
   ],
   "source": [
    "print(Pred[:5])\n",
    "print(y_test[:5])"
   ]
  },
  {
   "cell_type": "markdown",
   "id": "stylish-morning",
   "metadata": {},
   "source": [
    "## 2-Ridge Regression "
   ]
  },
  {
   "cell_type": "markdown",
   "id": "stylish-bikini",
   "metadata": {},
   "source": [
    "Ridge Regression is a technique for analyzing multiple regression data that suffer from multicollinearity. ... By adding a degree of bias to the regression estimates, ridge regression reduces the standard errors. It is hoped that the net effect will be to give estimates that are more reliable.\n",
    "and use  regularization on it ."
   ]
  },
  {
   "cell_type": "code",
   "execution_count": 2,
   "id": "average-banking",
   "metadata": {},
   "outputs": [],
   "source": [
    "from sklearn.linear_model import Ridge\n",
    "from sklearn.metrics import mean_absolute_error\n",
    "from sklearn.metrics import median_absolute_error\n",
    "from sklearn.metrics import mean_squared_error\n",
    "import pandas as pd \n",
    "import numpy as np \n",
    "import matplotlib.pyplot as plt \n",
    "from sklearn.datasets import load_boston\n",
    "from sklearn.model_selection import train_test_split\n"
   ]
  },
  {
   "cell_type": "code",
   "execution_count": 3,
   "id": "potential-treasure",
   "metadata": {},
   "outputs": [],
   "source": [
    "Boston=load_boston()\n",
    "X=Boston.data\n",
    "Y=Boston.target"
   ]
  },
  {
   "cell_type": "code",
   "execution_count": 4,
   "id": "comparative-connection",
   "metadata": {},
   "outputs": [
    {
     "data": {
      "text/plain": [
       "(506, 13)"
      ]
     },
     "execution_count": 4,
     "metadata": {},
     "output_type": "execute_result"
    }
   ],
   "source": [
    "X.shape"
   ]
  },
  {
   "cell_type": "code",
   "execution_count": 5,
   "id": "placed-burns",
   "metadata": {},
   "outputs": [
    {
     "data": {
      "text/plain": [
       "(506,)"
      ]
     },
     "execution_count": 5,
     "metadata": {},
     "output_type": "execute_result"
    }
   ],
   "source": [
    "Y.shape"
   ]
  },
  {
   "cell_type": "code",
   "execution_count": 6,
   "id": "intellectual-charles",
   "metadata": {},
   "outputs": [],
   "source": [
    "X_train,X_test,y_train,y_test=train_test_split(X,Y,test_size=0.2,shuffle=True,random_state=44)"
   ]
  },
  {
   "cell_type": "code",
   "execution_count": 7,
   "id": "insured-hungary",
   "metadata": {},
   "outputs": [
    {
     "data": {
      "text/plain": [
       "'\\nsklearn.linear_model.Ridge(alpha=1.0, *, fit_intercept=True, normalize=False,\\ncopy_X=True, max_iter=None, tol=0.001, solver=’auto’,\\nrandom_state=None)\\n'"
      ]
     },
     "execution_count": 7,
     "metadata": {},
     "output_type": "execute_result"
    }
   ],
   "source": [
    "\"\"\"\n",
    "sklearn.linear_model.Ridge(alpha=1.0, *, fit_intercept=True, normalize=False,\n",
    "copy_X=True, max_iter=None, tol=0.001, solver=’auto’,\n",
    "random_state=None)\n",
    "\"\"\" "
   ]
  },
  {
   "cell_type": "code",
   "execution_count": 30,
   "id": "classical-supervision",
   "metadata": {},
   "outputs": [],
   "source": [
    "RigdeLinearRegression=Ridge(alpha=0.001,random_state=44,normalize=True)"
   ]
  },
  {
   "cell_type": "code",
   "execution_count": 31,
   "id": "pediatric-attribute",
   "metadata": {},
   "outputs": [
    {
     "data": {
      "text/plain": [
       "Ridge(alpha=0.001, normalize=True, random_state=44)"
      ]
     },
     "execution_count": 31,
     "metadata": {},
     "output_type": "execute_result"
    }
   ],
   "source": [
    "RigdeLinearRegression.fit(X_train,y_train)"
   ]
  },
  {
   "cell_type": "code",
   "execution_count": 32,
   "id": "centered-alarm",
   "metadata": {},
   "outputs": [
    {
     "name": "stdout",
     "output_type": "stream",
     "text": [
      "Train Score :  0.7335621414182676\n",
      "Test Score :  0.7526186896951919\n",
      "Model Coef :  [-1.17315950e-01  5.18725055e-02 -4.92777610e-03  3.27659589e+00\n",
      " -1.95679579e+01  3.12450089e+00  1.86736826e-03 -1.77468317e+00\n",
      "  3.03976981e-01 -1.09879936e-02 -9.59181799e-01  1.00717829e-02\n",
      " -5.74824835e-01]\n"
     ]
    }
   ],
   "source": [
    "print(\"Train Score : \",RigdeLinearRegression.score(X_train,y_train))\n",
    "print(\"Test Score : \",RigdeLinearRegression.score(X_test,y_test))\n",
    "print(\"Model Coef : \",RigdeLinearRegression.coef_)"
   ]
  },
  {
   "cell_type": "code",
   "execution_count": 33,
   "id": "corrected-tablet",
   "metadata": {},
   "outputs": [],
   "source": [
    "Pred=RigdeLinearRegression.predict(X_test)"
   ]
  },
  {
   "cell_type": "code",
   "execution_count": 34,
   "id": "opposed-beverage",
   "metadata": {},
   "outputs": [
    {
     "name": "stdout",
     "output_type": "stream",
     "text": [
      "[17.45110884 25.54717191 22.2605587  37.03815952 13.88961397]\n",
      "[17.8 21.5 21.2 32.4 10.9]\n"
     ]
    }
   ],
   "source": [
    "print(Pred[:5])\n",
    "print(y_test[:5])"
   ]
  },
  {
   "cell_type": "markdown",
   "id": "secret-involvement",
   "metadata": {},
   "source": [
    "# 3-Lasso Regression "
   ]
  },
  {
   "cell_type": "markdown",
   "id": "outstanding-stream",
   "metadata": {},
   "source": [
    "Lasso regression is a type of linear regression that uses shrinkage. Shrinkage is where data values are shrunk towards a central point, like the mean. The lasso procedure encourages simple, sparse models (i.e. models with fewer parameters). This particular type of regression is well-suited for models showing high levels of muticollinearity or when you want to automate certain parts of model selection, like variable selection/parameter elimination.\n",
    "\n"
   ]
  },
  {
   "cell_type": "code",
   "execution_count": 36,
   "id": "acceptable-orleans",
   "metadata": {},
   "outputs": [],
   "source": [
    "from sklearn.linear_model import Lasso\n",
    "from sklearn.metrics import mean_absolute_error\n",
    "from sklearn.metrics import median_absolute_error\n",
    "from sklearn.metrics import mean_squared_error\n",
    "import pandas as pd \n",
    "import numpy as np \n",
    "import matplotlib.pyplot as plt \n",
    "from sklearn.datasets import load_boston\n",
    "from sklearn.model_selection import train_test_split\n"
   ]
  },
  {
   "cell_type": "code",
   "execution_count": 37,
   "id": "spanish-romance",
   "metadata": {},
   "outputs": [
    {
     "data": {
      "text/plain": [
       "'\\nsklearn.linear_model.Lasso(alpha=1.0, *, fit_intercept=True, normalize=False, precompute=False, copy_X=True, max_iter=1000, tol=0.0001,\\nwarm_start=False, positive=False, random_state=None, selection=’cyclic’)\\n\\n'"
      ]
     },
     "execution_count": 37,
     "metadata": {},
     "output_type": "execute_result"
    }
   ],
   "source": [
    "\"\"\"\n",
    "sklearn.linear_model.Lasso(alpha=1.0, *, fit_intercept=True, normalize=False, precompute=False, copy_X=True, max_iter=1000, tol=0.0001,\n",
    "warm_start=False, positive=False, random_state=None, selection=’cyclic’)\n",
    "\n",
    "\"\"\""
   ]
  },
  {
   "cell_type": "code",
   "execution_count": 38,
   "id": "civilian-consistency",
   "metadata": {},
   "outputs": [],
   "source": [
    "Boston=load_boston()\n",
    "X=Boston.data\n",
    "Y=Boston.target"
   ]
  },
  {
   "cell_type": "code",
   "execution_count": 39,
   "id": "hundred-roller",
   "metadata": {},
   "outputs": [],
   "source": [
    "X_train,X_test,y_train,y_test=train_test_split(X,Y,test_size=0.2,shuffle=True,random_state=44)"
   ]
  },
  {
   "cell_type": "code",
   "execution_count": 40,
   "id": "fitting-cutting",
   "metadata": {},
   "outputs": [],
   "source": [
    "LassoLinearRegression=Lasso(alpha=0.001,random_state=44,normalize=True)"
   ]
  },
  {
   "cell_type": "code",
   "execution_count": 41,
   "id": "ultimate-second",
   "metadata": {},
   "outputs": [
    {
     "data": {
      "text/plain": [
       "Lasso(alpha=0.001, normalize=True, random_state=44)"
      ]
     },
     "execution_count": 41,
     "metadata": {},
     "output_type": "execute_result"
    }
   ],
   "source": [
    "LassoLinearRegression.fit(X_train,y_train)"
   ]
  },
  {
   "cell_type": "code",
   "execution_count": 42,
   "id": "floating-initial",
   "metadata": {},
   "outputs": [
    {
     "name": "stdout",
     "output_type": "stream",
     "text": [
      "Train Score :  0.7333235338607809\n",
      "Test Score :  0.7549601327479057\n",
      "Model Coef :  [-1.09008558e-01  4.82730945e-02 -7.34656647e-03  3.26640978e+00\n",
      " -1.86750950e+01  3.17050864e+00  0.00000000e+00 -1.71805982e+00\n",
      "  2.72531000e-01 -9.68513182e-03 -9.47837681e-01  9.88536830e-03\n",
      " -5.72985302e-01]\n"
     ]
    }
   ],
   "source": [
    "print(\"Train Score : \",LassoLinearRegression.score(X_train,y_train))\n",
    "print(\"Test Score : \",LassoLinearRegression.score(X_test,y_test))\n",
    "print(\"Model Coef : \",LassoLinearRegression.coef_)"
   ]
  },
  {
   "cell_type": "code",
   "execution_count": 43,
   "id": "treated-somerset",
   "metadata": {},
   "outputs": [],
   "source": [
    "Pred=LassoLinearRegression.predict(X_test)"
   ]
  },
  {
   "cell_type": "code",
   "execution_count": 44,
   "id": "wired-appendix",
   "metadata": {},
   "outputs": [
    {
     "name": "stdout",
     "output_type": "stream",
     "text": [
      "[17.46864825 25.37507854 22.24659641 36.85582831 14.14425785]\n",
      "[17.8 21.5 21.2 32.4 10.9]\n"
     ]
    }
   ],
   "source": [
    "print(Pred[:5])\n",
    "print(y_test[:5])"
   ]
  },
  {
   "cell_type": "markdown",
   "id": "smart-guard",
   "metadata": {},
   "source": [
    "# 4-SGD Regression"
   ]
  },
  {
   "cell_type": "markdown",
   "id": "funny-forum",
   "metadata": {},
   "source": [
    "The SGD regressor applies regularized linear model with SGD learning to build an estimator. A regularizer is a penalty (L1, L2, or Elastic Net) added to the loss function to shrink the model parameters. The SGD regressor works well with large-scale datasets. "
   ]
  },
  {
   "cell_type": "code",
   "execution_count": 45,
   "id": "lesser-environment",
   "metadata": {},
   "outputs": [
    {
     "data": {
      "text/plain": [
       "' \\nsklearn.linear_model.SGDRegressor(loss=’squared_loss’, *, penalty=’l2’, alpha=0.0001, l1_ratio=0.15, fit_intercept=True,\\nmax_iter=1000, tol=0.001, shuffle=True, verbose=0, epsilon=0.1, random_state=None, learning_rate=’invscaling’, eta0=0.01, power_t=0.25,\\nearly_stopping=False, validation_fraction=0.1,\\nn_iter_no_change=5, warm_start=False, average=False)\\n\\n\\n'"
      ]
     },
     "execution_count": 45,
     "metadata": {},
     "output_type": "execute_result"
    }
   ],
   "source": [
    "\"\"\" \n",
    "sklearn.linear_model.SGDRegressor(loss=’squared_loss’, *, penalty=’l2’, alpha=0.0001, l1_ratio=0.15, fit_intercept=True,\n",
    "max_iter=1000, tol=0.001, shuffle=True, verbose=0, epsilon=0.1, random_state=None, learning_rate=’invscaling’, eta0=0.01, power_t=0.25,\n",
    "early_stopping=False, validation_fraction=0.1,\n",
    "n_iter_no_change=5, warm_start=False, average=False)\n",
    "\n",
    "\n",
    "\"\"\""
   ]
  },
  {
   "cell_type": "code",
   "execution_count": 46,
   "id": "united-cradle",
   "metadata": {},
   "outputs": [],
   "source": [
    "from sklearn.linear_model import SGDRegressor\n",
    "from sklearn.metrics import mean_absolute_error\n",
    "from sklearn.metrics import median_absolute_error\n",
    "from sklearn.metrics import mean_squared_error\n",
    "import pandas as pd \n",
    "import numpy as np \n",
    "import matplotlib.pyplot as plt \n",
    "from sklearn.datasets import load_boston\n",
    "from sklearn.model_selection import train_test_split"
   ]
  },
  {
   "cell_type": "code",
   "execution_count": 47,
   "id": "ideal-registration",
   "metadata": {},
   "outputs": [],
   "source": [
    "Boston=load_boston()\n",
    "X=Boston.data\n",
    "Y=Boston.target"
   ]
  },
  {
   "cell_type": "code",
   "execution_count": 48,
   "id": "dietary-tomorrow",
   "metadata": {},
   "outputs": [],
   "source": [
    "X_train,X_test,y_train,y_test=train_test_split(X,Y,test_size=0.2,shuffle=True,random_state=44)"
   ]
  },
  {
   "cell_type": "code",
   "execution_count": 49,
   "id": "alone-milton",
   "metadata": {},
   "outputs": [],
   "source": [
    "SGDLinearRegression=SGDRegressor(alpha=0.001,random_state=44,penalty='l2',loss='huber')"
   ]
  },
  {
   "cell_type": "code",
   "execution_count": 50,
   "id": "better-buffalo",
   "metadata": {},
   "outputs": [
    {
     "data": {
      "text/plain": [
       "SGDRegressor(alpha=0.001, loss='huber', random_state=44)"
      ]
     },
     "execution_count": 50,
     "metadata": {},
     "output_type": "execute_result"
    }
   ],
   "source": [
    "SGDLinearRegression.fit(X_train,y_train)"
   ]
  },
  {
   "cell_type": "code",
   "execution_count": 51,
   "id": "young-attempt",
   "metadata": {},
   "outputs": [
    {
     "name": "stdout",
     "output_type": "stream",
     "text": [
      "Train Score :  -19.791563659514203\n",
      "Test Score :  -19.497772254898486\n",
      "Model Coef :  [-0.01795289  0.1544739  -0.11972102  0.01007805  0.00606359  0.21668749\n",
      "  0.13292396  0.00225464  0.03002012 -0.06038238  0.05099647  0.0042471\n",
      " -0.55124098]\n"
     ]
    }
   ],
   "source": [
    "print(\"Train Score : \",SGDLinearRegression.score(X_train,y_train))\n",
    "print(\"Test Score : \",SGDLinearRegression.score(X_test,y_test))\n",
    "print(\"Model Coef : \",SGDLinearRegression.coef_)"
   ]
  },
  {
   "cell_type": "code",
   "execution_count": 52,
   "id": "deluxe-martial",
   "metadata": {},
   "outputs": [],
   "source": [
    "Pred=SGDLinearRegression.predict(X_test)"
   ]
  },
  {
   "cell_type": "code",
   "execution_count": 53,
   "id": "attended-travel",
   "metadata": {},
   "outputs": [
    {
     "name": "stdout",
     "output_type": "stream",
     "text": [
      "[-14.56387401 -11.74213482 -36.58282398  -3.29289415 -37.4011705 ]\n",
      "[17.8 21.5 21.2 32.4 10.9]\n"
     ]
    }
   ],
   "source": [
    "print(Pred[:5])\n",
    "print(y_test[:5])"
   ]
  },
  {
   "cell_type": "markdown",
   "id": "sonic-cursor",
   "metadata": {},
   "source": [
    "## 5-Neural Network in Regression "
   ]
  },
  {
   "cell_type": "code",
   "execution_count": 15,
   "id": "humanitarian-purpose",
   "metadata": {},
   "outputs": [],
   "source": [
    "from sklearn.neural_network import MLPRegressor \n",
    "from sklearn.datasets import load_boston\n",
    "from sklearn.model_selection import train_test_split\n",
    "from sklearn.metrics import mean_absolute_error "
   ]
  },
  {
   "cell_type": "code",
   "execution_count": 16,
   "id": "flush-laundry",
   "metadata": {},
   "outputs": [
    {
     "data": {
      "text/plain": [
       "'\\n\\nneural_network.MLPRegressor(hidden_layer_sizes=(100, ), activation=’relu’, *, solver=’adam’, alpha=0.0001, batch_size=’auto’, learning_rate=’constant’, learning_rate_init=0.001,\\npower_t=0.5, max_iter=200, shuffle=True,\\nrandom_state=None, tol=0.0001, verbose=False, warm_start=False, momentum=0.9, nesterovs_momentum=True,\\nearly_stopping=False, validation_fraction=0.1,\\nbeta_1=0.9, beta_2=0.999, epsilon=1e-08,\\nn_iter_no_change=10, max_fun=15000)\\n\\n'"
      ]
     },
     "execution_count": 16,
     "metadata": {},
     "output_type": "execute_result"
    }
   ],
   "source": [
    "\"\"\"\n",
    "\n",
    "neural_network.MLPRegressor(hidden_layer_sizes=(100, ), activation=’relu’, *, solver=’adam’, alpha=0.0001, batch_size=’auto’, learning_rate=’constant’, learning_rate_init=0.001,\n",
    "power_t=0.5, max_iter=200, shuffle=True,\n",
    "random_state=None, tol=0.0001, verbose=False, warm_start=False, momentum=0.9, nesterovs_momentum=True,\n",
    "early_stopping=False, validation_fraction=0.1,\n",
    "beta_1=0.9, beta_2=0.999, epsilon=1e-08,\n",
    "n_iter_no_change=10, max_fun=15000)\n",
    "\n",
    "\"\"\""
   ]
  },
  {
   "cell_type": "code",
   "execution_count": 23,
   "id": "square-chess",
   "metadata": {},
   "outputs": [],
   "source": [
    "Boston=load_boston()\n",
    "X=Boston.data\n",
    "Y=Boston.target"
   ]
  },
  {
   "cell_type": "code",
   "execution_count": 24,
   "id": "appointed-report",
   "metadata": {},
   "outputs": [
    {
     "data": {
      "text/plain": [
       "(506, 13)"
      ]
     },
     "execution_count": 24,
     "metadata": {},
     "output_type": "execute_result"
    }
   ],
   "source": [
    "X.shape"
   ]
  },
  {
   "cell_type": "code",
   "execution_count": 25,
   "id": "champion-measure",
   "metadata": {},
   "outputs": [],
   "source": [
    "X_train,X_test,y_train,y_test=train_test_split(X,Y,test_size=0.33,random_state=44,shuffle=True)"
   ]
  },
  {
   "cell_type": "code",
   "execution_count": 26,
   "id": "first-compact",
   "metadata": {},
   "outputs": [
    {
     "name": "stdout",
     "output_type": "stream",
     "text": [
      "(339, 13)\n",
      "(167, 13)\n"
     ]
    }
   ],
   "source": [
    "print(X_train.shape)\n",
    "print(X_test.shape)"
   ]
  },
  {
   "cell_type": "code",
   "execution_count": 32,
   "id": "separated-dallas",
   "metadata": {},
   "outputs": [
    {
     "data": {
      "text/plain": [
       "MLPRegressor(hidden_layer_sizes=(100, 3), max_iter=10000, random_state=44,\n",
       "             solver='lbfgs')"
      ]
     },
     "execution_count": 32,
     "metadata": {},
     "output_type": "execute_result"
    }
   ],
   "source": [
    "MLPRegressorModel=MLPRegressor(activation='relu',solver='lbfgs',learning_rate='constant',early_stopping=False,alpha=0.0001\n",
    "                               ,hidden_layer_sizes=(100,3),random_state=44,max_iter=10000)\n",
    "MLPRegressorModel.fit(X_train,y_train)"
   ]
  },
  {
   "cell_type": "code",
   "execution_count": 34,
   "id": "internal-press",
   "metadata": {},
   "outputs": [
    {
     "name": "stdout",
     "output_type": "stream",
     "text": [
      "Train Score :  0.9458371205964735\n",
      "Test Score :  0.8349831335155904\n",
      "num of iteration :  8665\n"
     ]
    }
   ],
   "source": [
    "print(\"Train Score : \",MLPRegressorModel.score(X_train,y_train))\n",
    "print(\"Test Score : \",MLPRegressorModel.score(X_test,y_test))\n",
    "print(\"num of iteration : \",MLPRegressorModel.n_iter_)"
   ]
  },
  {
   "cell_type": "code",
   "execution_count": 35,
   "id": "decimal-johns",
   "metadata": {},
   "outputs": [],
   "source": [
    "Pred=MLPRegressorModel.predict(X_test)"
   ]
  },
  {
   "cell_type": "code",
   "execution_count": 36,
   "id": "hazardous-viewer",
   "metadata": {},
   "outputs": [
    {
     "name": "stdout",
     "output_type": "stream",
     "text": [
      "[18.53500908 20.24965119 25.76524172 31.02156487  7.24631621]\n",
      "[17.8 21.5 21.2 32.4 10.9]\n"
     ]
    }
   ],
   "source": [
    "print(Pred[:5])\n",
    "print(y_test[:5])"
   ]
  },
  {
   "cell_type": "markdown",
   "id": "recognized-failure",
   "metadata": {},
   "source": [
    "## 6-Support Vector Regression (SVR)"
   ]
  },
  {
   "cell_type": "code",
   "execution_count": 5,
   "id": "ignored-whale",
   "metadata": {},
   "outputs": [
    {
     "data": {
      "text/plain": [
       "'\\nsklearn.svm.SVC(*, C=1.0, kernel=’rbf ’, degree=3, gamma=’scale’, coef0=0.0,\\nshrinking=True, probability=False, tol=0.001, cache_size=200,\\nclass_weight=None, verbose=False, max_iter=-1, decision_function_shape=’ovr’, break_ties=False, random_state=None)\\n\\n\\n'"
      ]
     },
     "execution_count": 5,
     "metadata": {},
     "output_type": "execute_result"
    }
   ],
   "source": [
    "\"\"\"\n",
    "sklearn.svm.SVC(*, C=1.0, kernel=’rbf ’, degree=3, gamma=’scale’, coef0=0.0,\n",
    "shrinking=True, probability=False, tol=0.001, cache_size=200,\n",
    "class_weight=None, verbose=False, max_iter=-1, decision_function_shape=’ovr’, break_ties=False, random_state=None)\n",
    "\n",
    "\n",
    "\"\"\""
   ]
  },
  {
   "cell_type": "code",
   "execution_count": 6,
   "id": "moving-activity",
   "metadata": {},
   "outputs": [],
   "source": [
    "from sklearn.svm import SVR\n",
    "from sklearn.datasets import load_boston\n",
    "from sklearn.model_selection import train_test_split\n"
   ]
  },
  {
   "cell_type": "code",
   "execution_count": 7,
   "id": "persistent-sunset",
   "metadata": {},
   "outputs": [],
   "source": [
    "Boston=load_boston()\n",
    "X=Boston.data\n",
    "Y=Boston.target"
   ]
  },
  {
   "cell_type": "code",
   "execution_count": 8,
   "id": "conditional-sucking",
   "metadata": {},
   "outputs": [
    {
     "name": "stdout",
     "output_type": "stream",
     "text": [
      "(506, 13)\n",
      "(506,)\n"
     ]
    }
   ],
   "source": [
    "print(X.shape)\n",
    "print(Y.shape)"
   ]
  },
  {
   "cell_type": "code",
   "execution_count": 9,
   "id": "clean-difficulty",
   "metadata": {},
   "outputs": [],
   "source": [
    "X_train,X_test,y_train,y_test=train_test_split(X,Y,test_size=0.2,shuffle=True,random_state=44)"
   ]
  },
  {
   "cell_type": "code",
   "execution_count": 10,
   "id": "great-vision",
   "metadata": {},
   "outputs": [
    {
     "name": "stdout",
     "output_type": "stream",
     "text": [
      "(404, 13)\n",
      "(102, 13)\n"
     ]
    }
   ],
   "source": [
    "print(X_train.shape)\n",
    "print(X_test.shape)"
   ]
  },
  {
   "cell_type": "code",
   "execution_count": 28,
   "id": "adolescent-activation",
   "metadata": {},
   "outputs": [
    {
     "data": {
      "text/plain": [
       "SVR(C=500000)"
      ]
     },
     "execution_count": 28,
     "metadata": {},
     "output_type": "execute_result"
    }
   ],
   "source": [
    "SVRModel=SVR(C=500000,kernel='rbf',epsilon=0.1)\n",
    "SVRModel.fit(X_train,y_train)"
   ]
  },
  {
   "cell_type": "code",
   "execution_count": 29,
   "id": "focused-complex",
   "metadata": {},
   "outputs": [
    {
     "name": "stdout",
     "output_type": "stream",
     "text": [
      "Train Score :  0.8767808030627251\n",
      "Test Score :  0.8783969766402434\n"
     ]
    }
   ],
   "source": [
    "print(\"Train Score : \",SVRModel.score(X_train,y_train))\n",
    "print(\"Test Score : \",SVRModel.score(X_test,y_test))\n"
   ]
  },
  {
   "cell_type": "code",
   "execution_count": 30,
   "id": "filled-permit",
   "metadata": {},
   "outputs": [],
   "source": [
    "Pred=SVRModel.predict(X_test)"
   ]
  },
  {
   "cell_type": "code",
   "execution_count": 31,
   "id": "conservative-current",
   "metadata": {},
   "outputs": [
    {
     "name": "stdout",
     "output_type": "stream",
     "text": [
      "[18.44344987 20.14468292 22.7729879  31.29690838  6.99131974]\n",
      "[17.8 21.5 21.2 32.4 10.9]\n"
     ]
    }
   ],
   "source": [
    "print(Pred[:5])\n",
    "print(y_test[:5])"
   ]
  },
  {
   "cell_type": "markdown",
   "id": "employed-captain",
   "metadata": {},
   "source": [
    "## 7-Decision Tree Regresssion"
   ]
  },
  {
   "cell_type": "markdown",
   "id": "developed-bottle",
   "metadata": {},
   "source": [
    "Decision tree builds regression or classification models in the form of a tree structure. It breaks down a dataset into smaller and smaller subsets while at the same time an associated decision tree is incrementally developed. The final result is a tree with decision nodes and leaf nodes. "
   ]
  },
  {
   "cell_type": "code",
   "execution_count": 1,
   "id": "partial-commissioner",
   "metadata": {},
   "outputs": [
    {
     "data": {
      "text/plain": [
       "'\\nDecisionTreeRegressor(*, criterion=’mse’, splitter=’best’, max_depth=None,\\nmin_samples_split=2, min_samples_leaf=1,\\nmin_weight_fraction_leaf=0.0,\\nmax_features=None, random_state=None, max_leaf_nodes=None,\\nmin_impurity_decrease=0.0,\\nmin_impurity_split=None, presort=’deprecated’,\\nccp_alpha=0.0)\\n'"
      ]
     },
     "execution_count": 1,
     "metadata": {},
     "output_type": "execute_result"
    }
   ],
   "source": [
    "\"\"\"\n",
    "DecisionTreeRegressor(*, criterion=’mse’, splitter=’best’, max_depth=None,\n",
    "min_samples_split=2, min_samples_leaf=1,\n",
    "min_weight_fraction_leaf=0.0,\n",
    "max_features=None, random_state=None, max_leaf_nodes=None,\n",
    "min_impurity_decrease=0.0,\n",
    "min_impurity_split=None, presort=’deprecated’,\n",
    "ccp_alpha=0.0)\n",
    "\"\"\""
   ]
  },
  {
   "cell_type": "markdown",
   "id": "religious-willow",
   "metadata": {},
   "source": [
    "<img src=\"Decision_tree_r1.png\">"
   ]
  },
  {
   "cell_type": "code",
   "execution_count": 2,
   "id": "thorough-ghana",
   "metadata": {},
   "outputs": [],
   "source": [
    "from sklearn.tree import DecisionTreeRegressor\n",
    "from sklearn.datasets import load_boston\n",
    "from sklearn.model_selection import train_test_split\n",
    "from sklearn.metrics import mean_absolute_error"
   ]
  },
  {
   "cell_type": "code",
   "execution_count": 3,
   "id": "comic-gnome",
   "metadata": {},
   "outputs": [],
   "source": [
    "BostonData=load_boston()\n",
    "X=BostonData.data\n",
    "Y=BostonData.target"
   ]
  },
  {
   "cell_type": "code",
   "execution_count": 4,
   "id": "dedicated-discretion",
   "metadata": {},
   "outputs": [
    {
     "data": {
      "text/plain": [
       "(506, 13)"
      ]
     },
     "execution_count": 4,
     "metadata": {},
     "output_type": "execute_result"
    }
   ],
   "source": [
    "X.shape"
   ]
  },
  {
   "cell_type": "code",
   "execution_count": 5,
   "id": "simple-solution",
   "metadata": {},
   "outputs": [
    {
     "data": {
      "text/plain": [
       "(506,)"
      ]
     },
     "execution_count": 5,
     "metadata": {},
     "output_type": "execute_result"
    }
   ],
   "source": [
    "Y.shape"
   ]
  },
  {
   "cell_type": "code",
   "execution_count": 6,
   "id": "published-lambda",
   "metadata": {},
   "outputs": [],
   "source": [
    "X_train,X_test,y_train,y_test=train_test_split(X,Y,test_size=0.2,random_state=44,shuffle=True)"
   ]
  },
  {
   "cell_type": "code",
   "execution_count": 7,
   "id": "dimensional-netherlands",
   "metadata": {},
   "outputs": [
    {
     "data": {
      "text/plain": [
       "(404, 13)"
      ]
     },
     "execution_count": 7,
     "metadata": {},
     "output_type": "execute_result"
    }
   ],
   "source": [
    "X_train.shape"
   ]
  },
  {
   "cell_type": "code",
   "execution_count": 8,
   "id": "innocent-andrews",
   "metadata": {},
   "outputs": [
    {
     "data": {
      "text/plain": [
       "(102, 13)"
      ]
     },
     "execution_count": 8,
     "metadata": {},
     "output_type": "execute_result"
    }
   ],
   "source": [
    "X_test.shape"
   ]
  },
  {
   "cell_type": "code",
   "execution_count": 11,
   "id": "piano-fellowship",
   "metadata": {},
   "outputs": [
    {
     "data": {
      "text/plain": [
       "DecisionTreeRegressor(max_depth=10)"
      ]
     },
     "execution_count": 11,
     "metadata": {},
     "output_type": "execute_result"
    }
   ],
   "source": [
    "DecisionTreeModel=DecisionTreeRegressor(criterion='mse', splitter='best', max_depth=10)\n",
    "DecisionTreeModel.fit(X_train,y_train)"
   ]
  },
  {
   "cell_type": "code",
   "execution_count": 12,
   "id": "dutch-lunch",
   "metadata": {},
   "outputs": [
    {
     "name": "stdout",
     "output_type": "stream",
     "text": [
      "DecisionTreeModel Train Score :  0.9891002594782698\n",
      "DecisionTreeModel Test Score :  0.8327113646582528\n"
     ]
    }
   ],
   "source": [
    "print(\"DecisionTreeModel Train Score : \",DecisionTreeModel.score(X_train,y_train))\n",
    "print(\"DecisionTreeModel Test Score : \",DecisionTreeModel.score(X_test,y_test))"
   ]
  },
  {
   "cell_type": "code",
   "execution_count": 13,
   "id": "closing-characteristic",
   "metadata": {},
   "outputs": [],
   "source": [
    "y_pred=DecisionTreeModel.predict(X_test)"
   ]
  },
  {
   "cell_type": "code",
   "execution_count": 17,
   "id": "consolidated-sandwich",
   "metadata": {},
   "outputs": [
    {
     "name": "stdout",
     "output_type": "stream",
     "text": [
      "[17.8 21.5 21.2 32.4 10.9 31.7 21.4 24.3 29.1 25. ]\n",
      "[14.3        18.9        20.54814815 33.1        16.1        31.6\n",
      " 20.54814815 22.33333333 23.35555556 11.9       ]\n"
     ]
    }
   ],
   "source": [
    "print(y_test[:10])\n",
    "print(y_pred[:10])"
   ]
  },
  {
   "cell_type": "code",
   "execution_count": null,
   "id": "technical-flexibility",
   "metadata": {},
   "outputs": [],
   "source": []
  }
 ],
 "metadata": {
  "kernelspec": {
   "display_name": "Python 3",
   "language": "python",
   "name": "python3"
  },
  "language_info": {
   "codemirror_mode": {
    "name": "ipython",
    "version": 3
   },
   "file_extension": ".py",
   "mimetype": "text/x-python",
   "name": "python",
   "nbconvert_exporter": "python",
   "pygments_lexer": "ipython3",
   "version": "3.8.1"
  }
 },
 "nbformat": 4,
 "nbformat_minor": 5
}
