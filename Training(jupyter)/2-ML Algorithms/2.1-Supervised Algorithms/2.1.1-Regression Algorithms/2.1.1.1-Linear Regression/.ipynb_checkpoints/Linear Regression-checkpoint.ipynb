{
 "cells": [
  {
   "cell_type": "markdown",
   "id": "surface-basics",
   "metadata": {},
   "source": [
    "## 1-Linear Regression "
   ]
  },
  {
   "cell_type": "markdown",
   "id": "tested-bangkok",
   "metadata": {},
   "source": [
    "Linear regression is the simplest and most widely used statistical technique for predictive modeling. It basically gives us an equation, where we have our features as independent variables, on which our target variable [sales in our case] is dependent upon.\n",
    "this model just regression without using any regularization .\n",
    "So what does the equation look like? Linear regression equation looks like this:\n"
   ]
  },
  {
   "cell_type": "markdown",
   "id": "commercial-sunglasses",
   "metadata": {},
   "source": [
    "<img src=\"Capture.PNG\">"
   ]
  },
  {
   "cell_type": "code",
   "execution_count": 12,
   "id": "accepting-border",
   "metadata": {},
   "outputs": [],
   "source": [
    "from sklearn.linear_model import LinearRegression\n",
    "from sklearn.metrics import mean_absolute_error\n",
    "from sklearn.metrics import median_absolute_error\n",
    "from sklearn.metrics import mean_squared_error\n",
    "import pandas as pd \n",
    "import numpy as np \n",
    "import matplotlib.pyplot as plt \n",
    "from sklearn.datasets import load_boston\n",
    "from sklearn.model_selection import train_test_split"
   ]
  },
  {
   "cell_type": "code",
   "execution_count": 13,
   "id": "bright-runner",
   "metadata": {},
   "outputs": [],
   "source": [
    "BostonData=load_boston()"
   ]
  },
  {
   "cell_type": "code",
   "execution_count": 14,
   "id": "varied-thought",
   "metadata": {},
   "outputs": [],
   "source": [
    "X=BostonData.data\n",
    "Y=BostonData.target"
   ]
  },
  {
   "cell_type": "code",
   "execution_count": 15,
   "id": "composite-marking",
   "metadata": {},
   "outputs": [],
   "source": [
    "X_train,X_test,y_train,y_test=train_test_split(X,Y,test_size=0.2,shuffle=True,random_state=44)"
   ]
  },
  {
   "cell_type": "code",
   "execution_count": 35,
   "id": "intended-dinner",
   "metadata": {},
   "outputs": [
    {
     "data": {
      "text/plain": [
       "'\\nsklearn.linear_model.LinearRegression(*, fit_intercept=True, normalize=False,\\ncopy_X=True, n_jobs=None)\\n'"
      ]
     },
     "execution_count": 35,
     "metadata": {},
     "output_type": "execute_result"
    }
   ],
   "source": [
    "\"\"\"\n",
    "sklearn.linear_model.LinearRegression(*, fit_intercept=True, normalize=False,\n",
    "copy_X=True, n_jobs=None)\n",
    "\"\"\""
   ]
  },
  {
   "cell_type": "code",
   "execution_count": 16,
   "id": "available-tennessee",
   "metadata": {},
   "outputs": [
    {
     "data": {
      "text/plain": [
       "LinearRegression(n_jobs=-1, normalize=True)"
      ]
     },
     "execution_count": 16,
     "metadata": {},
     "output_type": "execute_result"
    }
   ],
   "source": [
    "LinearRegressionModel=LinearRegression(copy_X=True,n_jobs=-1,normalize=True,fit_intercept=True)\n",
    "LinearRegressionModel.fit(X_train,y_train)"
   ]
  },
  {
   "cell_type": "code",
   "execution_count": 17,
   "id": "sixth-series",
   "metadata": {},
   "outputs": [
    {
     "name": "stdout",
     "output_type": "stream",
     "text": [
      "Train Score :  0.733565792886427\n",
      "Test Score :  0.7521800808693158\n",
      "Model Coef :  [-1.18000933e-01  5.23312473e-02 -3.42698066e-03  3.27003752e+00\n",
      " -1.97085281e+01  3.11609207e+00  1.98406750e-03 -1.78381648e+00\n",
      "  3.08103483e-01 -1.11789998e-02 -9.60997408e-01  1.00743448e-02\n",
      " -5.75953939e-01]\n"
     ]
    }
   ],
   "source": [
    "print(\"Train Score : \",LinearRegressionModel.score(X_train,y_train))\n",
    "print(\"Test Score : \",LinearRegressionModel.score(X_test,y_test))\n",
    "print(\"Model Coef : \",LinearRegressionModel.coef_)"
   ]
  },
  {
   "cell_type": "code",
   "execution_count": 18,
   "id": "confirmed-parent",
   "metadata": {},
   "outputs": [],
   "source": [
    "Pred=LinearRegressionModel.predict(X_test)"
   ]
  },
  {
   "cell_type": "code",
   "execution_count": 21,
   "id": "large-portfolio",
   "metadata": {},
   "outputs": [
    {
     "name": "stdout",
     "output_type": "stream",
     "text": [
      "[17.44218075 25.56161457 22.26808304 37.06364051 13.87846166]\n",
      "[17.8 21.5 21.2 32.4 10.9]\n"
     ]
    }
   ],
   "source": [
    "print(Pred[:5])\n",
    "print(y_test[:5])"
   ]
  },
  {
   "cell_type": "markdown",
   "id": "consistent-beverage",
   "metadata": {},
   "source": [
    "## 2-Ridge Regression "
   ]
  },
  {
   "cell_type": "markdown",
   "id": "egyptian-falls",
   "metadata": {},
   "source": [
    "Ridge Regression is a technique for analyzing multiple regression data that suffer from multicollinearity. ... By adding a degree of bias to the regression estimates, ridge regression reduces the standard errors. It is hoped that the net effect will be to give estimates that are more reliable.\n",
    "and use  regularization on it ."
   ]
  },
  {
   "cell_type": "code",
   "execution_count": 2,
   "id": "coupled-connection",
   "metadata": {},
   "outputs": [],
   "source": [
    "from sklearn.linear_model import Ridge\n",
    "from sklearn.metrics import mean_absolute_error\n",
    "from sklearn.metrics import median_absolute_error\n",
    "from sklearn.metrics import mean_squared_error\n",
    "import pandas as pd \n",
    "import numpy as np \n",
    "import matplotlib.pyplot as plt \n",
    "from sklearn.datasets import load_boston\n",
    "from sklearn.model_selection import train_test_split\n"
   ]
  },
  {
   "cell_type": "code",
   "execution_count": 3,
   "id": "decreased-tomato",
   "metadata": {},
   "outputs": [],
   "source": [
    "Boston=load_boston()\n",
    "X=Boston.data\n",
    "Y=Boston.target"
   ]
  },
  {
   "cell_type": "code",
   "execution_count": 4,
   "id": "portuguese-portable",
   "metadata": {},
   "outputs": [
    {
     "data": {
      "text/plain": [
       "(506, 13)"
      ]
     },
     "execution_count": 4,
     "metadata": {},
     "output_type": "execute_result"
    }
   ],
   "source": [
    "X.shape"
   ]
  },
  {
   "cell_type": "code",
   "execution_count": 5,
   "id": "flexible-concert",
   "metadata": {},
   "outputs": [
    {
     "data": {
      "text/plain": [
       "(506,)"
      ]
     },
     "execution_count": 5,
     "metadata": {},
     "output_type": "execute_result"
    }
   ],
   "source": [
    "Y.shape"
   ]
  },
  {
   "cell_type": "code",
   "execution_count": 6,
   "id": "sharing-chart",
   "metadata": {},
   "outputs": [],
   "source": [
    "X_train,X_test,y_train,y_test=train_test_split(X,Y,test_size=0.2,shuffle=True,random_state=44)"
   ]
  },
  {
   "cell_type": "code",
   "execution_count": 7,
   "id": "patient-healthcare",
   "metadata": {},
   "outputs": [
    {
     "data": {
      "text/plain": [
       "'\\nsklearn.linear_model.Ridge(alpha=1.0, *, fit_intercept=True, normalize=False,\\ncopy_X=True, max_iter=None, tol=0.001, solver=’auto’,\\nrandom_state=None)\\n'"
      ]
     },
     "execution_count": 7,
     "metadata": {},
     "output_type": "execute_result"
    }
   ],
   "source": [
    "\"\"\"\n",
    "sklearn.linear_model.Ridge(alpha=1.0, *, fit_intercept=True, normalize=False,\n",
    "copy_X=True, max_iter=None, tol=0.001, solver=’auto’,\n",
    "random_state=None)\n",
    "\"\"\" "
   ]
  },
  {
   "cell_type": "code",
   "execution_count": 30,
   "id": "confused-software",
   "metadata": {},
   "outputs": [],
   "source": [
    "RigdeLinearRegression=Ridge(alpha=0.001,random_state=44,normalize=True)"
   ]
  },
  {
   "cell_type": "code",
   "execution_count": 31,
   "id": "passive-association",
   "metadata": {},
   "outputs": [
    {
     "data": {
      "text/plain": [
       "Ridge(alpha=0.001, normalize=True, random_state=44)"
      ]
     },
     "execution_count": 31,
     "metadata": {},
     "output_type": "execute_result"
    }
   ],
   "source": [
    "RigdeLinearRegression.fit(X_train,y_train)"
   ]
  },
  {
   "cell_type": "code",
   "execution_count": 32,
   "id": "blocked-proxy",
   "metadata": {},
   "outputs": [
    {
     "name": "stdout",
     "output_type": "stream",
     "text": [
      "Train Score :  0.7335621414182676\n",
      "Test Score :  0.7526186896951919\n",
      "Model Coef :  [-1.17315950e-01  5.18725055e-02 -4.92777610e-03  3.27659589e+00\n",
      " -1.95679579e+01  3.12450089e+00  1.86736826e-03 -1.77468317e+00\n",
      "  3.03976981e-01 -1.09879936e-02 -9.59181799e-01  1.00717829e-02\n",
      " -5.74824835e-01]\n"
     ]
    }
   ],
   "source": [
    "print(\"Train Score : \",RigdeLinearRegression.score(X_train,y_train))\n",
    "print(\"Test Score : \",RigdeLinearRegression.score(X_test,y_test))\n",
    "print(\"Model Coef : \",RigdeLinearRegression.coef_)"
   ]
  },
  {
   "cell_type": "code",
   "execution_count": 33,
   "id": "british-registrar",
   "metadata": {},
   "outputs": [],
   "source": [
    "Pred=RigdeLinearRegression.predict(X_test)"
   ]
  },
  {
   "cell_type": "code",
   "execution_count": 34,
   "id": "collected-eagle",
   "metadata": {},
   "outputs": [
    {
     "name": "stdout",
     "output_type": "stream",
     "text": [
      "[17.45110884 25.54717191 22.2605587  37.03815952 13.88961397]\n",
      "[17.8 21.5 21.2 32.4 10.9]\n"
     ]
    }
   ],
   "source": [
    "print(Pred[:5])\n",
    "print(y_test[:5])"
   ]
  },
  {
   "cell_type": "markdown",
   "id": "baking-court",
   "metadata": {},
   "source": [
    "# 3-Lasso Regression "
   ]
  },
  {
   "cell_type": "markdown",
   "id": "returning-stack",
   "metadata": {},
   "source": [
    "Lasso regression is a type of linear regression that uses shrinkage. Shrinkage is where data values are shrunk towards a central point, like the mean. The lasso procedure encourages simple, sparse models (i.e. models with fewer parameters). This particular type of regression is well-suited for models showing high levels of muticollinearity or when you want to automate certain parts of model selection, like variable selection/parameter elimination.\n",
    "\n"
   ]
  },
  {
   "cell_type": "code",
   "execution_count": 36,
   "id": "statistical-threat",
   "metadata": {},
   "outputs": [],
   "source": [
    "from sklearn.linear_model import Lasso\n",
    "from sklearn.metrics import mean_absolute_error\n",
    "from sklearn.metrics import median_absolute_error\n",
    "from sklearn.metrics import mean_squared_error\n",
    "import pandas as pd \n",
    "import numpy as np \n",
    "import matplotlib.pyplot as plt \n",
    "from sklearn.datasets import load_boston\n",
    "from sklearn.model_selection import train_test_split\n"
   ]
  },
  {
   "cell_type": "code",
   "execution_count": 37,
   "id": "brave-intro",
   "metadata": {},
   "outputs": [
    {
     "data": {
      "text/plain": [
       "'\\nsklearn.linear_model.Lasso(alpha=1.0, *, fit_intercept=True, normalize=False, precompute=False, copy_X=True, max_iter=1000, tol=0.0001,\\nwarm_start=False, positive=False, random_state=None, selection=’cyclic’)\\n\\n'"
      ]
     },
     "execution_count": 37,
     "metadata": {},
     "output_type": "execute_result"
    }
   ],
   "source": [
    "\"\"\"\n",
    "sklearn.linear_model.Lasso(alpha=1.0, *, fit_intercept=True, normalize=False, precompute=False, copy_X=True, max_iter=1000, tol=0.0001,\n",
    "warm_start=False, positive=False, random_state=None, selection=’cyclic’)\n",
    "\n",
    "\"\"\""
   ]
  },
  {
   "cell_type": "code",
   "execution_count": 38,
   "id": "aerial-given",
   "metadata": {},
   "outputs": [],
   "source": [
    "Boston=load_boston()\n",
    "X=Boston.data\n",
    "Y=Boston.target"
   ]
  },
  {
   "cell_type": "code",
   "execution_count": 39,
   "id": "different-german",
   "metadata": {},
   "outputs": [],
   "source": [
    "X_train,X_test,y_train,y_test=train_test_split(X,Y,test_size=0.2,shuffle=True,random_state=44)"
   ]
  },
  {
   "cell_type": "code",
   "execution_count": 40,
   "id": "sealed-locator",
   "metadata": {},
   "outputs": [],
   "source": [
    "LassoLinearRegression=Lasso(alpha=0.001,random_state=44,normalize=True)"
   ]
  },
  {
   "cell_type": "code",
   "execution_count": 41,
   "id": "foreign-legislature",
   "metadata": {},
   "outputs": [
    {
     "data": {
      "text/plain": [
       "Lasso(alpha=0.001, normalize=True, random_state=44)"
      ]
     },
     "execution_count": 41,
     "metadata": {},
     "output_type": "execute_result"
    }
   ],
   "source": [
    "LassoLinearRegression.fit(X_train,y_train)"
   ]
  },
  {
   "cell_type": "code",
   "execution_count": 42,
   "id": "liable-attempt",
   "metadata": {},
   "outputs": [
    {
     "name": "stdout",
     "output_type": "stream",
     "text": [
      "Train Score :  0.7333235338607809\n",
      "Test Score :  0.7549601327479057\n",
      "Model Coef :  [-1.09008558e-01  4.82730945e-02 -7.34656647e-03  3.26640978e+00\n",
      " -1.86750950e+01  3.17050864e+00  0.00000000e+00 -1.71805982e+00\n",
      "  2.72531000e-01 -9.68513182e-03 -9.47837681e-01  9.88536830e-03\n",
      " -5.72985302e-01]\n"
     ]
    }
   ],
   "source": [
    "print(\"Train Score : \",LassoLinearRegression.score(X_train,y_train))\n",
    "print(\"Test Score : \",LassoLinearRegression.score(X_test,y_test))\n",
    "print(\"Model Coef : \",LassoLinearRegression.coef_)"
   ]
  },
  {
   "cell_type": "code",
   "execution_count": 43,
   "id": "incorrect-disaster",
   "metadata": {},
   "outputs": [],
   "source": [
    "Pred=LassoLinearRegression.predict(X_test)"
   ]
  },
  {
   "cell_type": "code",
   "execution_count": 44,
   "id": "statutory-cement",
   "metadata": {},
   "outputs": [
    {
     "name": "stdout",
     "output_type": "stream",
     "text": [
      "[17.46864825 25.37507854 22.24659641 36.85582831 14.14425785]\n",
      "[17.8 21.5 21.2 32.4 10.9]\n"
     ]
    }
   ],
   "source": [
    "print(Pred[:5])\n",
    "print(y_test[:5])"
   ]
  },
  {
   "cell_type": "markdown",
   "id": "cognitive-portal",
   "metadata": {},
   "source": [
    "# 4-SGD Regression"
   ]
  },
  {
   "cell_type": "markdown",
   "id": "crazy-reality",
   "metadata": {},
   "source": [
    "The SGD regressor applies regularized linear model with SGD learning to build an estimator. A regularizer is a penalty (L1, L2, or Elastic Net) added to the loss function to shrink the model parameters. The SGD regressor works well with large-scale datasets. "
   ]
  },
  {
   "cell_type": "code",
   "execution_count": 45,
   "id": "handled-syndication",
   "metadata": {},
   "outputs": [
    {
     "data": {
      "text/plain": [
       "' \\nsklearn.linear_model.SGDRegressor(loss=’squared_loss’, *, penalty=’l2’, alpha=0.0001, l1_ratio=0.15, fit_intercept=True,\\nmax_iter=1000, tol=0.001, shuffle=True, verbose=0, epsilon=0.1, random_state=None, learning_rate=’invscaling’, eta0=0.01, power_t=0.25,\\nearly_stopping=False, validation_fraction=0.1,\\nn_iter_no_change=5, warm_start=False, average=False)\\n\\n\\n'"
      ]
     },
     "execution_count": 45,
     "metadata": {},
     "output_type": "execute_result"
    }
   ],
   "source": [
    "\"\"\" \n",
    "sklearn.linear_model.SGDRegressor(loss=’squared_loss’, *, penalty=’l2’, alpha=0.0001, l1_ratio=0.15, fit_intercept=True,\n",
    "max_iter=1000, tol=0.001, shuffle=True, verbose=0, epsilon=0.1, random_state=None, learning_rate=’invscaling’, eta0=0.01, power_t=0.25,\n",
    "early_stopping=False, validation_fraction=0.1,\n",
    "n_iter_no_change=5, warm_start=False, average=False)\n",
    "\n",
    "\n",
    "\"\"\""
   ]
  },
  {
   "cell_type": "code",
   "execution_count": 46,
   "id": "shaped-wells",
   "metadata": {},
   "outputs": [],
   "source": [
    "from sklearn.linear_model import SGDRegressor\n",
    "from sklearn.metrics import mean_absolute_error\n",
    "from sklearn.metrics import median_absolute_error\n",
    "from sklearn.metrics import mean_squared_error\n",
    "import pandas as pd \n",
    "import numpy as np \n",
    "import matplotlib.pyplot as plt \n",
    "from sklearn.datasets import load_boston\n",
    "from sklearn.model_selection import train_test_split"
   ]
  },
  {
   "cell_type": "code",
   "execution_count": 47,
   "id": "bottom-heating",
   "metadata": {},
   "outputs": [],
   "source": [
    "Boston=load_boston()\n",
    "X=Boston.data\n",
    "Y=Boston.target"
   ]
  },
  {
   "cell_type": "code",
   "execution_count": 48,
   "id": "adapted-mercy",
   "metadata": {},
   "outputs": [],
   "source": [
    "X_train,X_test,y_train,y_test=train_test_split(X,Y,test_size=0.2,shuffle=True,random_state=44)"
   ]
  },
  {
   "cell_type": "code",
   "execution_count": 49,
   "id": "boxed-system",
   "metadata": {},
   "outputs": [],
   "source": [
    "SGDLinearRegression=SGDRegressor(alpha=0.001,random_state=44,penalty='l2',loss='huber')"
   ]
  },
  {
   "cell_type": "code",
   "execution_count": 50,
   "id": "sudden-tyler",
   "metadata": {},
   "outputs": [
    {
     "data": {
      "text/plain": [
       "SGDRegressor(alpha=0.001, loss='huber', random_state=44)"
      ]
     },
     "execution_count": 50,
     "metadata": {},
     "output_type": "execute_result"
    }
   ],
   "source": [
    "SGDLinearRegression.fit(X_train,y_train)"
   ]
  },
  {
   "cell_type": "code",
   "execution_count": 51,
   "id": "worst-projector",
   "metadata": {},
   "outputs": [
    {
     "name": "stdout",
     "output_type": "stream",
     "text": [
      "Train Score :  -19.791563659514203\n",
      "Test Score :  -19.497772254898486\n",
      "Model Coef :  [-0.01795289  0.1544739  -0.11972102  0.01007805  0.00606359  0.21668749\n",
      "  0.13292396  0.00225464  0.03002012 -0.06038238  0.05099647  0.0042471\n",
      " -0.55124098]\n"
     ]
    }
   ],
   "source": [
    "print(\"Train Score : \",SGDLinearRegression.score(X_train,y_train))\n",
    "print(\"Test Score : \",SGDLinearRegression.score(X_test,y_test))\n",
    "print(\"Model Coef : \",SGDLinearRegression.coef_)"
   ]
  },
  {
   "cell_type": "code",
   "execution_count": 52,
   "id": "molecular-bermuda",
   "metadata": {},
   "outputs": [],
   "source": [
    "Pred=SGDLinearRegression.predict(X_test)"
   ]
  },
  {
   "cell_type": "code",
   "execution_count": 53,
   "id": "liberal-marina",
   "metadata": {},
   "outputs": [
    {
     "name": "stdout",
     "output_type": "stream",
     "text": [
      "[-14.56387401 -11.74213482 -36.58282398  -3.29289415 -37.4011705 ]\n",
      "[17.8 21.5 21.2 32.4 10.9]\n"
     ]
    }
   ],
   "source": [
    "print(Pred[:5])\n",
    "print(y_test[:5])"
   ]
  },
  {
   "cell_type": "markdown",
   "id": "cleared-token",
   "metadata": {},
   "source": [
    "## 5-Neural Network in Regression "
   ]
  },
  {
   "cell_type": "code",
   "execution_count": 15,
   "id": "blessed-submission",
   "metadata": {},
   "outputs": [],
   "source": [
    "from sklearn.neural_network import MLPRegressor \n",
    "from sklearn.datasets import load_boston\n",
    "from sklearn.model_selection import train_test_split\n",
    "from sklearn.metrics import mean_absolute_error "
   ]
  },
  {
   "cell_type": "code",
   "execution_count": 16,
   "id": "immune-garage",
   "metadata": {},
   "outputs": [
    {
     "data": {
      "text/plain": [
       "'\\n\\nneural_network.MLPRegressor(hidden_layer_sizes=(100, ), activation=’relu’, *, solver=’adam’, alpha=0.0001, batch_size=’auto’, learning_rate=’constant’, learning_rate_init=0.001,\\npower_t=0.5, max_iter=200, shuffle=True,\\nrandom_state=None, tol=0.0001, verbose=False, warm_start=False, momentum=0.9, nesterovs_momentum=True,\\nearly_stopping=False, validation_fraction=0.1,\\nbeta_1=0.9, beta_2=0.999, epsilon=1e-08,\\nn_iter_no_change=10, max_fun=15000)\\n\\n'"
      ]
     },
     "execution_count": 16,
     "metadata": {},
     "output_type": "execute_result"
    }
   ],
   "source": [
    "\"\"\"\n",
    "\n",
    "neural_network.MLPRegressor(hidden_layer_sizes=(100, ), activation=’relu’, *, solver=’adam’, alpha=0.0001, batch_size=’auto’, learning_rate=’constant’, learning_rate_init=0.001,\n",
    "power_t=0.5, max_iter=200, shuffle=True,\n",
    "random_state=None, tol=0.0001, verbose=False, warm_start=False, momentum=0.9, nesterovs_momentum=True,\n",
    "early_stopping=False, validation_fraction=0.1,\n",
    "beta_1=0.9, beta_2=0.999, epsilon=1e-08,\n",
    "n_iter_no_change=10, max_fun=15000)\n",
    "\n",
    "\"\"\""
   ]
  },
  {
   "cell_type": "code",
   "execution_count": 23,
   "id": "capital-empire",
   "metadata": {},
   "outputs": [],
   "source": [
    "Boston=load_boston()\n",
    "X=Boston.data\n",
    "Y=Boston.target"
   ]
  },
  {
   "cell_type": "code",
   "execution_count": 24,
   "id": "incomplete-rally",
   "metadata": {},
   "outputs": [
    {
     "data": {
      "text/plain": [
       "(506, 13)"
      ]
     },
     "execution_count": 24,
     "metadata": {},
     "output_type": "execute_result"
    }
   ],
   "source": [
    "X.shape"
   ]
  },
  {
   "cell_type": "code",
   "execution_count": 25,
   "id": "aging-possibility",
   "metadata": {},
   "outputs": [],
   "source": [
    "X_train,X_test,y_train,y_test=train_test_split(X,Y,test_size=0.33,random_state=44,shuffle=True)"
   ]
  },
  {
   "cell_type": "code",
   "execution_count": 26,
   "id": "synthetic-flooring",
   "metadata": {},
   "outputs": [
    {
     "name": "stdout",
     "output_type": "stream",
     "text": [
      "(339, 13)\n",
      "(167, 13)\n"
     ]
    }
   ],
   "source": [
    "print(X_train.shape)\n",
    "print(X_test.shape)"
   ]
  },
  {
   "cell_type": "code",
   "execution_count": 32,
   "id": "premier-supervision",
   "metadata": {},
   "outputs": [
    {
     "data": {
      "text/plain": [
       "MLPRegressor(hidden_layer_sizes=(100, 3), max_iter=10000, random_state=44,\n",
       "             solver='lbfgs')"
      ]
     },
     "execution_count": 32,
     "metadata": {},
     "output_type": "execute_result"
    }
   ],
   "source": [
    "MLPRegressorModel=MLPRegressor(activation='relu',solver='lbfgs',learning_rate='constant',early_stopping=False,alpha=0.0001\n",
    "                               ,hidden_layer_sizes=(100,3),random_state=44,max_iter=10000)\n",
    "MLPRegressorModel.fit(X_train,y_train)"
   ]
  },
  {
   "cell_type": "code",
   "execution_count": 34,
   "id": "demanding-ballot",
   "metadata": {},
   "outputs": [
    {
     "name": "stdout",
     "output_type": "stream",
     "text": [
      "Train Score :  0.9458371205964735\n",
      "Test Score :  0.8349831335155904\n",
      "num of iteration :  8665\n"
     ]
    }
   ],
   "source": [
    "print(\"Train Score : \",MLPRegressorModel.score(X_train,y_train))\n",
    "print(\"Test Score : \",MLPRegressorModel.score(X_test,y_test))\n",
    "print(\"num of iteration : \",MLPRegressorModel.n_iter_)"
   ]
  },
  {
   "cell_type": "code",
   "execution_count": 35,
   "id": "little-creek",
   "metadata": {},
   "outputs": [],
   "source": [
    "Pred=MLPRegressorModel.predict(X_test)"
   ]
  },
  {
   "cell_type": "code",
   "execution_count": 36,
   "id": "surface-internet",
   "metadata": {},
   "outputs": [
    {
     "name": "stdout",
     "output_type": "stream",
     "text": [
      "[18.53500908 20.24965119 25.76524172 31.02156487  7.24631621]\n",
      "[17.8 21.5 21.2 32.4 10.9]\n"
     ]
    }
   ],
   "source": [
    "print(Pred[:5])\n",
    "print(y_test[:5])"
   ]
  },
  {
   "cell_type": "markdown",
   "id": "eleven-mistress",
   "metadata": {},
   "source": [
    "## 6-Support Vector Regression (SVR)"
   ]
  },
  {
   "cell_type": "code",
   "execution_count": 5,
   "id": "correct-peninsula",
   "metadata": {},
   "outputs": [
    {
     "data": {
      "text/plain": [
       "'\\nsklearn.svm.SVC(*, C=1.0, kernel=’rbf ’, degree=3, gamma=’scale’, coef0=0.0,\\nshrinking=True, probability=False, tol=0.001, cache_size=200,\\nclass_weight=None, verbose=False, max_iter=-1, decision_function_shape=’ovr’, break_ties=False, random_state=None)\\n\\n\\n'"
      ]
     },
     "execution_count": 5,
     "metadata": {},
     "output_type": "execute_result"
    }
   ],
   "source": [
    "\"\"\"\n",
    "sklearn.svm.SVC(*, C=1.0, kernel=’rbf ’, degree=3, gamma=’scale’, coef0=0.0,\n",
    "shrinking=True, probability=False, tol=0.001, cache_size=200,\n",
    "class_weight=None, verbose=False, max_iter=-1, decision_function_shape=’ovr’, break_ties=False, random_state=None)\n",
    "\n",
    "\n",
    "\"\"\""
   ]
  },
  {
   "cell_type": "code",
   "execution_count": 6,
   "id": "capital-columbia",
   "metadata": {},
   "outputs": [],
   "source": [
    "from sklearn.svm import SVR\n",
    "from sklearn.datasets import load_boston\n",
    "from sklearn.model_selection import train_test_split\n"
   ]
  },
  {
   "cell_type": "code",
   "execution_count": 7,
   "id": "automated-vessel",
   "metadata": {},
   "outputs": [],
   "source": [
    "Boston=load_boston()\n",
    "X=Boston.data\n",
    "Y=Boston.target"
   ]
  },
  {
   "cell_type": "code",
   "execution_count": 8,
   "id": "terminal-pharmacology",
   "metadata": {},
   "outputs": [
    {
     "name": "stdout",
     "output_type": "stream",
     "text": [
      "(506, 13)\n",
      "(506,)\n"
     ]
    }
   ],
   "source": [
    "print(X.shape)\n",
    "print(Y.shape)"
   ]
  },
  {
   "cell_type": "code",
   "execution_count": 9,
   "id": "capital-probe",
   "metadata": {},
   "outputs": [],
   "source": [
    "X_train,X_test,y_train,y_test=train_test_split(X,Y,test_size=0.2,shuffle=True,random_state=44)"
   ]
  },
  {
   "cell_type": "code",
   "execution_count": 10,
   "id": "fluid-display",
   "metadata": {},
   "outputs": [
    {
     "name": "stdout",
     "output_type": "stream",
     "text": [
      "(404, 13)\n",
      "(102, 13)\n"
     ]
    }
   ],
   "source": [
    "print(X_train.shape)\n",
    "print(X_test.shape)"
   ]
  },
  {
   "cell_type": "code",
   "execution_count": 28,
   "id": "incident-pantyhose",
   "metadata": {},
   "outputs": [
    {
     "data": {
      "text/plain": [
       "SVR(C=500000)"
      ]
     },
     "execution_count": 28,
     "metadata": {},
     "output_type": "execute_result"
    }
   ],
   "source": [
    "SVRModel=SVR(C=500000,kernel='rbf',epsilon=0.1)\n",
    "SVRModel.fit(X_train,y_train)"
   ]
  },
  {
   "cell_type": "code",
   "execution_count": 29,
   "id": "norman-black",
   "metadata": {},
   "outputs": [
    {
     "name": "stdout",
     "output_type": "stream",
     "text": [
      "Train Score :  0.8767808030627251\n",
      "Test Score :  0.8783969766402434\n"
     ]
    }
   ],
   "source": [
    "print(\"Train Score : \",SVRModel.score(X_train,y_train))\n",
    "print(\"Test Score : \",SVRModel.score(X_test,y_test))\n"
   ]
  },
  {
   "cell_type": "code",
   "execution_count": 30,
   "id": "loose-hunter",
   "metadata": {},
   "outputs": [],
   "source": [
    "Pred=SVRModel.predict(X_test)"
   ]
  },
  {
   "cell_type": "code",
   "execution_count": 31,
   "id": "tested-breed",
   "metadata": {},
   "outputs": [
    {
     "name": "stdout",
     "output_type": "stream",
     "text": [
      "[18.44344987 20.14468292 22.7729879  31.29690838  6.99131974]\n",
      "[17.8 21.5 21.2 32.4 10.9]\n"
     ]
    }
   ],
   "source": [
    "print(Pred[:5])\n",
    "print(y_test[:5])"
   ]
  },
  {
   "cell_type": "markdown",
   "id": "specialized-morris",
   "metadata": {},
   "source": [
    "## 7-Decision Tree Regresssion"
   ]
  },
  {
   "cell_type": "markdown",
   "id": "fallen-skill",
   "metadata": {},
   "source": [
    "Decision tree builds regression or classification models in the form of a tree structure. It breaks down a dataset into smaller and smaller subsets while at the same time an associated decision tree is incrementally developed. The final result is a tree with decision nodes and leaf nodes. "
   ]
  },
  {
   "cell_type": "code",
   "execution_count": 1,
   "id": "premier-castle",
   "metadata": {},
   "outputs": [
    {
     "data": {
      "text/plain": [
       "'\\nDecisionTreeRegressor(*, criterion=’mse’, splitter=’best’, max_depth=None,\\nmin_samples_split=2, min_samples_leaf=1,\\nmin_weight_fraction_leaf=0.0,\\nmax_features=None, random_state=None, max_leaf_nodes=None,\\nmin_impurity_decrease=0.0,\\nmin_impurity_split=None, presort=’deprecated’,\\nccp_alpha=0.0)\\n'"
      ]
     },
     "execution_count": 1,
     "metadata": {},
     "output_type": "execute_result"
    }
   ],
   "source": [
    "\"\"\"\n",
    "DecisionTreeRegressor(*, criterion=’mse’, splitter=’best’, max_depth=None,\n",
    "min_samples_split=2, min_samples_leaf=1,\n",
    "min_weight_fraction_leaf=0.0,\n",
    "max_features=None, random_state=None, max_leaf_nodes=None,\n",
    "min_impurity_decrease=0.0,\n",
    "min_impurity_split=None, presort=’deprecated’,\n",
    "ccp_alpha=0.0)\n",
    "\"\"\""
   ]
  },
  {
   "cell_type": "markdown",
   "id": "abroad-kingdom",
   "metadata": {},
   "source": [
    "<img src=\"Decision_tree_r1.png\">"
   ]
  },
  {
   "cell_type": "code",
   "execution_count": 2,
   "id": "korean-rogers",
   "metadata": {},
   "outputs": [],
   "source": [
    "from sklearn.tree import DecisionTreeRegressor\n",
    "from sklearn.datasets import load_boston\n",
    "from sklearn.model_selection import train_test_split\n",
    "from sklearn.metrics import mean_absolute_error"
   ]
  },
  {
   "cell_type": "code",
   "execution_count": 3,
   "id": "internal-positive",
   "metadata": {},
   "outputs": [],
   "source": [
    "BostonData=load_boston()\n",
    "X=BostonData.data\n",
    "Y=BostonData.target"
   ]
  },
  {
   "cell_type": "code",
   "execution_count": 4,
   "id": "improved-breast",
   "metadata": {},
   "outputs": [
    {
     "data": {
      "text/plain": [
       "(506, 13)"
      ]
     },
     "execution_count": 4,
     "metadata": {},
     "output_type": "execute_result"
    }
   ],
   "source": [
    "X.shape"
   ]
  },
  {
   "cell_type": "code",
   "execution_count": 5,
   "id": "fancy-parade",
   "metadata": {},
   "outputs": [
    {
     "data": {
      "text/plain": [
       "(506,)"
      ]
     },
     "execution_count": 5,
     "metadata": {},
     "output_type": "execute_result"
    }
   ],
   "source": [
    "Y.shape"
   ]
  },
  {
   "cell_type": "code",
   "execution_count": 6,
   "id": "baking-female",
   "metadata": {},
   "outputs": [],
   "source": [
    "X_train,X_test,y_train,y_test=train_test_split(X,Y,test_size=0.2,random_state=44,shuffle=True)"
   ]
  },
  {
   "cell_type": "code",
   "execution_count": 7,
   "id": "quantitative-johnson",
   "metadata": {},
   "outputs": [
    {
     "data": {
      "text/plain": [
       "(404, 13)"
      ]
     },
     "execution_count": 7,
     "metadata": {},
     "output_type": "execute_result"
    }
   ],
   "source": [
    "X_train.shape"
   ]
  },
  {
   "cell_type": "code",
   "execution_count": 8,
   "id": "aggressive-magazine",
   "metadata": {},
   "outputs": [
    {
     "data": {
      "text/plain": [
       "(102, 13)"
      ]
     },
     "execution_count": 8,
     "metadata": {},
     "output_type": "execute_result"
    }
   ],
   "source": [
    "X_test.shape"
   ]
  },
  {
   "cell_type": "code",
   "execution_count": 11,
   "id": "northern-california",
   "metadata": {},
   "outputs": [
    {
     "data": {
      "text/plain": [
       "DecisionTreeRegressor(max_depth=10)"
      ]
     },
     "execution_count": 11,
     "metadata": {},
     "output_type": "execute_result"
    }
   ],
   "source": [
    "DecisionTreeModel=DecisionTreeRegressor(criterion='mse', splitter='best', max_depth=10)\n",
    "DecisionTreeModel.fit(X_train,y_train)"
   ]
  },
  {
   "cell_type": "code",
   "execution_count": 12,
   "id": "composed-writer",
   "metadata": {},
   "outputs": [
    {
     "name": "stdout",
     "output_type": "stream",
     "text": [
      "DecisionTreeModel Train Score :  0.9891002594782698\n",
      "DecisionTreeModel Test Score :  0.8327113646582528\n"
     ]
    }
   ],
   "source": [
    "print(\"DecisionTreeModel Train Score : \",DecisionTreeModel.score(X_train,y_train))\n",
    "print(\"DecisionTreeModel Test Score : \",DecisionTreeModel.score(X_test,y_test))"
   ]
  },
  {
   "cell_type": "code",
   "execution_count": 13,
   "id": "peripheral-chase",
   "metadata": {},
   "outputs": [],
   "source": [
    "y_pred=DecisionTreeModel.predict(X_test)"
   ]
  },
  {
   "cell_type": "code",
   "execution_count": 17,
   "id": "productive-weekly",
   "metadata": {},
   "outputs": [
    {
     "name": "stdout",
     "output_type": "stream",
     "text": [
      "[17.8 21.5 21.2 32.4 10.9 31.7 21.4 24.3 29.1 25. ]\n",
      "[14.3        18.9        20.54814815 33.1        16.1        31.6\n",
      " 20.54814815 22.33333333 23.35555556 11.9       ]\n"
     ]
    }
   ],
   "source": [
    "print(y_test[:10])\n",
    "print(y_pred[:10])"
   ]
  },
  {
   "cell_type": "code",
   "execution_count": null,
   "id": "ancient-steam",
   "metadata": {},
   "outputs": [],
   "source": []
  }
 ],
 "metadata": {
  "kernelspec": {
   "display_name": "Python 3",
   "language": "python",
   "name": "python3"
  },
  "language_info": {
   "codemirror_mode": {
    "name": "ipython",
    "version": 3
   },
   "file_extension": ".py",
   "mimetype": "text/x-python",
   "name": "python",
   "nbconvert_exporter": "python",
   "pygments_lexer": "ipython3",
   "version": "3.8.1"
  }
 },
 "nbformat": 4,
 "nbformat_minor": 5
}
