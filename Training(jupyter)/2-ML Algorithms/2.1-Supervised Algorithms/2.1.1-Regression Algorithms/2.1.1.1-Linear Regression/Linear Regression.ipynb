{
 "cells": [
  {
   "cell_type": "markdown",
   "id": "north-balloon",
   "metadata": {},
   "source": [
    "## 1-Linear Regression "
   ]
  },
  {
   "cell_type": "markdown",
   "id": "established-sauce",
   "metadata": {},
   "source": [
    "Linear regression is the simplest and most widely used statistical technique for predictive modeling. It basically gives us an equation, where we have our features as independent variables, on which our target variable [sales in our case] is dependent upon.\n",
    "this model just regression without using any regularization .\n",
    "So what does the equation look like? Linear regression equation looks like this:\n"
   ]
  },
  {
   "cell_type": "markdown",
   "id": "manual-confidence",
   "metadata": {},
   "source": [
    "<img src=\"Capture.PNG\">"
   ]
  },
  {
   "cell_type": "code",
   "execution_count": 12,
   "id": "broken-prescription",
   "metadata": {},
   "outputs": [],
   "source": [
    "from sklearn.linear_model import LinearRegression\n",
    "from sklearn.metrics import mean_absolute_error\n",
    "from sklearn.metrics import median_absolute_error\n",
    "from sklearn.metrics import mean_squared_error\n",
    "import pandas as pd \n",
    "import numpy as np \n",
    "import matplotlib.pyplot as plt \n",
    "from sklearn.datasets import load_boston\n",
    "from sklearn.model_selection import train_test_split"
   ]
  },
  {
   "cell_type": "code",
   "execution_count": 13,
   "id": "biological-desire",
   "metadata": {},
   "outputs": [],
   "source": [
    "BostonData=load_boston()"
   ]
  },
  {
   "cell_type": "code",
   "execution_count": 14,
   "id": "bizarre-contest",
   "metadata": {},
   "outputs": [],
   "source": [
    "X=BostonData.data\n",
    "Y=BostonData.target"
   ]
  },
  {
   "cell_type": "code",
   "execution_count": 15,
   "id": "pharmaceutical-concern",
   "metadata": {},
   "outputs": [],
   "source": [
    "X_train,X_test,y_train,y_test=train_test_split(X,Y,test_size=0.2,shuffle=True,random_state=44)"
   ]
  },
  {
   "cell_type": "code",
   "execution_count": 16,
   "id": "subject-adjustment",
   "metadata": {},
   "outputs": [
    {
     "data": {
      "text/plain": [
       "LinearRegression(n_jobs=-1, normalize=True)"
      ]
     },
     "execution_count": 16,
     "metadata": {},
     "output_type": "execute_result"
    }
   ],
   "source": [
    "LinearRegressionModel=LinearRegression(copy_X=True,n_jobs=-1,normalize=True,fit_intercept=True)\n",
    "LinearRegressionModel.fit(X_train,y_train)"
   ]
  },
  {
   "cell_type": "code",
   "execution_count": 17,
   "id": "technical-architect",
   "metadata": {},
   "outputs": [
    {
     "name": "stdout",
     "output_type": "stream",
     "text": [
      "Train Score :  0.733565792886427\n",
      "Test Score :  0.7521800808693158\n",
      "Model Coef :  [-1.18000933e-01  5.23312473e-02 -3.42698066e-03  3.27003752e+00\n",
      " -1.97085281e+01  3.11609207e+00  1.98406750e-03 -1.78381648e+00\n",
      "  3.08103483e-01 -1.11789998e-02 -9.60997408e-01  1.00743448e-02\n",
      " -5.75953939e-01]\n"
     ]
    }
   ],
   "source": [
    "print(\"Train Score : \",LinearRegressionModel.score(X_train,y_train))\n",
    "print(\"Test Score : \",LinearRegressionModel.score(X_test,y_test))\n",
    "print(\"Model Coef : \",LinearRegressionModel.coef_)"
   ]
  },
  {
   "cell_type": "code",
   "execution_count": 18,
   "id": "charming-census",
   "metadata": {},
   "outputs": [],
   "source": [
    "Pred=LinearRegressionModel.predict(X_test)"
   ]
  },
  {
   "cell_type": "code",
   "execution_count": 21,
   "id": "documented-employee",
   "metadata": {},
   "outputs": [
    {
     "name": "stdout",
     "output_type": "stream",
     "text": [
      "[17.44218075 25.56161457 22.26808304 37.06364051 13.87846166]\n",
      "[17.8 21.5 21.2 32.4 10.9]\n"
     ]
    }
   ],
   "source": [
    "print(Pred[:5])\n",
    "print(y_test[:5])"
   ]
  },
  {
   "cell_type": "markdown",
   "id": "addressed-england",
   "metadata": {},
   "source": [
    "## 2-"
   ]
  },
  {
   "cell_type": "code",
   "execution_count": null,
   "id": "governmental-wednesday",
   "metadata": {},
   "outputs": [],
   "source": []
  }
 ],
 "metadata": {
  "kernelspec": {
   "display_name": "Python 3",
   "language": "python",
   "name": "python3"
  },
  "language_info": {
   "codemirror_mode": {
    "name": "ipython",
    "version": 3
   },
   "file_extension": ".py",
   "mimetype": "text/x-python",
   "name": "python",
   "nbconvert_exporter": "python",
   "pygments_lexer": "ipython3",
   "version": "3.8.1"
  }
 },
 "nbformat": 4,
 "nbformat_minor": 5
}
