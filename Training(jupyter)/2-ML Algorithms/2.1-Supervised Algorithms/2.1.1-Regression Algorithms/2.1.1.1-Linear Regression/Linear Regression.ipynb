{
 "cells": [
  {
   "cell_type": "markdown",
   "id": "underlying-framework",
   "metadata": {},
   "source": [
    "## 1-Linear Regression "
   ]
  },
  {
   "cell_type": "markdown",
   "id": "nominated-medicare",
   "metadata": {},
   "source": [
    "Linear regression is the simplest and most widely used statistical technique for predictive modeling. It basically gives us an equation, where we have our features as independent variables, on which our target variable [sales in our case] is dependent upon.\n",
    "this model just regression without using any regularization .\n",
    "So what does the equation look like? Linear regression equation looks like this:\n"
   ]
  },
  {
   "cell_type": "markdown",
   "id": "variable-tractor",
   "metadata": {},
   "source": [
    "<img src=\"Capture.PNG\">"
   ]
  },
  {
   "cell_type": "code",
   "execution_count": 12,
   "id": "swiss-matrix",
   "metadata": {},
   "outputs": [],
   "source": [
    "from sklearn.linear_model import LinearRegression\n",
    "from sklearn.metrics import mean_absolute_error\n",
    "from sklearn.metrics import median_absolute_error\n",
    "from sklearn.metrics import mean_squared_error\n",
    "import pandas as pd \n",
    "import numpy as np \n",
    "import matplotlib.pyplot as plt \n",
    "from sklearn.datasets import load_boston\n",
    "from sklearn.model_selection import train_test_split"
   ]
  },
  {
   "cell_type": "code",
   "execution_count": 13,
   "id": "hindu-robin",
   "metadata": {},
   "outputs": [],
   "source": [
    "BostonData=load_boston()"
   ]
  },
  {
   "cell_type": "code",
   "execution_count": 14,
   "id": "micro-mortgage",
   "metadata": {},
   "outputs": [],
   "source": [
    "X=BostonData.data\n",
    "Y=BostonData.target"
   ]
  },
  {
   "cell_type": "code",
   "execution_count": 15,
   "id": "universal-channels",
   "metadata": {},
   "outputs": [],
   "source": [
    "X_train,X_test,y_train,y_test=train_test_split(X,Y,test_size=0.2,shuffle=True,random_state=44)"
   ]
  },
  {
   "cell_type": "code",
   "execution_count": 35,
   "id": "transparent-apache",
   "metadata": {},
   "outputs": [
    {
     "data": {
      "text/plain": [
       "'\\nsklearn.linear_model.LinearRegression(*, fit_intercept=True, normalize=False,\\ncopy_X=True, n_jobs=None)\\n'"
      ]
     },
     "execution_count": 35,
     "metadata": {},
     "output_type": "execute_result"
    }
   ],
   "source": [
    "\"\"\"\n",
    "sklearn.linear_model.LinearRegression(*, fit_intercept=True, normalize=False,\n",
    "copy_X=True, n_jobs=None)\n",
    "\"\"\""
   ]
  },
  {
   "cell_type": "code",
   "execution_count": 16,
   "id": "challenging-importance",
   "metadata": {},
   "outputs": [
    {
     "data": {
      "text/plain": [
       "LinearRegression(n_jobs=-1, normalize=True)"
      ]
     },
     "execution_count": 16,
     "metadata": {},
     "output_type": "execute_result"
    }
   ],
   "source": [
    "LinearRegressionModel=LinearRegression(copy_X=True,n_jobs=-1,normalize=True,fit_intercept=True)\n",
    "LinearRegressionModel.fit(X_train,y_train)"
   ]
  },
  {
   "cell_type": "code",
   "execution_count": 17,
   "id": "quiet-tumor",
   "metadata": {},
   "outputs": [
    {
     "name": "stdout",
     "output_type": "stream",
     "text": [
      "Train Score :  0.733565792886427\n",
      "Test Score :  0.7521800808693158\n",
      "Model Coef :  [-1.18000933e-01  5.23312473e-02 -3.42698066e-03  3.27003752e+00\n",
      " -1.97085281e+01  3.11609207e+00  1.98406750e-03 -1.78381648e+00\n",
      "  3.08103483e-01 -1.11789998e-02 -9.60997408e-01  1.00743448e-02\n",
      " -5.75953939e-01]\n"
     ]
    }
   ],
   "source": [
    "print(\"Train Score : \",LinearRegressionModel.score(X_train,y_train))\n",
    "print(\"Test Score : \",LinearRegressionModel.score(X_test,y_test))\n",
    "print(\"Model Coef : \",LinearRegressionModel.coef_)"
   ]
  },
  {
   "cell_type": "code",
   "execution_count": 18,
   "id": "outside-monaco",
   "metadata": {},
   "outputs": [],
   "source": [
    "Pred=LinearRegressionModel.predict(X_test)"
   ]
  },
  {
   "cell_type": "code",
   "execution_count": 21,
   "id": "alive-situation",
   "metadata": {},
   "outputs": [
    {
     "name": "stdout",
     "output_type": "stream",
     "text": [
      "[17.44218075 25.56161457 22.26808304 37.06364051 13.87846166]\n",
      "[17.8 21.5 21.2 32.4 10.9]\n"
     ]
    }
   ],
   "source": [
    "print(Pred[:5])\n",
    "print(y_test[:5])"
   ]
  },
  {
   "cell_type": "markdown",
   "id": "threaded-andrew",
   "metadata": {},
   "source": [
    "## 2-Ridge Regression "
   ]
  },
  {
   "cell_type": "markdown",
   "id": "foreign-payroll",
   "metadata": {},
   "source": [
    "Ridge Regression is a technique for analyzing multiple regression data that suffer from multicollinearity. ... By adding a degree of bias to the regression estimates, ridge regression reduces the standard errors. It is hoped that the net effect will be to give estimates that are more reliable.\n",
    "and use  regularization on it ."
   ]
  },
  {
   "cell_type": "code",
   "execution_count": 2,
   "id": "hungry-baking",
   "metadata": {},
   "outputs": [],
   "source": [
    "from sklearn.linear_model import Ridge\n",
    "from sklearn.metrics import mean_absolute_error\n",
    "from sklearn.metrics import median_absolute_error\n",
    "from sklearn.metrics import mean_squared_error\n",
    "import pandas as pd \n",
    "import numpy as np \n",
    "import matplotlib.pyplot as plt \n",
    "from sklearn.datasets import load_boston\n",
    "from sklearn.model_selection import train_test_split\n"
   ]
  },
  {
   "cell_type": "code",
   "execution_count": 3,
   "id": "champion-funds",
   "metadata": {},
   "outputs": [],
   "source": [
    "Boston=load_boston()\n",
    "X=Boston.data\n",
    "Y=Boston.target"
   ]
  },
  {
   "cell_type": "code",
   "execution_count": 4,
   "id": "difficult-effect",
   "metadata": {},
   "outputs": [
    {
     "data": {
      "text/plain": [
       "(506, 13)"
      ]
     },
     "execution_count": 4,
     "metadata": {},
     "output_type": "execute_result"
    }
   ],
   "source": [
    "X.shape"
   ]
  },
  {
   "cell_type": "code",
   "execution_count": 5,
   "id": "musical-reservation",
   "metadata": {},
   "outputs": [
    {
     "data": {
      "text/plain": [
       "(506,)"
      ]
     },
     "execution_count": 5,
     "metadata": {},
     "output_type": "execute_result"
    }
   ],
   "source": [
    "Y.shape"
   ]
  },
  {
   "cell_type": "code",
   "execution_count": 6,
   "id": "serious-junior",
   "metadata": {},
   "outputs": [],
   "source": [
    "X_train,X_test,y_train,y_test=train_test_split(X,Y,test_size=0.2,shuffle=True,random_state=44)"
   ]
  },
  {
   "cell_type": "code",
   "execution_count": 7,
   "id": "agricultural-driving",
   "metadata": {},
   "outputs": [
    {
     "data": {
      "text/plain": [
       "'\\nsklearn.linear_model.Ridge(alpha=1.0, *, fit_intercept=True, normalize=False,\\ncopy_X=True, max_iter=None, tol=0.001, solver=’auto’,\\nrandom_state=None)\\n'"
      ]
     },
     "execution_count": 7,
     "metadata": {},
     "output_type": "execute_result"
    }
   ],
   "source": [
    "\"\"\"\n",
    "sklearn.linear_model.Ridge(alpha=1.0, *, fit_intercept=True, normalize=False,\n",
    "copy_X=True, max_iter=None, tol=0.001, solver=’auto’,\n",
    "random_state=None)\n",
    "\"\"\" "
   ]
  },
  {
   "cell_type": "code",
   "execution_count": 30,
   "id": "clinical-difficulty",
   "metadata": {},
   "outputs": [],
   "source": [
    "RigdeLinearRegression=Ridge(alpha=0.001,random_state=44,normalize=True)"
   ]
  },
  {
   "cell_type": "code",
   "execution_count": 31,
   "id": "advance-clock",
   "metadata": {},
   "outputs": [
    {
     "data": {
      "text/plain": [
       "Ridge(alpha=0.001, normalize=True, random_state=44)"
      ]
     },
     "execution_count": 31,
     "metadata": {},
     "output_type": "execute_result"
    }
   ],
   "source": [
    "RigdeLinearRegression.fit(X_train,y_train)"
   ]
  },
  {
   "cell_type": "code",
   "execution_count": 32,
   "id": "communist-agent",
   "metadata": {},
   "outputs": [
    {
     "name": "stdout",
     "output_type": "stream",
     "text": [
      "Train Score :  0.7335621414182676\n",
      "Test Score :  0.7526186896951919\n",
      "Model Coef :  [-1.17315950e-01  5.18725055e-02 -4.92777610e-03  3.27659589e+00\n",
      " -1.95679579e+01  3.12450089e+00  1.86736826e-03 -1.77468317e+00\n",
      "  3.03976981e-01 -1.09879936e-02 -9.59181799e-01  1.00717829e-02\n",
      " -5.74824835e-01]\n"
     ]
    }
   ],
   "source": [
    "print(\"Train Score : \",RigdeLinearRegression.score(X_train,y_train))\n",
    "print(\"Test Score : \",RigdeLinearRegression.score(X_test,y_test))\n",
    "print(\"Model Coef : \",RigdeLinearRegression.coef_)"
   ]
  },
  {
   "cell_type": "code",
   "execution_count": 33,
   "id": "separate-matter",
   "metadata": {},
   "outputs": [],
   "source": [
    "Pred=RigdeLinearRegression.predict(X_test)"
   ]
  },
  {
   "cell_type": "code",
   "execution_count": 34,
   "id": "automotive-introduction",
   "metadata": {},
   "outputs": [
    {
     "name": "stdout",
     "output_type": "stream",
     "text": [
      "[17.45110884 25.54717191 22.2605587  37.03815952 13.88961397]\n",
      "[17.8 21.5 21.2 32.4 10.9]\n"
     ]
    }
   ],
   "source": [
    "print(Pred[:5])\n",
    "print(y_test[:5])"
   ]
  },
  {
   "cell_type": "markdown",
   "id": "humanitarian-premium",
   "metadata": {},
   "source": [
    "# 3-"
   ]
  }
 ],
 "metadata": {
  "kernelspec": {
   "display_name": "Python 3",
   "language": "python",
   "name": "python3"
  },
  "language_info": {
   "codemirror_mode": {
    "name": "ipython",
    "version": 3
   },
   "file_extension": ".py",
   "mimetype": "text/x-python",
   "name": "python",
   "nbconvert_exporter": "python",
   "pygments_lexer": "ipython3",
   "version": "3.8.1"
  }
 },
 "nbformat": 4,
 "nbformat_minor": 5
}
