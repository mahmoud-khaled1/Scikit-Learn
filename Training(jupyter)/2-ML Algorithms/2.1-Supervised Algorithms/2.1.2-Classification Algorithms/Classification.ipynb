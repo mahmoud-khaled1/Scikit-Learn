{
 "cells": [
  {
   "cell_type": "markdown",
   "id": "convinced-dublin",
   "metadata": {},
   "source": [
    "## 1-Logistic Regression "
   ]
  },
  {
   "cell_type": "code",
   "execution_count": 1,
   "id": "agricultural-content",
   "metadata": {},
   "outputs": [
    {
     "data": {
      "text/plain": [
       "'\\nsklearn.linear_model.LogisticRegression(penalty=’l2’, *, dual=False, tol=0.0001,\\nC=1.0, fit_intercept=True, intercept_scaling=1, class_weight=None,\\nrandom_state=None, solver=’lbfgs’,\\nmax_iter=100, multi_class=’auto’,\\nverbose=0, warm_start=False,\\nn_jobs=None, l1_ratio=None)\\n\\n'"
      ]
     },
     "execution_count": 1,
     "metadata": {},
     "output_type": "execute_result"
    }
   ],
   "source": [
    "\"\"\"\n",
    "sklearn.linear_model.LogisticRegression(penalty=’l2’, *, dual=False, tol=0.0001,\n",
    "C=1.0, fit_intercept=True, intercept_scaling=1, class_weight=None,\n",
    "random_state=None, solver=’lbfgs’,\n",
    "max_iter=100, multi_class=’auto’,\n",
    "verbose=0, warm_start=False,\n",
    "n_jobs=None, l1_ratio=None)\n",
    "\n",
    "\"\"\""
   ]
  },
  {
   "cell_type": "code",
   "execution_count": 21,
   "id": "isolated-imaging",
   "metadata": {},
   "outputs": [],
   "source": [
    "from sklearn.linear_model import LogisticRegression\n",
    "from sklearn.datasets import load_breast_cancer\n",
    "from sklearn.model_selection import train_test_split\n",
    "from sklearn.metrics import confusion_matrix"
   ]
  },
  {
   "cell_type": "code",
   "execution_count": 22,
   "id": "correct-rider",
   "metadata": {},
   "outputs": [],
   "source": [
    "Cancer=load_breast_cancer()\n",
    "X=Cancer.data\n",
    "Y=Cancer.target"
   ]
  },
  {
   "cell_type": "code",
   "execution_count": 23,
   "id": "sudden-judges",
   "metadata": {},
   "outputs": [
    {
     "name": "stdout",
     "output_type": "stream",
     "text": [
      "(569, 30)\n",
      "(569,)\n"
     ]
    }
   ],
   "source": [
    "print(X.shape)\n",
    "print(Y.shape)"
   ]
  },
  {
   "cell_type": "code",
   "execution_count": 24,
   "id": "violent-oracle",
   "metadata": {},
   "outputs": [],
   "source": [
    "X_train,X_test,y_train,y_test=train_test_split(X,Y,test_size=0.2,shuffle=True,random_state=44)"
   ]
  },
  {
   "cell_type": "code",
   "execution_count": 30,
   "id": "spoken-happening",
   "metadata": {},
   "outputs": [
    {
     "name": "stdout",
     "output_type": "stream",
     "text": [
      "X_train Shape:  (455, 30)\n",
      "X_test shape :  (114, 30)\n"
     ]
    }
   ],
   "source": [
    "print(\"X_train Shape: \",X_train.shape)\n",
    "print(\"X_test shape : \",X_test.shape)"
   ]
  },
  {
   "cell_type": "code",
   "execution_count": 33,
   "id": "revolutionary-professor",
   "metadata": {},
   "outputs": [
    {
     "data": {
      "text/plain": [
       "LogisticRegression(max_iter=10000, solver='sag')"
      ]
     },
     "execution_count": 33,
     "metadata": {},
     "output_type": "execute_result"
    }
   ],
   "source": [
    "LR=LogisticRegression(penalty='l2',solver='sag',C=1.0,max_iter=10000)\n",
    "LR.fit(X_train,y_train)"
   ]
  },
  {
   "cell_type": "code",
   "execution_count": 35,
   "id": "pending-farming",
   "metadata": {},
   "outputs": [
    {
     "name": "stdout",
     "output_type": "stream",
     "text": [
      "Train Score :  0.9120879120879121\n",
      "Test Score :  0.9736842105263158\n",
      "Classes :  [0 1]\n",
      "Number of iteration :  [4207]\n"
     ]
    }
   ],
   "source": [
    "print(\"Train Score : \",LR.score(X_train,y_train))\n",
    "print(\"Test Score : \",LR.score(X_test,y_test))\n",
    "print(\"Classes : \",LR.classes_)\n",
    "print(\"Number of iteration : \",LR.n_iter_)"
   ]
  },
  {
   "cell_type": "code",
   "execution_count": 36,
   "id": "dimensional-access",
   "metadata": {},
   "outputs": [],
   "source": [
    "y_pred=LR.predict(X_test)\n",
    "y_pre_prob=LR.predict_proba(X_test)"
   ]
  },
  {
   "cell_type": "code",
   "execution_count": 37,
   "id": "developed-piano",
   "metadata": {},
   "outputs": [
    {
     "name": "stdout",
     "output_type": "stream",
     "text": [
      "Prob of Predication : [[9.84106961e-01 1.58930394e-02]\n",
      " [9.99978155e-01 2.18452841e-05]\n",
      " [7.08435003e-02 9.29156500e-01]\n",
      " [9.99999993e-01 7.45720560e-09]\n",
      " [4.07851181e-01 5.92148819e-01]\n",
      " [3.38790489e-01 6.61209511e-01]\n",
      " [2.85414050e-02 9.71458595e-01]\n",
      " [2.83684709e-01 7.16315291e-01]\n",
      " [9.62169427e-01 3.78305729e-02]\n",
      " [1.58598033e-02 9.84140197e-01]\n",
      " [8.00459328e-02 9.19954067e-01]\n",
      " [9.23453378e-02 9.07654662e-01]\n",
      " [9.90232456e-01 9.76754411e-03]\n",
      " [6.61576710e-01 3.38423290e-01]\n",
      " [2.20212167e-02 9.77978783e-01]\n",
      " [5.77323035e-02 9.42267696e-01]\n",
      " [3.42348345e-02 9.65765165e-01]\n",
      " [9.96335941e-01 3.66405918e-03]\n",
      " [7.09255585e-01 2.90744415e-01]\n",
      " [1.31803419e-02 9.86819658e-01]\n",
      " [1.05459184e-02 9.89454082e-01]\n",
      " [2.72689203e-01 7.27310797e-01]\n",
      " [1.36378002e-02 9.86362200e-01]\n",
      " [7.67600759e-02 9.23239924e-01]\n",
      " [1.41008675e-01 8.58991325e-01]\n",
      " [6.26222491e-01 3.73777509e-01]\n",
      " [9.98348580e-02 9.00165142e-01]\n",
      " [3.52277032e-02 9.64772297e-01]\n",
      " [9.99996626e-01 3.37444313e-06]\n",
      " [1.35545603e-02 9.86445440e-01]\n",
      " [2.30460388e-02 9.76953961e-01]\n",
      " [4.22382487e-02 9.57761751e-01]\n",
      " [2.07987973e-01 7.92012027e-01]\n",
      " [1.90873511e-02 9.80912649e-01]\n",
      " [1.79006432e-01 8.20993568e-01]\n",
      " [3.36606760e-02 9.66339324e-01]\n",
      " [8.18783044e-02 9.18121696e-01]\n",
      " [1.65587707e-02 9.83441229e-01]\n",
      " [1.69525855e-02 9.83047414e-01]\n",
      " [7.23609074e-02 9.27639093e-01]\n",
      " [1.84146312e-01 8.15853688e-01]\n",
      " [9.32855033e-02 9.06714497e-01]\n",
      " [9.99996996e-01 3.00446005e-06]\n",
      " [7.38033206e-02 9.26196679e-01]\n",
      " [2.34551546e-02 9.76544845e-01]\n",
      " [8.76413761e-02 9.12358624e-01]\n",
      " [3.86732234e-02 9.61326777e-01]\n",
      " [4.55928558e-02 9.54407144e-01]\n",
      " [2.48432300e-02 9.75156770e-01]\n",
      " [9.99994571e-01 5.42875012e-06]\n",
      " [2.05846163e-01 7.94153837e-01]\n",
      " [1.84527792e-02 9.81547221e-01]\n",
      " [7.38438137e-03 9.92615619e-01]\n",
      " [9.81301996e-01 1.86980045e-02]\n",
      " [3.65872198e-02 9.63412780e-01]\n",
      " [1.00000000e+00 7.08440862e-16]\n",
      " [9.03128128e-01 9.68718720e-02]\n",
      " [3.56158849e-02 9.64384115e-01]\n",
      " [2.23175438e-02 9.77682456e-01]\n",
      " [2.86208544e-01 7.13791456e-01]\n",
      " [2.92698645e-02 9.70730136e-01]\n",
      " [9.07267823e-02 9.09273218e-01]\n",
      " [1.67561693e-02 9.83243831e-01]\n",
      " [9.99998970e-01 1.02986509e-06]\n",
      " [3.05144689e-02 9.69485531e-01]\n",
      " [1.00000000e+00 2.65507349e-12]\n",
      " [9.99999999e-01 8.18040812e-10]\n",
      " [2.47472237e-01 7.52527763e-01]\n",
      " [9.99999985e-01 1.48696595e-08]\n",
      " [9.99999998e-01 1.84701638e-09]\n",
      " [9.94266915e-01 5.73308509e-03]\n",
      " [9.82325428e-03 9.90176746e-01]\n",
      " [1.00000000e+00 1.91547094e-17]\n",
      " [3.30440280e-02 9.66955972e-01]\n",
      " [5.13832001e-02 9.48616800e-01]\n",
      " [9.99912857e-01 8.71434830e-05]\n",
      " [9.02123191e-01 9.78768090e-02]\n",
      " [3.58484976e-02 9.64151502e-01]\n",
      " [9.99999998e-01 1.58644649e-09]\n",
      " [4.59218834e-01 5.40781166e-01]\n",
      " [5.10979242e-02 9.48902076e-01]\n",
      " [2.78372582e-01 7.21627418e-01]\n",
      " [3.65875493e-01 6.34124507e-01]\n",
      " [2.36028219e-02 9.76397178e-01]\n",
      " [8.92497314e-03 9.91075027e-01]\n",
      " [9.99229138e-01 7.70862276e-04]\n",
      " [9.94918704e-03 9.90050813e-01]\n",
      " [1.16458349e-01 8.83541651e-01]\n",
      " [1.93500316e-02 9.80649968e-01]\n",
      " [9.99999997e-01 3.11796541e-09]\n",
      " [8.86524885e-03 9.91134751e-01]\n",
      " [3.34336076e-02 9.66566392e-01]\n",
      " [1.38261712e-02 9.86173829e-01]\n",
      " [4.28922602e-02 9.57107740e-01]\n",
      " [1.80039252e-02 9.81996075e-01]\n",
      " [8.41494952e-02 9.15850505e-01]\n",
      " [9.99925046e-01 7.49542121e-05]\n",
      " [1.03379252e-02 9.89662075e-01]\n",
      " [2.58521511e-02 9.74147849e-01]\n",
      " [9.99999928e-01 7.18022337e-08]\n",
      " [1.19518443e-02 9.88048156e-01]\n",
      " [9.99638064e-01 3.61936465e-04]\n",
      " [9.99524045e-01 4.75954578e-04]\n",
      " [2.23222506e-01 7.76777494e-01]\n",
      " [9.99995564e-01 4.43595084e-06]\n",
      " [1.06457425e-02 9.89354257e-01]\n",
      " [1.30379879e-01 8.69620121e-01]\n",
      " [9.99994274e-01 5.72647747e-06]\n",
      " [9.99994007e-01 5.99340083e-06]\n",
      " [8.92016925e-02 9.10798308e-01]\n",
      " [9.89847063e-01 1.01529368e-02]\n",
      " [9.99969113e-01 3.08870826e-05]\n",
      " [9.96897548e-01 3.10245228e-03]\n",
      " [9.91033969e-01 8.96603078e-03]]\n"
     ]
    }
   ],
   "source": [
    "print(\"Prob of Predication :\",y_pre_prob)"
   ]
  },
  {
   "cell_type": "code",
   "execution_count": 40,
   "id": "australian-forum",
   "metadata": {},
   "outputs": [
    {
     "name": "stdout",
     "output_type": "stream",
     "text": [
      "Test : \n",
      " [0 0 1 0 1]\n",
      "Pred ; \n",
      " [0 0 1 0 1]\n"
     ]
    }
   ],
   "source": [
    "print(\"Test : \\n\",y_test[:5])\n",
    "print(\"Pred ; \\n\",y_pred[:5])"
   ]
  },
  {
   "cell_type": "markdown",
   "id": "consistent-helena",
   "metadata": {},
   "source": [
    "CM=confusion_matrix(y_test,y_pred)\n",
    "print(CM)"
   ]
  },
  {
   "cell_type": "code",
   "execution_count": 47,
   "id": "worthy-crime",
   "metadata": {},
   "outputs": [
    {
     "data": {
      "image/png": "[encoded data removed]",
      "text/plain": [
       "<Figure size 432x288 with 2 Axes>"
      ]
     },
     "metadata": {
      "needs_background": "light"
     },
     "output_type": "display_data"
    }
   ],
   "source": [
    "import matplotlib.pyplot as plt\n",
    "import seaborn as sns\n",
    "from sklearn.metrics import accuracy_score\n",
    "sns.heatmap(CM,center=True)\n",
    "plt.show()"
   ]
  },
  {
   "cell_type": "code",
   "execution_count": 48,
   "id": "liked-still",
   "metadata": {},
   "outputs": [
    {
     "name": "stdout",
     "output_type": "stream",
     "text": [
      "Score :  0.9736842105263158\n"
     ]
    }
   ],
   "source": [
    "ACCScore =accuracy_score(y_test,y_pred,normalize=True)\n",
    "print(\"Score : \",ACCScore)"
   ]
  },
  {
   "cell_type": "markdown",
   "id": "based-decision",
   "metadata": {},
   "source": [
    "##### Another Example :"
   ]
  },
  {
   "cell_type": "code",
   "execution_count": 50,
   "id": "restricted-cruise",
   "metadata": {},
   "outputs": [],
   "source": [
    "from sklearn.linear_model import LogisticRegression\n",
    "from sklearn.datasets import load_breast_cancer\n",
    "from sklearn.model_selection import train_test_split\n",
    "from sklearn.metrics import confusion_matrix\n",
    "import matplotlib.pyplot as plt\n",
    "import seaborn as sns\n",
    "from sklearn.metrics import accuracy_score\n",
    "import pandas as pd \n",
    "import numpy as np \n",
    "\n"
   ]
  },
  {
   "cell_type": "code",
   "execution_count": 52,
   "id": "cultural-lebanon",
   "metadata": {},
   "outputs": [
    {
     "data": {
      "text/html": [
       "<div>\n",
       "<style scoped>\n",
       "    .dataframe tbody tr th:only-of-type {\n",
       "        vertical-align: middle;\n",
       "    }\n",
       "\n",
       "    .dataframe tbody tr th {\n",
       "        vertical-align: top;\n",
       "    }\n",
       "\n",
       "    .dataframe thead th {\n",
       "        text-align: right;\n",
       "    }\n",
       "</style>\n",
       "<table border=\"1\" class=\"dataframe\">\n",
       "  <thead>\n",
       "    <tr style=\"text-align: right;\">\n",
       "      <th></th>\n",
       "      <th>age</th>\n",
       "      <th>sex</th>\n",
       "      <th>cp</th>\n",
       "      <th>trestbps</th>\n",
       "      <th>chol</th>\n",
       "      <th>fbs</th>\n",
       "      <th>restecg</th>\n",
       "      <th>thalach</th>\n",
       "      <th>exang</th>\n",
       "      <th>oldpeak</th>\n",
       "      <th>slope</th>\n",
       "      <th>ca</th>\n",
       "      <th>thal</th>\n",
       "      <th>target</th>\n",
       "    </tr>\n",
       "  </thead>\n",
       "  <tbody>\n",
       "    <tr>\n",
       "      <th>0</th>\n",
       "      <td>63</td>\n",
       "      <td>1</td>\n",
       "      <td>3</td>\n",
       "      <td>145</td>\n",
       "      <td>233</td>\n",
       "      <td>1</td>\n",
       "      <td>0</td>\n",
       "      <td>150</td>\n",
       "      <td>0</td>\n",
       "      <td>2.3</td>\n",
       "      <td>0</td>\n",
       "      <td>0</td>\n",
       "      <td>1</td>\n",
       "      <td>1</td>\n",
       "    </tr>\n",
       "    <tr>\n",
       "      <th>1</th>\n",
       "      <td>37</td>\n",
       "      <td>1</td>\n",
       "      <td>2</td>\n",
       "      <td>130</td>\n",
       "      <td>250</td>\n",
       "      <td>0</td>\n",
       "      <td>1</td>\n",
       "      <td>187</td>\n",
       "      <td>0</td>\n",
       "      <td>3.5</td>\n",
       "      <td>0</td>\n",
       "      <td>0</td>\n",
       "      <td>2</td>\n",
       "      <td>1</td>\n",
       "    </tr>\n",
       "    <tr>\n",
       "      <th>2</th>\n",
       "      <td>41</td>\n",
       "      <td>0</td>\n",
       "      <td>1</td>\n",
       "      <td>130</td>\n",
       "      <td>204</td>\n",
       "      <td>0</td>\n",
       "      <td>0</td>\n",
       "      <td>172</td>\n",
       "      <td>0</td>\n",
       "      <td>1.4</td>\n",
       "      <td>2</td>\n",
       "      <td>0</td>\n",
       "      <td>2</td>\n",
       "      <td>1</td>\n",
       "    </tr>\n",
       "    <tr>\n",
       "      <th>3</th>\n",
       "      <td>56</td>\n",
       "      <td>1</td>\n",
       "      <td>1</td>\n",
       "      <td>120</td>\n",
       "      <td>236</td>\n",
       "      <td>0</td>\n",
       "      <td>1</td>\n",
       "      <td>178</td>\n",
       "      <td>0</td>\n",
       "      <td>0.8</td>\n",
       "      <td>2</td>\n",
       "      <td>0</td>\n",
       "      <td>2</td>\n",
       "      <td>1</td>\n",
       "    </tr>\n",
       "    <tr>\n",
       "      <th>4</th>\n",
       "      <td>57</td>\n",
       "      <td>0</td>\n",
       "      <td>0</td>\n",
       "      <td>120</td>\n",
       "      <td>354</td>\n",
       "      <td>0</td>\n",
       "      <td>1</td>\n",
       "      <td>163</td>\n",
       "      <td>1</td>\n",
       "      <td>0.6</td>\n",
       "      <td>2</td>\n",
       "      <td>0</td>\n",
       "      <td>2</td>\n",
       "      <td>1</td>\n",
       "    </tr>\n",
       "    <tr>\n",
       "      <th>5</th>\n",
       "      <td>57</td>\n",
       "      <td>1</td>\n",
       "      <td>0</td>\n",
       "      <td>140</td>\n",
       "      <td>192</td>\n",
       "      <td>0</td>\n",
       "      <td>1</td>\n",
       "      <td>148</td>\n",
       "      <td>0</td>\n",
       "      <td>0.4</td>\n",
       "      <td>1</td>\n",
       "      <td>0</td>\n",
       "      <td>1</td>\n",
       "      <td>1</td>\n",
       "    </tr>\n",
       "    <tr>\n",
       "      <th>6</th>\n",
       "      <td>56</td>\n",
       "      <td>0</td>\n",
       "      <td>1</td>\n",
       "      <td>140</td>\n",
       "      <td>294</td>\n",
       "      <td>0</td>\n",
       "      <td>0</td>\n",
       "      <td>153</td>\n",
       "      <td>0</td>\n",
       "      <td>1.3</td>\n",
       "      <td>1</td>\n",
       "      <td>0</td>\n",
       "      <td>2</td>\n",
       "      <td>1</td>\n",
       "    </tr>\n",
       "    <tr>\n",
       "      <th>7</th>\n",
       "      <td>44</td>\n",
       "      <td>1</td>\n",
       "      <td>1</td>\n",
       "      <td>120</td>\n",
       "      <td>263</td>\n",
       "      <td>0</td>\n",
       "      <td>1</td>\n",
       "      <td>173</td>\n",
       "      <td>0</td>\n",
       "      <td>0.0</td>\n",
       "      <td>2</td>\n",
       "      <td>0</td>\n",
       "      <td>3</td>\n",
       "      <td>1</td>\n",
       "    </tr>\n",
       "    <tr>\n",
       "      <th>8</th>\n",
       "      <td>52</td>\n",
       "      <td>1</td>\n",
       "      <td>2</td>\n",
       "      <td>172</td>\n",
       "      <td>199</td>\n",
       "      <td>1</td>\n",
       "      <td>1</td>\n",
       "      <td>162</td>\n",
       "      <td>0</td>\n",
       "      <td>0.5</td>\n",
       "      <td>2</td>\n",
       "      <td>0</td>\n",
       "      <td>3</td>\n",
       "      <td>1</td>\n",
       "    </tr>\n",
       "    <tr>\n",
       "      <th>9</th>\n",
       "      <td>57</td>\n",
       "      <td>1</td>\n",
       "      <td>2</td>\n",
       "      <td>150</td>\n",
       "      <td>168</td>\n",
       "      <td>0</td>\n",
       "      <td>1</td>\n",
       "      <td>174</td>\n",
       "      <td>0</td>\n",
       "      <td>1.6</td>\n",
       "      <td>2</td>\n",
       "      <td>0</td>\n",
       "      <td>2</td>\n",
       "      <td>1</td>\n",
       "    </tr>\n",
       "  </tbody>\n",
       "</table>\n",
       "</div>"
      ],
      "text/plain": [
       "   age  sex  cp  trestbps  chol  fbs  restecg  thalach  exang  oldpeak  slope  \\\n",
       "0   63    1   3       145   233    1        0      150      0      2.3      0   \n",
       "1   37    1   2       130   250    0        1      187      0      3.5      0   \n",
       "2   41    0   1       130   204    0        0      172      0      1.4      2   \n",
       "3   56    1   1       120   236    0        1      178      0      0.8      2   \n",
       "4   57    0   0       120   354    0        1      163      1      0.6      2   \n",
       "5   57    1   0       140   192    0        1      148      0      0.4      1   \n",
       "6   56    0   1       140   294    0        0      153      0      1.3      1   \n",
       "7   44    1   1       120   263    0        1      173      0      0.0      2   \n",
       "8   52    1   2       172   199    1        1      162      0      0.5      2   \n",
       "9   57    1   2       150   168    0        1      174      0      1.6      2   \n",
       "\n",
       "   ca  thal  target  \n",
       "0   0     1       1  \n",
       "1   0     2       1  \n",
       "2   0     2       1  \n",
       "3   0     2       1  \n",
       "4   0     2       1  \n",
       "5   0     1       1  \n",
       "6   0     2       1  \n",
       "7   0     3       1  \n",
       "8   0     3       1  \n",
       "9   0     2       1  "
      ]
     },
     "execution_count": 52,
     "metadata": {},
     "output_type": "execute_result"
    }
   ],
   "source": [
    "dataset=pd.read_csv('heart.csv')\n",
    "dataset.head(10)"
   ]
  },
  {
   "cell_type": "code",
   "execution_count": 53,
   "id": "seasonal-motorcycle",
   "metadata": {},
   "outputs": [],
   "source": [
    "X=dataset.iloc[:,:-1]\n",
    "Y=dataset.iloc[:,-1]"
   ]
  },
  {
   "cell_type": "code",
   "execution_count": 54,
   "id": "existing-chicken",
   "metadata": {},
   "outputs": [
    {
     "name": "stdout",
     "output_type": "stream",
     "text": [
      "(303, 13)\n",
      "(303,)\n"
     ]
    }
   ],
   "source": [
    "print(X.shape)\n",
    "print(Y.shape)"
   ]
  },
  {
   "cell_type": "code",
   "execution_count": 55,
   "id": "equivalent-contents",
   "metadata": {},
   "outputs": [],
   "source": [
    "X_train,X_test,y_train,y_test=train_test_split(X,Y,test_size=0.2,random_state=44,shuffle=True)"
   ]
  },
  {
   "cell_type": "code",
   "execution_count": 57,
   "id": "hairy-fantasy",
   "metadata": {},
   "outputs": [
    {
     "name": "stdout",
     "output_type": "stream",
     "text": [
      "(242, 13)\n",
      "(61, 13)\n"
     ]
    }
   ],
   "source": [
    "print(X_train.shape)\n",
    "print(X_test.shape)"
   ]
  },
  {
   "cell_type": "code",
   "execution_count": 58,
   "id": "falling-animation",
   "metadata": {},
   "outputs": [],
   "source": [
    "from sklearn.preprocessing import StandardScaler "
   ]
  },
  {
   "cell_type": "code",
   "execution_count": 59,
   "id": "manual-programming",
   "metadata": {},
   "outputs": [],
   "source": [
    "SC=StandardScaler()\n",
    "X_train=SC.fit_transform(X_train)\n",
    "X_test=SC.transform(X_test)"
   ]
  },
  {
   "cell_type": "code",
   "execution_count": 66,
   "id": "composite-tunisia",
   "metadata": {},
   "outputs": [],
   "source": [
    "LR=LogisticRegression(penalty='l2',solver='sag',C=1.0,max_iter=1000000)\n",
    "LR.fit(X_train,y_train)\n",
    "y_pred=LR.predict(X_test)"
   ]
  },
  {
   "cell_type": "code",
   "execution_count": 67,
   "id": "light-international",
   "metadata": {},
   "outputs": [
    {
     "name": "stdout",
     "output_type": "stream",
     "text": [
      "Train Score :  0.859504132231405\n",
      "Test Score :  0.8360655737704918\n",
      "Classes :  [0 1]\n",
      "Number of iteration :  [13]\n"
     ]
    }
   ],
   "source": [
    "print(\"Train Score : \",LR.score(X_train,y_train))\n",
    "print(\"Test Score : \",LR.score(X_test,y_test))\n",
    "print(\"Classes : \",LR.classes_)\n",
    "print(\"Number of iteration : \",LR.n_iter_)"
   ]
  },
  {
   "cell_type": "code",
   "execution_count": 73,
   "id": "synthetic-station",
   "metadata": {},
   "outputs": [
    {
     "name": "stdout",
     "output_type": "stream",
     "text": [
      "[1, 1, 0, 0, 1]\n",
      "[1 1 1 1 1]\n"
     ]
    }
   ],
   "source": [
    "print(list(y_test[:5]))\n",
    "print(y_pred[:5])"
   ]
  },
  {
   "cell_type": "code",
   "execution_count": 74,
   "id": "descending-federal",
   "metadata": {},
   "outputs": [
    {
     "name": "stdout",
     "output_type": "stream",
     "text": [
      "[[23  5]\n",
      " [ 5 28]]\n"
     ]
    }
   ],
   "source": [
    "CM=confusion_matrix(y_test,y_pred)\n",
    "print(CM)"
   ]
  },
  {
   "cell_type": "code",
   "execution_count": 75,
   "id": "cosmetic-legislation",
   "metadata": {},
   "outputs": [
    {
     "name": "stdout",
     "output_type": "stream",
     "text": [
      "Score :  0.8360655737704918\n"
     ]
    }
   ],
   "source": [
    "ACCScore =accuracy_score(y_test,y_pred,normalize=True)\n",
    "print(\"Score : \",ACCScore)"
   ]
  },
  {
   "cell_type": "markdown",
   "id": "molecular-reproduction",
   "metadata": {},
   "source": [
    "## 2-SGDClassifier"
   ]
  },
  {
   "cell_type": "code",
   "execution_count": 76,
   "id": "domestic-enough",
   "metadata": {},
   "outputs": [
    {
     "data": {
      "text/plain": [
       "' \\nsklearn.linear_model.SGDClassifier(loss=’hinge’, *, penalty=’l2’, alpha=0.0001, l1_ratio=0.15, fit_intercept=True,\\nmax_iter=1000, tol=0.001, shuffle=True,\\nverbose=0, epsilon=0.1, n_jobs=None, random_state=None, learning_rate=’optimal’,\\neta0=0.0, power_t=0.5, early_stopping=False,\\nvalidation_fraction=0.1, n_iter_no_change=5,\\nclass_weight=None, warm_start=False, average=False)\\n\\n'"
      ]
     },
     "execution_count": 76,
     "metadata": {},
     "output_type": "execute_result"
    }
   ],
   "source": [
    "\"\"\" \n",
    "sklearn.linear_model.SGDClassifier(loss=’hinge’, *, penalty=’l2’, alpha=0.0001, l1_ratio=0.15, fit_intercept=True,\n",
    "max_iter=1000, tol=0.001, shuffle=True,\n",
    "verbose=0, epsilon=0.1, n_jobs=None, random_state=None, learning_rate=’optimal’,\n",
    "eta0=0.0, power_t=0.5, early_stopping=False,\n",
    "validation_fraction=0.1, n_iter_no_change=5,\n",
    "class_weight=None, warm_start=False, average=False)\n",
    "\n",
    "\"\"\""
   ]
  },
  {
   "cell_type": "code",
   "execution_count": 87,
   "id": "modern-arrest",
   "metadata": {},
   "outputs": [],
   "source": [
    "from sklearn.linear_model import SGDClassifier\n",
    "from sklearn.datasets import load_breast_cancer\n",
    "from sklearn.model_selection import train_test_split\n",
    "from sklearn.metrics import confusion_matrix\n",
    "import matplotlib.pyplot as plt\n",
    "import seaborn as sns\n",
    "from sklearn.metrics import accuracy_score\n",
    "import pandas as pd \n",
    "import numpy as np \n",
    "\n"
   ]
  },
  {
   "cell_type": "code",
   "execution_count": 78,
   "id": "broke-tactics",
   "metadata": {},
   "outputs": [
    {
     "data": {
      "text/html": [
       "<div>\n",
       "<style scoped>\n",
       "    .dataframe tbody tr th:only-of-type {\n",
       "        vertical-align: middle;\n",
       "    }\n",
       "\n",
       "    .dataframe tbody tr th {\n",
       "        vertical-align: top;\n",
       "    }\n",
       "\n",
       "    .dataframe thead th {\n",
       "        text-align: right;\n",
       "    }\n",
       "</style>\n",
       "<table border=\"1\" class=\"dataframe\">\n",
       "  <thead>\n",
       "    <tr style=\"text-align: right;\">\n",
       "      <th></th>\n",
       "      <th>age</th>\n",
       "      <th>sex</th>\n",
       "      <th>cp</th>\n",
       "      <th>trestbps</th>\n",
       "      <th>chol</th>\n",
       "      <th>fbs</th>\n",
       "      <th>restecg</th>\n",
       "      <th>thalach</th>\n",
       "      <th>exang</th>\n",
       "      <th>oldpeak</th>\n",
       "      <th>slope</th>\n",
       "      <th>ca</th>\n",
       "      <th>thal</th>\n",
       "      <th>target</th>\n",
       "    </tr>\n",
       "  </thead>\n",
       "  <tbody>\n",
       "    <tr>\n",
       "      <th>0</th>\n",
       "      <td>63</td>\n",
       "      <td>1</td>\n",
       "      <td>3</td>\n",
       "      <td>145</td>\n",
       "      <td>233</td>\n",
       "      <td>1</td>\n",
       "      <td>0</td>\n",
       "      <td>150</td>\n",
       "      <td>0</td>\n",
       "      <td>2.3</td>\n",
       "      <td>0</td>\n",
       "      <td>0</td>\n",
       "      <td>1</td>\n",
       "      <td>1</td>\n",
       "    </tr>\n",
       "    <tr>\n",
       "      <th>1</th>\n",
       "      <td>37</td>\n",
       "      <td>1</td>\n",
       "      <td>2</td>\n",
       "      <td>130</td>\n",
       "      <td>250</td>\n",
       "      <td>0</td>\n",
       "      <td>1</td>\n",
       "      <td>187</td>\n",
       "      <td>0</td>\n",
       "      <td>3.5</td>\n",
       "      <td>0</td>\n",
       "      <td>0</td>\n",
       "      <td>2</td>\n",
       "      <td>1</td>\n",
       "    </tr>\n",
       "    <tr>\n",
       "      <th>2</th>\n",
       "      <td>41</td>\n",
       "      <td>0</td>\n",
       "      <td>1</td>\n",
       "      <td>130</td>\n",
       "      <td>204</td>\n",
       "      <td>0</td>\n",
       "      <td>0</td>\n",
       "      <td>172</td>\n",
       "      <td>0</td>\n",
       "      <td>1.4</td>\n",
       "      <td>2</td>\n",
       "      <td>0</td>\n",
       "      <td>2</td>\n",
       "      <td>1</td>\n",
       "    </tr>\n",
       "    <tr>\n",
       "      <th>3</th>\n",
       "      <td>56</td>\n",
       "      <td>1</td>\n",
       "      <td>1</td>\n",
       "      <td>120</td>\n",
       "      <td>236</td>\n",
       "      <td>0</td>\n",
       "      <td>1</td>\n",
       "      <td>178</td>\n",
       "      <td>0</td>\n",
       "      <td>0.8</td>\n",
       "      <td>2</td>\n",
       "      <td>0</td>\n",
       "      <td>2</td>\n",
       "      <td>1</td>\n",
       "    </tr>\n",
       "    <tr>\n",
       "      <th>4</th>\n",
       "      <td>57</td>\n",
       "      <td>0</td>\n",
       "      <td>0</td>\n",
       "      <td>120</td>\n",
       "      <td>354</td>\n",
       "      <td>0</td>\n",
       "      <td>1</td>\n",
       "      <td>163</td>\n",
       "      <td>1</td>\n",
       "      <td>0.6</td>\n",
       "      <td>2</td>\n",
       "      <td>0</td>\n",
       "      <td>2</td>\n",
       "      <td>1</td>\n",
       "    </tr>\n",
       "    <tr>\n",
       "      <th>5</th>\n",
       "      <td>57</td>\n",
       "      <td>1</td>\n",
       "      <td>0</td>\n",
       "      <td>140</td>\n",
       "      <td>192</td>\n",
       "      <td>0</td>\n",
       "      <td>1</td>\n",
       "      <td>148</td>\n",
       "      <td>0</td>\n",
       "      <td>0.4</td>\n",
       "      <td>1</td>\n",
       "      <td>0</td>\n",
       "      <td>1</td>\n",
       "      <td>1</td>\n",
       "    </tr>\n",
       "    <tr>\n",
       "      <th>6</th>\n",
       "      <td>56</td>\n",
       "      <td>0</td>\n",
       "      <td>1</td>\n",
       "      <td>140</td>\n",
       "      <td>294</td>\n",
       "      <td>0</td>\n",
       "      <td>0</td>\n",
       "      <td>153</td>\n",
       "      <td>0</td>\n",
       "      <td>1.3</td>\n",
       "      <td>1</td>\n",
       "      <td>0</td>\n",
       "      <td>2</td>\n",
       "      <td>1</td>\n",
       "    </tr>\n",
       "    <tr>\n",
       "      <th>7</th>\n",
       "      <td>44</td>\n",
       "      <td>1</td>\n",
       "      <td>1</td>\n",
       "      <td>120</td>\n",
       "      <td>263</td>\n",
       "      <td>0</td>\n",
       "      <td>1</td>\n",
       "      <td>173</td>\n",
       "      <td>0</td>\n",
       "      <td>0.0</td>\n",
       "      <td>2</td>\n",
       "      <td>0</td>\n",
       "      <td>3</td>\n",
       "      <td>1</td>\n",
       "    </tr>\n",
       "    <tr>\n",
       "      <th>8</th>\n",
       "      <td>52</td>\n",
       "      <td>1</td>\n",
       "      <td>2</td>\n",
       "      <td>172</td>\n",
       "      <td>199</td>\n",
       "      <td>1</td>\n",
       "      <td>1</td>\n",
       "      <td>162</td>\n",
       "      <td>0</td>\n",
       "      <td>0.5</td>\n",
       "      <td>2</td>\n",
       "      <td>0</td>\n",
       "      <td>3</td>\n",
       "      <td>1</td>\n",
       "    </tr>\n",
       "    <tr>\n",
       "      <th>9</th>\n",
       "      <td>57</td>\n",
       "      <td>1</td>\n",
       "      <td>2</td>\n",
       "      <td>150</td>\n",
       "      <td>168</td>\n",
       "      <td>0</td>\n",
       "      <td>1</td>\n",
       "      <td>174</td>\n",
       "      <td>0</td>\n",
       "      <td>1.6</td>\n",
       "      <td>2</td>\n",
       "      <td>0</td>\n",
       "      <td>2</td>\n",
       "      <td>1</td>\n",
       "    </tr>\n",
       "  </tbody>\n",
       "</table>\n",
       "</div>"
      ],
      "text/plain": [
       "   age  sex  cp  trestbps  chol  fbs  restecg  thalach  exang  oldpeak  slope  \\\n",
       "0   63    1   3       145   233    1        0      150      0      2.3      0   \n",
       "1   37    1   2       130   250    0        1      187      0      3.5      0   \n",
       "2   41    0   1       130   204    0        0      172      0      1.4      2   \n",
       "3   56    1   1       120   236    0        1      178      0      0.8      2   \n",
       "4   57    0   0       120   354    0        1      163      1      0.6      2   \n",
       "5   57    1   0       140   192    0        1      148      0      0.4      1   \n",
       "6   56    0   1       140   294    0        0      153      0      1.3      1   \n",
       "7   44    1   1       120   263    0        1      173      0      0.0      2   \n",
       "8   52    1   2       172   199    1        1      162      0      0.5      2   \n",
       "9   57    1   2       150   168    0        1      174      0      1.6      2   \n",
       "\n",
       "   ca  thal  target  \n",
       "0   0     1       1  \n",
       "1   0     2       1  \n",
       "2   0     2       1  \n",
       "3   0     2       1  \n",
       "4   0     2       1  \n",
       "5   0     1       1  \n",
       "6   0     2       1  \n",
       "7   0     3       1  \n",
       "8   0     3       1  \n",
       "9   0     2       1  "
      ]
     },
     "execution_count": 78,
     "metadata": {},
     "output_type": "execute_result"
    }
   ],
   "source": [
    "dataset=pd.read_csv('heart.csv')\n",
    "dataset.head(10)"
   ]
  },
  {
   "cell_type": "code",
   "execution_count": 81,
   "id": "extraordinary-privacy",
   "metadata": {},
   "outputs": [],
   "source": [
    "X=dataset.iloc[:,:-1]\n",
    "Y=dataset.iloc[:,-1]"
   ]
  },
  {
   "cell_type": "code",
   "execution_count": 82,
   "id": "herbal-beijing",
   "metadata": {},
   "outputs": [],
   "source": [
    "X_train,X_test,y_train,y_test=train_test_split(X,Y,test_size=0.2,shuffle=True,random_state=44)"
   ]
  },
  {
   "cell_type": "code",
   "execution_count": 83,
   "id": "essential-calcium",
   "metadata": {},
   "outputs": [
    {
     "name": "stdout",
     "output_type": "stream",
     "text": [
      "X_train Shape:  (242, 13)\n",
      "X_test shape :  (61, 13)\n"
     ]
    }
   ],
   "source": [
    "print(\"X_train Shape: \",X_train.shape)\n",
    "print(\"X_test shape : \",X_test.shape)"
   ]
  },
  {
   "cell_type": "code",
   "execution_count": 84,
   "id": "outside-glasgow",
   "metadata": {},
   "outputs": [],
   "source": [
    "from sklearn.preprocessing import StandardScaler "
   ]
  },
  {
   "cell_type": "code",
   "execution_count": 85,
   "id": "minor-organic",
   "metadata": {},
   "outputs": [],
   "source": [
    "SC=StandardScaler()\n",
    "X_train=SC.fit_transform(X_train)\n",
    "X_test=SC.transform(X_test)"
   ]
  },
  {
   "cell_type": "code",
   "execution_count": 100,
   "id": "rubber-plaintiff",
   "metadata": {},
   "outputs": [],
   "source": [
    "SGC=SGDClassifier(penalty='l2',max_iter=1000000)\n",
    "SGC.fit(X_train,y_train)\n",
    "y_pred=LR.predict(X_test)"
   ]
  },
  {
   "cell_type": "code",
   "execution_count": 101,
   "id": "accepted-coaching",
   "metadata": {},
   "outputs": [
    {
     "name": "stdout",
     "output_type": "stream",
     "text": [
      "Train Score :  0.8016528925619835\n",
      "Test Score :  0.819672131147541\n",
      "Classes :  [0 1]\n",
      "Number of iteration :  34\n"
     ]
    }
   ],
   "source": [
    "print(\"Train Score : \",SGC.score(X_train,y_train))\n",
    "print(\"Test Score : \",SGC.score(X_test,y_test))\n",
    "print(\"Classes : \",SGC.classes_)\n",
    "print(\"Number of iteration : \",SGC.n_iter_)"
   ]
  },
  {
   "cell_type": "code",
   "execution_count": 102,
   "id": "completed-queens",
   "metadata": {},
   "outputs": [
    {
     "name": "stdout",
     "output_type": "stream",
     "text": [
      "[1, 1, 0, 0, 1]\n",
      "[1 1 1 1 1]\n"
     ]
    }
   ],
   "source": [
    "print(list(y_test[:5]))\n",
    "print(y_pred[:5])"
   ]
  },
  {
   "cell_type": "code",
   "execution_count": 103,
   "id": "cardiac-helmet",
   "metadata": {},
   "outputs": [
    {
     "name": "stdout",
     "output_type": "stream",
     "text": [
      "[[23  5]\n",
      " [ 5 28]]\n"
     ]
    }
   ],
   "source": [
    "CM=confusion_matrix(y_test,y_pred)\n",
    "print(CM)"
   ]
  },
  {
   "cell_type": "code",
   "execution_count": 104,
   "id": "happy-playback",
   "metadata": {},
   "outputs": [
    {
     "name": "stdout",
     "output_type": "stream",
     "text": [
      "Score :  0.8360655737704918\n"
     ]
    }
   ],
   "source": [
    "ACCScore =accuracy_score(y_test,y_pred,normalize=True)\n",
    "print(\"Score : \",ACCScore)"
   ]
  },
  {
   "cell_type": "markdown",
   "id": "manual-sapphire",
   "metadata": {},
   "source": [
    "## 3-Neural Network in Classification "
   ]
  },
  {
   "cell_type": "code",
   "execution_count": 105,
   "id": "binary-intranet",
   "metadata": {},
   "outputs": [],
   "source": [
    "from sklearn.neural_network import MLPClassifier \n",
    "from sklearn.datasets import load_breast_cancer\n",
    "from sklearn.model_selection import train_test_split\n",
    "from sklearn.metrics import confusion_matrix "
   ]
  },
  {
   "cell_type": "code",
   "execution_count": 106,
   "id": "billion-award",
   "metadata": {},
   "outputs": [
    {
     "data": {
      "text/plain": [
       "' \\nsklearn.neural_network.MLPClassifier(hidden_layer_sizes=(100, ), activation=’relu’, *, solver=’adam’, alpha=0.0001,\\nbatch_size=’auto’, learning_rate=’constant’,\\nlearning_rate_init=0.001, power_t=0.5,\\nmax_iter=200, shuffle=True, random_state=None, tol=0.0001, verbose=False, warm_start=False, momentum=0.9, nesterovs_momentum=True,\\nearly_stopping=False, validation_fraction=0.1, beta_1=0.9, beta_2=0.999,\\nepsilon=1e-08, n_iter_no_change=10,\\nmax_fun=15000)\\n\\n\\n'"
      ]
     },
     "execution_count": 106,
     "metadata": {},
     "output_type": "execute_result"
    }
   ],
   "source": [
    "\"\"\" \n",
    "sklearn.neural_network.MLPClassifier(hidden_layer_sizes=(100, ), activation=’relu’, *, solver=’adam’, alpha=0.0001,\n",
    "batch_size=’auto’, learning_rate=’constant’,\n",
    "learning_rate_init=0.001, power_t=0.5,\n",
    "max_iter=200, shuffle=True, random_state=None, tol=0.0001, verbose=False, warm_start=False, momentum=0.9, nesterovs_momentum=True,\n",
    "early_stopping=False, validation_fraction=0.1, beta_1=0.9, beta_2=0.999,\n",
    "epsilon=1e-08, n_iter_no_change=10,\n",
    "max_fun=15000)\n",
    "\n",
    "\n",
    "\"\"\""
   ]
  },
  {
   "cell_type": "code",
   "execution_count": 107,
   "id": "defensive-paintball",
   "metadata": {},
   "outputs": [
    {
     "data": {
      "text/html": [
       "<div>\n",
       "<style scoped>\n",
       "    .dataframe tbody tr th:only-of-type {\n",
       "        vertical-align: middle;\n",
       "    }\n",
       "\n",
       "    .dataframe tbody tr th {\n",
       "        vertical-align: top;\n",
       "    }\n",
       "\n",
       "    .dataframe thead th {\n",
       "        text-align: right;\n",
       "    }\n",
       "</style>\n",
       "<table border=\"1\" class=\"dataframe\">\n",
       "  <thead>\n",
       "    <tr style=\"text-align: right;\">\n",
       "      <th></th>\n",
       "      <th>age</th>\n",
       "      <th>sex</th>\n",
       "      <th>cp</th>\n",
       "      <th>trestbps</th>\n",
       "      <th>chol</th>\n",
       "      <th>fbs</th>\n",
       "      <th>restecg</th>\n",
       "      <th>thalach</th>\n",
       "      <th>exang</th>\n",
       "      <th>oldpeak</th>\n",
       "      <th>slope</th>\n",
       "      <th>ca</th>\n",
       "      <th>thal</th>\n",
       "      <th>target</th>\n",
       "    </tr>\n",
       "  </thead>\n",
       "  <tbody>\n",
       "    <tr>\n",
       "      <th>0</th>\n",
       "      <td>63</td>\n",
       "      <td>1</td>\n",
       "      <td>3</td>\n",
       "      <td>145</td>\n",
       "      <td>233</td>\n",
       "      <td>1</td>\n",
       "      <td>0</td>\n",
       "      <td>150</td>\n",
       "      <td>0</td>\n",
       "      <td>2.3</td>\n",
       "      <td>0</td>\n",
       "      <td>0</td>\n",
       "      <td>1</td>\n",
       "      <td>1</td>\n",
       "    </tr>\n",
       "    <tr>\n",
       "      <th>1</th>\n",
       "      <td>37</td>\n",
       "      <td>1</td>\n",
       "      <td>2</td>\n",
       "      <td>130</td>\n",
       "      <td>250</td>\n",
       "      <td>0</td>\n",
       "      <td>1</td>\n",
       "      <td>187</td>\n",
       "      <td>0</td>\n",
       "      <td>3.5</td>\n",
       "      <td>0</td>\n",
       "      <td>0</td>\n",
       "      <td>2</td>\n",
       "      <td>1</td>\n",
       "    </tr>\n",
       "    <tr>\n",
       "      <th>2</th>\n",
       "      <td>41</td>\n",
       "      <td>0</td>\n",
       "      <td>1</td>\n",
       "      <td>130</td>\n",
       "      <td>204</td>\n",
       "      <td>0</td>\n",
       "      <td>0</td>\n",
       "      <td>172</td>\n",
       "      <td>0</td>\n",
       "      <td>1.4</td>\n",
       "      <td>2</td>\n",
       "      <td>0</td>\n",
       "      <td>2</td>\n",
       "      <td>1</td>\n",
       "    </tr>\n",
       "    <tr>\n",
       "      <th>3</th>\n",
       "      <td>56</td>\n",
       "      <td>1</td>\n",
       "      <td>1</td>\n",
       "      <td>120</td>\n",
       "      <td>236</td>\n",
       "      <td>0</td>\n",
       "      <td>1</td>\n",
       "      <td>178</td>\n",
       "      <td>0</td>\n",
       "      <td>0.8</td>\n",
       "      <td>2</td>\n",
       "      <td>0</td>\n",
       "      <td>2</td>\n",
       "      <td>1</td>\n",
       "    </tr>\n",
       "    <tr>\n",
       "      <th>4</th>\n",
       "      <td>57</td>\n",
       "      <td>0</td>\n",
       "      <td>0</td>\n",
       "      <td>120</td>\n",
       "      <td>354</td>\n",
       "      <td>0</td>\n",
       "      <td>1</td>\n",
       "      <td>163</td>\n",
       "      <td>1</td>\n",
       "      <td>0.6</td>\n",
       "      <td>2</td>\n",
       "      <td>0</td>\n",
       "      <td>2</td>\n",
       "      <td>1</td>\n",
       "    </tr>\n",
       "    <tr>\n",
       "      <th>5</th>\n",
       "      <td>57</td>\n",
       "      <td>1</td>\n",
       "      <td>0</td>\n",
       "      <td>140</td>\n",
       "      <td>192</td>\n",
       "      <td>0</td>\n",
       "      <td>1</td>\n",
       "      <td>148</td>\n",
       "      <td>0</td>\n",
       "      <td>0.4</td>\n",
       "      <td>1</td>\n",
       "      <td>0</td>\n",
       "      <td>1</td>\n",
       "      <td>1</td>\n",
       "    </tr>\n",
       "    <tr>\n",
       "      <th>6</th>\n",
       "      <td>56</td>\n",
       "      <td>0</td>\n",
       "      <td>1</td>\n",
       "      <td>140</td>\n",
       "      <td>294</td>\n",
       "      <td>0</td>\n",
       "      <td>0</td>\n",
       "      <td>153</td>\n",
       "      <td>0</td>\n",
       "      <td>1.3</td>\n",
       "      <td>1</td>\n",
       "      <td>0</td>\n",
       "      <td>2</td>\n",
       "      <td>1</td>\n",
       "    </tr>\n",
       "    <tr>\n",
       "      <th>7</th>\n",
       "      <td>44</td>\n",
       "      <td>1</td>\n",
       "      <td>1</td>\n",
       "      <td>120</td>\n",
       "      <td>263</td>\n",
       "      <td>0</td>\n",
       "      <td>1</td>\n",
       "      <td>173</td>\n",
       "      <td>0</td>\n",
       "      <td>0.0</td>\n",
       "      <td>2</td>\n",
       "      <td>0</td>\n",
       "      <td>3</td>\n",
       "      <td>1</td>\n",
       "    </tr>\n",
       "    <tr>\n",
       "      <th>8</th>\n",
       "      <td>52</td>\n",
       "      <td>1</td>\n",
       "      <td>2</td>\n",
       "      <td>172</td>\n",
       "      <td>199</td>\n",
       "      <td>1</td>\n",
       "      <td>1</td>\n",
       "      <td>162</td>\n",
       "      <td>0</td>\n",
       "      <td>0.5</td>\n",
       "      <td>2</td>\n",
       "      <td>0</td>\n",
       "      <td>3</td>\n",
       "      <td>1</td>\n",
       "    </tr>\n",
       "    <tr>\n",
       "      <th>9</th>\n",
       "      <td>57</td>\n",
       "      <td>1</td>\n",
       "      <td>2</td>\n",
       "      <td>150</td>\n",
       "      <td>168</td>\n",
       "      <td>0</td>\n",
       "      <td>1</td>\n",
       "      <td>174</td>\n",
       "      <td>0</td>\n",
       "      <td>1.6</td>\n",
       "      <td>2</td>\n",
       "      <td>0</td>\n",
       "      <td>2</td>\n",
       "      <td>1</td>\n",
       "    </tr>\n",
       "  </tbody>\n",
       "</table>\n",
       "</div>"
      ],
      "text/plain": [
       "   age  sex  cp  trestbps  chol  fbs  restecg  thalach  exang  oldpeak  slope  \\\n",
       "0   63    1   3       145   233    1        0      150      0      2.3      0   \n",
       "1   37    1   2       130   250    0        1      187      0      3.5      0   \n",
       "2   41    0   1       130   204    0        0      172      0      1.4      2   \n",
       "3   56    1   1       120   236    0        1      178      0      0.8      2   \n",
       "4   57    0   0       120   354    0        1      163      1      0.6      2   \n",
       "5   57    1   0       140   192    0        1      148      0      0.4      1   \n",
       "6   56    0   1       140   294    0        0      153      0      1.3      1   \n",
       "7   44    1   1       120   263    0        1      173      0      0.0      2   \n",
       "8   52    1   2       172   199    1        1      162      0      0.5      2   \n",
       "9   57    1   2       150   168    0        1      174      0      1.6      2   \n",
       "\n",
       "   ca  thal  target  \n",
       "0   0     1       1  \n",
       "1   0     2       1  \n",
       "2   0     2       1  \n",
       "3   0     2       1  \n",
       "4   0     2       1  \n",
       "5   0     1       1  \n",
       "6   0     2       1  \n",
       "7   0     3       1  \n",
       "8   0     3       1  \n",
       "9   0     2       1  "
      ]
     },
     "execution_count": 107,
     "metadata": {},
     "output_type": "execute_result"
    }
   ],
   "source": [
    "dataset=pd.read_csv('heart.csv')\n",
    "dataset.head(10)"
   ]
  },
  {
   "cell_type": "code",
   "execution_count": 108,
   "id": "stainless-tiger",
   "metadata": {},
   "outputs": [],
   "source": [
    "X=dataset.iloc[:,:-1]\n",
    "Y=dataset.iloc[:,-1]"
   ]
  },
  {
   "cell_type": "code",
   "execution_count": 109,
   "id": "smaller-divorce",
   "metadata": {},
   "outputs": [],
   "source": [
    "X_train,X_test,y_train,y_test=train_test_split(X,Y,test_size=0.2,shuffle=True,random_state=44)"
   ]
  },
  {
   "cell_type": "code",
   "execution_count": 110,
   "id": "analyzed-proposition",
   "metadata": {},
   "outputs": [
    {
     "name": "stdout",
     "output_type": "stream",
     "text": [
      "X_train Shape:  (242, 13)\n",
      "X_test shape :  (61, 13)\n"
     ]
    }
   ],
   "source": [
    "print(\"X_train Shape: \",X_train.shape)\n",
    "print(\"X_test shape : \",X_test.shape)"
   ]
  },
  {
   "cell_type": "code",
   "execution_count": 111,
   "id": "naval-cruise",
   "metadata": {},
   "outputs": [],
   "source": [
    "from sklearn.preprocessing import StandardScaler "
   ]
  },
  {
   "cell_type": "code",
   "execution_count": 112,
   "id": "visible-return",
   "metadata": {},
   "outputs": [],
   "source": [
    "SC=StandardScaler()\n",
    "X_train=SC.fit_transform(X_train)\n",
    "X_test=SC.transform(X_test)"
   ]
  },
  {
   "cell_type": "code",
   "execution_count": 113,
   "id": "vietnamese-horizon",
   "metadata": {},
   "outputs": [],
   "source": [
    "MLPClassifierModel=MLPClassifier(activation='relu',solver='lbfgs',learning_rate='constant',early_stopping=False,alpha=0.0001\n",
    "                               ,hidden_layer_sizes=(100,3),random_state=44,max_iter=10000)\n",
    "MLPClassifierModel.fit(X_train,y_train)\n",
    "y_pred=MLPClassifierModel.predict(X_test)"
   ]
  },
  {
   "cell_type": "code",
   "execution_count": 114,
   "id": "cutting-thailand",
   "metadata": {},
   "outputs": [
    {
     "name": "stdout",
     "output_type": "stream",
     "text": [
      "Train Score :  0.9834710743801653\n",
      "Test Score :  0.8032786885245902\n",
      "Classes :  [0 1]\n",
      "Number of iteration :  66\n"
     ]
    }
   ],
   "source": [
    "print(\"Train Score : \",MLPClassifierModel.score(X_train,y_train))\n",
    "print(\"Test Score : \",MLPClassifierModel.score(X_test,y_test))\n",
    "print(\"Classes : \",MLPClassifierModel.classes_)\n",
    "print(\"Number of iteration : \",MLPClassifierModel.n_iter_)"
   ]
  },
  {
   "cell_type": "code",
   "execution_count": 115,
   "id": "finite-contract",
   "metadata": {},
   "outputs": [
    {
     "name": "stdout",
     "output_type": "stream",
     "text": [
      "[1, 1, 0, 0, 1]\n",
      "[1 1 1 1 1]\n"
     ]
    }
   ],
   "source": [
    "print(list(y_test[:5]))\n",
    "print(y_pred[:5])"
   ]
  },
  {
   "cell_type": "code",
   "execution_count": 116,
   "id": "divided-hierarchy",
   "metadata": {},
   "outputs": [
    {
     "name": "stdout",
     "output_type": "stream",
     "text": [
      "[[22  6]\n",
      " [ 6 27]]\n"
     ]
    }
   ],
   "source": [
    "CM=confusion_matrix(y_test,y_pred)\n",
    "print(CM)"
   ]
  },
  {
   "cell_type": "code",
   "execution_count": 117,
   "id": "conceptual-title",
   "metadata": {},
   "outputs": [
    {
     "name": "stdout",
     "output_type": "stream",
     "text": [
      "Score :  0.8032786885245902\n"
     ]
    }
   ],
   "source": [
    "ACCScore =accuracy_score(y_test,y_pred,normalize=True)\n",
    "print(\"Score : \",ACCScore)"
   ]
  },
  {
   "cell_type": "code",
   "execution_count": null,
   "id": "involved-nightmare",
   "metadata": {},
   "outputs": [],
   "source": []
  }
 ],
 "metadata": {
  "kernelspec": {
   "display_name": "Python 3",
   "language": "python",
   "name": "python3"
  },
  "language_info": {
   "codemirror_mode": {
    "name": "ipython",
    "version": 3
   },
   "file_extension": ".py",
   "mimetype": "text/x-python",
   "name": "python",
   "nbconvert_exporter": "python",
   "pygments_lexer": "ipython3",
   "version": "3.8.1"
  }
 },
 "nbformat": 4,
 "nbformat_minor": 5
}
