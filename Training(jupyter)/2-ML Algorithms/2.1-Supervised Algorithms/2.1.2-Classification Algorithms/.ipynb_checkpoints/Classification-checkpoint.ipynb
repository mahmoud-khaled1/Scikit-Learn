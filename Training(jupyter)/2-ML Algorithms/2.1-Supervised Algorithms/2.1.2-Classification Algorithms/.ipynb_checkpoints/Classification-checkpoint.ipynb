{
 "cells": [
  {
   "cell_type": "markdown",
   "id": "ecological-great",
   "metadata": {},
   "source": [
    "## 1-Logistic Regression "
   ]
  },
  {
   "cell_type": "code",
   "execution_count": 1,
   "id": "registered-chinese",
   "metadata": {},
   "outputs": [
    {
     "data": {
      "text/plain": [
       "'\\nsklearn.linear_model.LogisticRegression(penalty=’l2’, *, dual=False, tol=0.0001,\\nC=1.0, fit_intercept=True, intercept_scaling=1, class_weight=None,\\nrandom_state=None, solver=’lbfgs’,\\nmax_iter=100, multi_class=’auto’,\\nverbose=0, warm_start=False,\\nn_jobs=None, l1_ratio=None)\\n\\n'"
      ]
     },
     "execution_count": 1,
     "metadata": {},
     "output_type": "execute_result"
    }
   ],
   "source": [
    "\"\"\"\n",
    "sklearn.linear_model.LogisticRegression(penalty=’l2’, *, dual=False, tol=0.0001,\n",
    "C=1.0, fit_intercept=True, intercept_scaling=1, class_weight=None,\n",
    "random_state=None, solver=’lbfgs’,\n",
    "max_iter=100, multi_class=’auto’,\n",
    "verbose=0, warm_start=False,\n",
    "n_jobs=None, l1_ratio=None)\n",
    "\n",
    "\"\"\""
   ]
  },
  {
   "cell_type": "code",
   "execution_count": 2,
   "id": "sudden-dining",
   "metadata": {},
   "outputs": [],
   "source": [
    "from sklearn.linear_model import LogisticRegression"
   ]
  },
  {
   "cell_type": "code",
   "execution_count": null,
   "id": "composed-encyclopedia",
   "metadata": {},
   "outputs": [],
   "source": []
  }
 ],
 "metadata": {
  "kernelspec": {
   "display_name": "Python 3",
   "language": "python",
   "name": "python3"
  },
  "language_info": {
   "codemirror_mode": {
    "name": "ipython",
    "version": 3
   },
   "file_extension": ".py",
   "mimetype": "text/x-python",
   "name": "python",
   "nbconvert_exporter": "python",
   "pygments_lexer": "ipython3",
   "version": "3.8.1"
  }
 },
 "nbformat": 4,
 "nbformat_minor": 5
}
