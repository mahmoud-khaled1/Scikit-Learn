{
 "cells": [
  {
   "cell_type": "markdown",
   "id": "palestinian-trade",
   "metadata": {},
   "source": [
    "## 1-Logistic Regression "
   ]
  },
  {
   "cell_type": "code",
   "execution_count": 1,
   "id": "informational-ghost",
   "metadata": {},
   "outputs": [
    {
     "data": {
      "text/plain": [
       "'\\nsklearn.linear_model.LogisticRegression(penalty=’l2’, *, dual=False, tol=0.0001,\\nC=1.0, fit_intercept=True, intercept_scaling=1, class_weight=None,\\nrandom_state=None, solver=’lbfgs’,\\nmax_iter=100, multi_class=’auto’,\\nverbose=0, warm_start=False,\\nn_jobs=None, l1_ratio=None)\\n\\n'"
      ]
     },
     "execution_count": 1,
     "metadata": {},
     "output_type": "execute_result"
    }
   ],
   "source": [
    "\"\"\"\n",
    "sklearn.linear_model.LogisticRegression(penalty=’l2’, *, dual=False, tol=0.0001,\n",
    "C=1.0, fit_intercept=True, intercept_scaling=1, class_weight=None,\n",
    "random_state=None, solver=’lbfgs’,\n",
    "max_iter=100, multi_class=’auto’,\n",
    "verbose=0, warm_start=False,\n",
    "n_jobs=None, l1_ratio=None)\n",
    "\n",
    "\"\"\""
   ]
  },
  {
   "cell_type": "code",
   "execution_count": 21,
   "id": "streaming-affair",
   "metadata": {},
   "outputs": [],
   "source": [
    "from sklearn.linear_model import LogisticRegression\n",
    "from sklearn.datasets import load_breast_cancer\n",
    "from sklearn.model_selection import train_test_split\n",
    "from sklearn.metrics import confusion_matrix"
   ]
  },
  {
   "cell_type": "code",
   "execution_count": 22,
   "id": "caroline-explanation",
   "metadata": {},
   "outputs": [],
   "source": [
    "Cancer=load_breast_cancer()\n",
    "X=Cancer.data\n",
    "Y=Cancer.target"
   ]
  },
  {
   "cell_type": "code",
   "execution_count": 23,
   "id": "prostate-microwave",
   "metadata": {},
   "outputs": [
    {
     "name": "stdout",
     "output_type": "stream",
     "text": [
      "(569, 30)\n",
      "(569,)\n"
     ]
    }
   ],
   "source": [
    "print(X.shape)\n",
    "print(Y.shape)"
   ]
  },
  {
   "cell_type": "code",
   "execution_count": 24,
   "id": "recent-tactics",
   "metadata": {},
   "outputs": [],
   "source": [
    "X_train,X_test,y_train,y_test=train_test_split(X,Y,test_size=0.2,shuffle=True,random_state=44)"
   ]
  },
  {
   "cell_type": "code",
   "execution_count": 30,
   "id": "comprehensive-qatar",
   "metadata": {},
   "outputs": [
    {
     "name": "stdout",
     "output_type": "stream",
     "text": [
      "X_train Shape:  (455, 30)\n",
      "X_test shape :  (114, 30)\n"
     ]
    }
   ],
   "source": [
    "print(\"X_train Shape: \",X_train.shape)\n",
    "print(\"X_test shape : \",X_test.shape)"
   ]
  },
  {
   "cell_type": "code",
   "execution_count": 33,
   "id": "understanding-maria",
   "metadata": {},
   "outputs": [
    {
     "data": {
      "text/plain": [
       "LogisticRegression(max_iter=10000, solver='sag')"
      ]
     },
     "execution_count": 33,
     "metadata": {},
     "output_type": "execute_result"
    }
   ],
   "source": [
    "LR=LogisticRegression(penalty='l2',solver='sag',C=1.0,max_iter=10000)\n",
    "LR.fit(X_train,y_train)"
   ]
  },
  {
   "cell_type": "code",
   "execution_count": 35,
   "id": "loving-outreach",
   "metadata": {},
   "outputs": [
    {
     "name": "stdout",
     "output_type": "stream",
     "text": [
      "Train Score :  0.9120879120879121\n",
      "Test Score :  0.9736842105263158\n",
      "Classes :  [0 1]\n",
      "Number of iteration :  [4207]\n"
     ]
    }
   ],
   "source": [
    "print(\"Train Score : \",LR.score(X_train,y_train))\n",
    "print(\"Test Score : \",LR.score(X_test,y_test))\n",
    "print(\"Classes : \",LR.classes_)\n",
    "print(\"Number of iteration : \",LR.n_iter_)"
   ]
  },
  {
   "cell_type": "code",
   "execution_count": 36,
   "id": "dutch-vehicle",
   "metadata": {},
   "outputs": [],
   "source": [
    "y_pred=LR.predict(X_test)\n",
    "y_pre_prob=LR.predict_proba(X_test)"
   ]
  },
  {
   "cell_type": "code",
   "execution_count": 37,
   "id": "arabic-convert",
   "metadata": {},
   "outputs": [
    {
     "name": "stdout",
     "output_type": "stream",
     "text": [
      "Prob of Predication : [[9.84106961e-01 1.58930394e-02]\n",
      " [9.99978155e-01 2.18452841e-05]\n",
      " [7.08435003e-02 9.29156500e-01]\n",
      " [9.99999993e-01 7.45720560e-09]\n",
      " [4.07851181e-01 5.92148819e-01]\n",
      " [3.38790489e-01 6.61209511e-01]\n",
      " [2.85414050e-02 9.71458595e-01]\n",
      " [2.83684709e-01 7.16315291e-01]\n",
      " [9.62169427e-01 3.78305729e-02]\n",
      " [1.58598033e-02 9.84140197e-01]\n",
      " [8.00459328e-02 9.19954067e-01]\n",
      " [9.23453378e-02 9.07654662e-01]\n",
      " [9.90232456e-01 9.76754411e-03]\n",
      " [6.61576710e-01 3.38423290e-01]\n",
      " [2.20212167e-02 9.77978783e-01]\n",
      " [5.77323035e-02 9.42267696e-01]\n",
      " [3.42348345e-02 9.65765165e-01]\n",
      " [9.96335941e-01 3.66405918e-03]\n",
      " [7.09255585e-01 2.90744415e-01]\n",
      " [1.31803419e-02 9.86819658e-01]\n",
      " [1.05459184e-02 9.89454082e-01]\n",
      " [2.72689203e-01 7.27310797e-01]\n",
      " [1.36378002e-02 9.86362200e-01]\n",
      " [7.67600759e-02 9.23239924e-01]\n",
      " [1.41008675e-01 8.58991325e-01]\n",
      " [6.26222491e-01 3.73777509e-01]\n",
      " [9.98348580e-02 9.00165142e-01]\n",
      " [3.52277032e-02 9.64772297e-01]\n",
      " [9.99996626e-01 3.37444313e-06]\n",
      " [1.35545603e-02 9.86445440e-01]\n",
      " [2.30460388e-02 9.76953961e-01]\n",
      " [4.22382487e-02 9.57761751e-01]\n",
      " [2.07987973e-01 7.92012027e-01]\n",
      " [1.90873511e-02 9.80912649e-01]\n",
      " [1.79006432e-01 8.20993568e-01]\n",
      " [3.36606760e-02 9.66339324e-01]\n",
      " [8.18783044e-02 9.18121696e-01]\n",
      " [1.65587707e-02 9.83441229e-01]\n",
      " [1.69525855e-02 9.83047414e-01]\n",
      " [7.23609074e-02 9.27639093e-01]\n",
      " [1.84146312e-01 8.15853688e-01]\n",
      " [9.32855033e-02 9.06714497e-01]\n",
      " [9.99996996e-01 3.00446005e-06]\n",
      " [7.38033206e-02 9.26196679e-01]\n",
      " [2.34551546e-02 9.76544845e-01]\n",
      " [8.76413761e-02 9.12358624e-01]\n",
      " [3.86732234e-02 9.61326777e-01]\n",
      " [4.55928558e-02 9.54407144e-01]\n",
      " [2.48432300e-02 9.75156770e-01]\n",
      " [9.99994571e-01 5.42875012e-06]\n",
      " [2.05846163e-01 7.94153837e-01]\n",
      " [1.84527792e-02 9.81547221e-01]\n",
      " [7.38438137e-03 9.92615619e-01]\n",
      " [9.81301996e-01 1.86980045e-02]\n",
      " [3.65872198e-02 9.63412780e-01]\n",
      " [1.00000000e+00 7.08440862e-16]\n",
      " [9.03128128e-01 9.68718720e-02]\n",
      " [3.56158849e-02 9.64384115e-01]\n",
      " [2.23175438e-02 9.77682456e-01]\n",
      " [2.86208544e-01 7.13791456e-01]\n",
      " [2.92698645e-02 9.70730136e-01]\n",
      " [9.07267823e-02 9.09273218e-01]\n",
      " [1.67561693e-02 9.83243831e-01]\n",
      " [9.99998970e-01 1.02986509e-06]\n",
      " [3.05144689e-02 9.69485531e-01]\n",
      " [1.00000000e+00 2.65507349e-12]\n",
      " [9.99999999e-01 8.18040812e-10]\n",
      " [2.47472237e-01 7.52527763e-01]\n",
      " [9.99999985e-01 1.48696595e-08]\n",
      " [9.99999998e-01 1.84701638e-09]\n",
      " [9.94266915e-01 5.73308509e-03]\n",
      " [9.82325428e-03 9.90176746e-01]\n",
      " [1.00000000e+00 1.91547094e-17]\n",
      " [3.30440280e-02 9.66955972e-01]\n",
      " [5.13832001e-02 9.48616800e-01]\n",
      " [9.99912857e-01 8.71434830e-05]\n",
      " [9.02123191e-01 9.78768090e-02]\n",
      " [3.58484976e-02 9.64151502e-01]\n",
      " [9.99999998e-01 1.58644649e-09]\n",
      " [4.59218834e-01 5.40781166e-01]\n",
      " [5.10979242e-02 9.48902076e-01]\n",
      " [2.78372582e-01 7.21627418e-01]\n",
      " [3.65875493e-01 6.34124507e-01]\n",
      " [2.36028219e-02 9.76397178e-01]\n",
      " [8.92497314e-03 9.91075027e-01]\n",
      " [9.99229138e-01 7.70862276e-04]\n",
      " [9.94918704e-03 9.90050813e-01]\n",
      " [1.16458349e-01 8.83541651e-01]\n",
      " [1.93500316e-02 9.80649968e-01]\n",
      " [9.99999997e-01 3.11796541e-09]\n",
      " [8.86524885e-03 9.91134751e-01]\n",
      " [3.34336076e-02 9.66566392e-01]\n",
      " [1.38261712e-02 9.86173829e-01]\n",
      " [4.28922602e-02 9.57107740e-01]\n",
      " [1.80039252e-02 9.81996075e-01]\n",
      " [8.41494952e-02 9.15850505e-01]\n",
      " [9.99925046e-01 7.49542121e-05]\n",
      " [1.03379252e-02 9.89662075e-01]\n",
      " [2.58521511e-02 9.74147849e-01]\n",
      " [9.99999928e-01 7.18022337e-08]\n",
      " [1.19518443e-02 9.88048156e-01]\n",
      " [9.99638064e-01 3.61936465e-04]\n",
      " [9.99524045e-01 4.75954578e-04]\n",
      " [2.23222506e-01 7.76777494e-01]\n",
      " [9.99995564e-01 4.43595084e-06]\n",
      " [1.06457425e-02 9.89354257e-01]\n",
      " [1.30379879e-01 8.69620121e-01]\n",
      " [9.99994274e-01 5.72647747e-06]\n",
      " [9.99994007e-01 5.99340083e-06]\n",
      " [8.92016925e-02 9.10798308e-01]\n",
      " [9.89847063e-01 1.01529368e-02]\n",
      " [9.99969113e-01 3.08870826e-05]\n",
      " [9.96897548e-01 3.10245228e-03]\n",
      " [9.91033969e-01 8.96603078e-03]]\n"
     ]
    }
   ],
   "source": [
    "print(\"Prob of Predication :\",y_pre_prob)"
   ]
  },
  {
   "cell_type": "code",
   "execution_count": 40,
   "id": "honey-thing",
   "metadata": {},
   "outputs": [
    {
     "name": "stdout",
     "output_type": "stream",
     "text": [
      "Test : \n",
      " [0 0 1 0 1]\n",
      "Pred ; \n",
      " [0 0 1 0 1]\n"
     ]
    }
   ],
   "source": [
    "print(\"Test : \\n\",y_test[:5])\n",
    "print(\"Pred ; \\n\",y_pred[:5])"
   ]
  },
  {
   "cell_type": "code",
   "execution_count": null,
   "id": "atomic-draft",
   "metadata": {},
   "outputs": [],
   "source": []
  }
 ],
 "metadata": {
  "kernelspec": {
   "display_name": "Python 3",
   "language": "python",
   "name": "python3"
  },
  "language_info": {
   "codemirror_mode": {
    "name": "ipython",
    "version": 3
   },
   "file_extension": ".py",
   "mimetype": "text/x-python",
   "name": "python",
   "nbconvert_exporter": "python",
   "pygments_lexer": "ipython3",
   "version": "3.8.1"
  }
 },
 "nbformat": 4,
 "nbformat_minor": 5
}
