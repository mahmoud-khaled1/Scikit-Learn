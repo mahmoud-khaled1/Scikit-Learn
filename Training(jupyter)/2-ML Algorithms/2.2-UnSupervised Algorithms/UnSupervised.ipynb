{
 "cells": [
  {
   "cell_type": "markdown",
   "id": "moral-fetish",
   "metadata": {},
   "source": [
    "### 1-K-Means algorithm"
   ]
  },
  {
   "cell_type": "code",
   "execution_count": 1,
   "id": "timely-springer",
   "metadata": {},
   "outputs": [
    {
     "data": {
      "text/plain": [
       "' \\nsklearn.cluster.KMeans(n_clusters=8, *, init=’k-means++’, n_init=10, max_iter=300,\\ntol=0.0001, precompute_distances=’deprecated’, verbose=0,\\nrandom_state=None, copy_x=True, n_jobs=’deprecated’, algorithm=’auto’)\\n'"
      ]
     },
     "execution_count": 1,
     "metadata": {},
     "output_type": "execute_result"
    }
   ],
   "source": [
    "\"\"\" \n",
    "sklearn.cluster.KMeans(n_clusters=8, *, init=’k-means++’, n_init=10, max_iter=300,\n",
    "tol=0.0001, precompute_distances=’deprecated’, verbose=0,\n",
    "random_state=None, copy_x=True, n_jobs=’deprecated’, algorithm=’auto’)\n",
    "\"\"\""
   ]
  },
  {
   "cell_type": "markdown",
   "id": "solid-celtic",
   "metadata": {},
   "source": [
    "<img src=\"K-maens.png\" >"
   ]
  },
  {
   "cell_type": "code",
   "execution_count": null,
   "id": "vocal-craft",
   "metadata": {},
   "outputs": [],
   "source": []
  }
 ],
 "metadata": {
  "kernelspec": {
   "display_name": "Python 3",
   "language": "python",
   "name": "python3"
  },
  "language_info": {
   "codemirror_mode": {
    "name": "ipython",
    "version": 3
   },
   "file_extension": ".py",
   "mimetype": "text/x-python",
   "name": "python",
   "nbconvert_exporter": "python",
   "pygments_lexer": "ipython3",
   "version": "3.8.1"
  }
 },
 "nbformat": 4,
 "nbformat_minor": 5
}
