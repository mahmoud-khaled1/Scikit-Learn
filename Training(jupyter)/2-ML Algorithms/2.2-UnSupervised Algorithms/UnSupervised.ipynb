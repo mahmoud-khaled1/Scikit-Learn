{
 "cells": [
  {
   "cell_type": "markdown",
   "id": "civil-holocaust",
   "metadata": {},
   "source": [
    "### 1-K-Means algorithm"
   ]
  },
  {
   "cell_type": "code",
   "execution_count": 59,
   "id": "excessive-whole",
   "metadata": {},
   "outputs": [
    {
     "data": {
      "text/plain": [
       "' \\nsklearn.cluster.KMeans(n_clusters=8, *, init=’k-means++’, n_init=10, max_iter=300,\\ntol=0.0001, precompute_distances=’deprecated’, verbose=0,\\nrandom_state=None, copy_x=True, n_jobs=’deprecated’, algorithm=’auto’)\\n'"
      ]
     },
     "execution_count": 59,
     "metadata": {},
     "output_type": "execute_result"
    }
   ],
   "source": [
    "\"\"\" \n",
    "sklearn.cluster.KMeans(n_clusters=8, *, init=’k-means++’, n_init=10, max_iter=300,\n",
    "tol=0.0001, precompute_distances=’deprecated’, verbose=0,\n",
    "random_state=None, copy_x=True, n_jobs=’deprecated’, algorithm=’auto’)\n",
    "\"\"\""
   ]
  },
  {
   "cell_type": "markdown",
   "id": "extraordinary-donna",
   "metadata": {},
   "source": [
    "<img src=\"K-maens.png\" >"
   ]
  },
  {
   "cell_type": "code",
   "execution_count": 47,
   "id": "fewer-qualification",
   "metadata": {},
   "outputs": [],
   "source": [
    "from sklearn.cluster import KMeans\n",
    "import matplotlib.pyplot as plt \n",
    "import numpy as np \n",
    "import pandas as pd "
   ]
  },
  {
   "cell_type": "code",
   "execution_count": 48,
   "id": "abandoned-moral",
   "metadata": {},
   "outputs": [],
   "source": [
    "DataSet=pd.read_csv('data.csv')\n",
    "X=DataSet.iloc[:500,:]\n"
   ]
  },
  {
   "cell_type": "code",
   "execution_count": 49,
   "id": "palestinian-ministry",
   "metadata": {},
   "outputs": [
    {
     "data": {
      "text/plain": [
       "(500, 8)"
      ]
     },
     "execution_count": 49,
     "metadata": {},
     "output_type": "execute_result"
    }
   ],
   "source": [
    "X.shape"
   ]
  },
  {
   "cell_type": "markdown",
   "id": "aerial-spotlight",
   "metadata": {},
   "source": [
    "in this exampel i will implement K-means algorithm 10 times to select  best number of cluster !"
   ]
  },
  {
   "cell_type": "code",
   "execution_count": 50,
   "id": "geological-amateur",
   "metadata": {},
   "outputs": [],
   "source": [
    "ilist=[]\n",
    "n=20\n",
    "for i in range(1,n):\n",
    "    KMenasModel=KMeans(n_clusters=i, init='k-means++', max_iter=300,\n",
    "    random_state=33,algorithm='auto')\n",
    "    KMenasModel.fit(X)\n",
    "    ilist.append(KMenasModel.inertia_)"
   ]
  },
  {
   "cell_type": "code",
   "execution_count": 51,
   "id": "light-trust",
   "metadata": {},
   "outputs": [
    {
     "data": {
      "image/png": "[encoded data removed]",
      "text/plain": [
       "<Figure size 432x288 with 1 Axes>"
      ]
     },
     "metadata": {
      "needs_background": "light"
     },
     "output_type": "display_data"
    }
   ],
   "source": [
    "plt.plot(range(1,n),ilist)\n",
    "plt.title('Elbow')\n",
    "plt.xlabel('Clusters')\n",
    "plt.ylabel('inertia_')\n",
    "plt.show()"
   ]
  },
  {
   "cell_type": "markdown",
   "id": "comfortable-maker",
   "metadata": {},
   "source": [
    "from the result and graph best number of cluster that fit the data is 8 and above . "
   ]
  },
  {
   "cell_type": "code",
   "execution_count": 55,
   "id": "italian-google",
   "metadata": {},
   "outputs": [],
   "source": [
    "KMenasModel=KMeans(n_clusters=5, init='k-means++', max_iter=300,\n",
    "random_state=33,algorithm='auto')\n",
    "KMenasModel.fit(X)\n",
    "y_means=KMenasModel.fit_predict(X)"
   ]
  },
  {
   "cell_type": "code",
   "execution_count": 56,
   "id": "hourly-accountability",
   "metadata": {},
   "outputs": [
    {
     "name": "stdout",
     "output_type": "stream",
     "text": [
      "KMeans Score is : -2642.417327437318\n",
      "KMeans cluster_centers are : [[-1.43661716e+00 -1.30756944e-01  4.97151304e-01  1.72673286e-01\n",
      "   1.86283942e-01  2.01032619e-01 -1.66747857e-01 -2.24493213e-01]\n",
      " [ 1.82682646e+00  2.48610949e+00 -2.30240828e-01 -1.35493007e-01\n",
      "   3.22224291e-01 -2.30168635e-01  2.27507024e-01  2.96392927e-01]\n",
      " [ 3.11352283e+00 -2.74333330e+00  1.04967940e+00 -1.41761229e+00\n",
      "  -3.51342166e-01  4.93556644e-01  6.39313555e-01 -6.85158097e-02]\n",
      " [-1.66528170e+00 -7.85746386e-01 -1.80388977e+00 -6.30891834e-01\n",
      "  -3.29470160e-01 -2.91309449e-01  3.50165688e-01  1.62774615e-01]\n",
      " [ 9.74824441e-01 -8.39363992e-01 -2.34724970e-03  7.84826169e-01\n",
      "  -2.76135934e-01 -1.10470678e-01 -4.74808138e-01  1.08839914e-01]]\n",
      "KMeans Labels are : [3 4 3 0 4 0 3 4 3 4 0 0 1 4 1 4 3 0 4 3 4 2 0 4 1 4 1 0 1 4 4 4 4 4 1 0 0\n",
      " 0 0 0 4 1 0 0 1 0 1 3 1 4 1 0 4 1 0 2 0 1 4 1 0 0 0 3 2 0 3 0 1 1 3 0 0 1\n",
      " 1 1 0 1 0 3 2 1 0 0 3 3 3 0 3 2 4 0 1 0 0 0 1 0 0 0 1 4 3 0 4 0 3 3 0 0 0\n",
      " 3 1 3 1 4 3 1 1 4 0 3 1 0 3 4 0 4 0 0 0 1 2 3 0 0 0 0 0 2 2 4 1 0 0 4 1 0\n",
      " 0 2 1 3 0 4 2 0 1 0 1 4 3 2 0 0 0 4 1 2 3 0 0 0 4 3 2 4 0 1 1 1 0 1 1 3 1\n",
      " 0 4 4 2 0 4 0 2 3 2 0 1 0 0 0 3 2 2 4 0 0 3 0 1 0 0 0 0 4 2 1 3 4 1 0 4 0\n",
      " 1 0 4 4 0 3 0 0 0 0 0 3 1 0 1 0 4 1 4 4 1 0 2 1 0 4 4 4 4 0 1 0 0 0 3 0 0\n",
      " 0 4 0 4 4 0 0 0 0 0 0 1 3 1 3 3 4 0 4 4 0 0 2 3 4 4 0 0 1 3 0 0 3 3 1 0 0\n",
      " 4 4 0 0 0 0 4 0 3 1 1 2 1 4 0 0 0 3 1 3 1 0 0 4 0 1 1 0 4 0 1 0 4 0 4 1 3\n",
      " 4 0 1 0 4 0 3 0 0 2 1 2 0 0 3 0 0 1 0 0 4 4 1 1 0 3 4 2 4 0 0 1 2 3 0 4 0\n",
      " 4 1 0 0 1 4 4 0 1 2 3 3 0 4 0 4 0 0 3 2 1 1 2 0 4 1 3 1 0 3 1 4 4 0 1 1 4\n",
      " 1 3 4 3 1 0 0 1 0 0 2 0 1 0 1 0 3 1 2 4 4 1 1 0 2 0 0 2 0 4 3 0 1 3 1 4 2\n",
      " 3 1 3 0 0 1 3 0 4 4 3 0 4 4 4 4 3 4 3 0 3 3 4 4 2 0 1 4 1 1 0 0 4 2 3 1 1\n",
      " 2 0 2 1 0 2 4 0 2 0 4 0 1 0 0 2 0 0 0]\n",
      "KMeans inertia_ is : 2642.417327437318\n",
      "KMeans Number of iteration is : 7\n"
     ]
    }
   ],
   "source": [
    "print(\"KMeans Score is :\",KMenasModel.score(X))\n",
    "print(\"KMeans cluster_centers are :\",KMenasModel.cluster_centers_)\n",
    "print(\"KMeans Labels are :\",KMenasModel.labels_)\n",
    "print(\"KMeans inertia_ is :\",KMenasModel.inertia_)\n",
    "print(\"KMeans Number of iteration is :\",KMenasModel.n_iter_)\n",
    "\n"
   ]
  },
  {
   "cell_type": "markdown",
   "id": "fuzzy-philadelphia",
   "metadata": {},
   "source": [
    "#### Another Example in K-Means algorithm"
   ]
  },
  {
   "cell_type": "code",
   "execution_count": 64,
   "id": "harmful-anniversary",
   "metadata": {},
   "outputs": [],
   "source": [
    "from sklearn.cluster import KMeans\n",
    "import matplotlib.pyplot as plt \n",
    "import numpy as np \n",
    "import pandas as pd \n",
    "from sklearn.datasets import load_iris\n",
    "from sklearn.metrics import silhouette_score # used to calc score of k-means algorithms with n clusters"
   ]
  },
  {
   "cell_type": "code",
   "execution_count": 63,
   "id": "korean-wireless",
   "metadata": {},
   "outputs": [],
   "source": [
    "Iris=load_iris()\n",
    "X=Iris.data"
   ]
  },
  {
   "cell_type": "code",
   "execution_count": 67,
   "id": "coral-commerce",
   "metadata": {},
   "outputs": [],
   "source": [
    "Score=[]\n",
    "for i in range(2,11):\n",
    "    KMenasModel=KMeans(n_clusters=i, init='k-means++',\n",
    "    random_state=33,algorithm='auto')\n",
    "    KMenasModel.fit(X)\n",
    "    result=KMenasModel.labels_\n",
    "    Score.append(silhouette_score(X,result))"
   ]
  },
  {
   "cell_type": "code",
   "execution_count": 68,
   "id": "genuine-dover",
   "metadata": {},
   "outputs": [
    {
     "data": {
      "text/plain": [
       "[0.681046169211746,\n",
       " 0.5528190123564091,\n",
       " 0.4980505049972867,\n",
       " 0.4887488870931048,\n",
       " 0.3648340039670018,\n",
       " 0.353871070377812,\n",
       " 0.3598224057544486,\n",
       " 0.3300303369427989,\n",
       " 0.3295673548032477]"
      ]
     },
     "execution_count": 68,
     "metadata": {},
     "output_type": "execute_result"
    }
   ],
   "source": [
    "Score"
   ]
  },
  {
   "cell_type": "code",
   "execution_count": 72,
   "id": "touched-letter",
   "metadata": {},
   "outputs": [
    {
     "data": {
      "image/png": "[encoded data removed]",
      "text/plain": [
       "<Figure size 432x288 with 1 Axes>"
      ]
     },
     "metadata": {
      "needs_background": "light"
     },
     "output_type": "display_data"
    }
   ],
   "source": [
    "plt.plot(range(2,11),Score)\n",
    "plt.title('Elbow')\n",
    "plt.xlabel('Clusters')\n",
    "plt.ylabel('inertia_')\n",
    "plt.show()"
   ]
  },
  {
   "cell_type": "markdown",
   "id": "preliminary-rwanda",
   "metadata": {},
   "source": [
    "from Score the best  cluster is 6 and above"
   ]
  },
  {
   "cell_type": "code",
   "execution_count": 73,
   "id": "alive-broad",
   "metadata": {},
   "outputs": [],
   "source": [
    "KMenasModel=KMeans(n_clusters=6, init='k-means++',\n",
    "random_state=33,algorithm='auto')\n",
    "y_kmeans=KMenasModel.fit_predict(X)"
   ]
  },
  {
   "cell_type": "code",
   "execution_count": 76,
   "id": "supreme-tracker",
   "metadata": {},
   "outputs": [
    {
     "data": {
      "image/png": "[encoded data removed]",
      "text/plain": [
       "<Figure size 432x288 with 1 Axes>"
      ]
     },
     "metadata": {
      "needs_background": "light"
     },
     "output_type": "display_data"
    }
   ],
   "source": [
    "plt.scatter(X[y_kmeans==0,0],X[y_kmeans==0,1],s=10,c='r')\n",
    "plt.scatter(X[y_kmeans==1,0],X[y_kmeans==1,1],s=10,c='b')\n",
    "plt.scatter(X[y_kmeans==2,0],X[y_kmeans==2,1],s=10,c='g')\n",
    "plt.scatter(X[y_kmeans==3,0],X[y_kmeans==3,1],s=10,c='c')\n",
    "plt.scatter(X[y_kmeans==4,0],X[y_kmeans==4,1],s=10,c='m')\n",
    "plt.scatter(X[y_kmeans==5,0],X[y_kmeans==5,1],s=10,c='y')\n",
    "plt.scatter(KMenasModel.cluster_centers_[:,0],KMenasModel.cluster_centers_[:,1],s=150,c='black')\n",
    "plt.show()"
   ]
  },
  {
   "cell_type": "markdown",
   "id": "orange-apple",
   "metadata": {},
   "source": [
    "## 2-MiniBatch K-Means"
   ]
  },
  {
   "cell_type": "markdown",
   "id": "british-shirt",
   "metadata": {},
   "source": [
    "We want to compare the performance of the MiniBatchKMeans and KMeans: the MiniBatchKMeans is faster, but gives slightly different results (see Mini Batch K-Means)."
   ]
  },
  {
   "cell_type": "code",
   "execution_count": 79,
   "id": "understanding-china",
   "metadata": {},
   "outputs": [
    {
     "data": {
      "text/plain": [
       "'\\nsklearn.cluster.MiniBatchKMeans(n_clusters=8, *, init=’k-means++’,\\nmax_iter=100, batch_size=100, verbose=0, compute_labels=True, random_state=None, tol=0.0,\\nmax_no_improvement=10, init_size=None, n_init=3,\\nreassignment_ratio=0.01)\\n\\n'"
      ]
     },
     "execution_count": 79,
     "metadata": {},
     "output_type": "execute_result"
    }
   ],
   "source": [
    "\"\"\"\n",
    "sklearn.cluster.MiniBatchKMeans(n_clusters=8, *, init=’k-means++’,\n",
    "max_iter=100, batch_size=100, verbose=0, compute_labels=True, random_state=None, tol=0.0,\n",
    "max_no_improvement=10, init_size=None, n_init=3,\n",
    "reassignment_ratio=0.01)\n",
    "\n",
    "\"\"\""
   ]
  },
  {
   "cell_type": "markdown",
   "id": "vietnamese-gallery",
   "metadata": {},
   "source": [
    "<img src=\"plot_mini_batch_kmeans_1.png\" >"
   ]
  },
  {
   "cell_type": "code",
   "execution_count": 80,
   "id": "forward-fortune",
   "metadata": {},
   "outputs": [],
   "source": [
    "from sklearn.cluster import MiniBatchKMeans\n",
    "import matplotlib.pyplot as plt \n",
    "import numpy as np \n",
    "import pandas as pd \n",
    "from sklearn.datasets import load_iris\n",
    "from sklearn.metrics import silhouette_score # used to calc score of k-means algorithms with n clusters"
   ]
  },
  {
   "cell_type": "code",
   "execution_count": 81,
   "id": "moral-above",
   "metadata": {},
   "outputs": [],
   "source": [
    "Iris=load_iris()\n",
    "X=Iris.data"
   ]
  },
  {
   "cell_type": "code",
   "execution_count": 83,
   "id": "comfortable-walnut",
   "metadata": {},
   "outputs": [
    {
     "data": {
      "text/plain": [
       "MiniBatchKMeans(batch_size=50, random_state=44)"
      ]
     },
     "execution_count": 83,
     "metadata": {},
     "output_type": "execute_result"
    }
   ],
   "source": [
    "MiniBatchModel=MiniBatchKMeans(n_clusters=8, init='k-means++',\n",
    "                               batch_size=50 ,random_state=44)\n",
    "MiniBatchModel.fit(X)"
   ]
  },
  {
   "cell_type": "code",
   "execution_count": 84,
   "id": "realistic-franklin",
   "metadata": {},
   "outputs": [
    {
     "name": "stdout",
     "output_type": "stream",
     "text": [
      "MiniBatchModel Score is : -30.7941320041789\n",
      "MiniBatchModel cluster_centers are : [[5.06769231 2.35846154 3.46615385 1.08769231]\n",
      " [4.70489796 3.13183673 1.41673469 0.19836735]\n",
      " [7.47364341 3.12790698 6.26589147 2.03953488]\n",
      " [6.01255061 2.78987854 4.90283401 1.70202429]\n",
      " [6.53957597 3.06749117 5.54452297 2.13568905]\n",
      " [5.2448505  3.65681063 1.49534884 0.27641196]\n",
      " [5.68053435 2.69427481 4.10572519 1.25992366]\n",
      " [6.6047619  3.00535714 4.63571429 1.4577381 ]]\n",
      "MiniBatchModel Labels are : [5 1 1 1 5 5 1 5 1 1 5 1 1 1 5 5 5 5 5 5 5 5 1 5 1 1 5 5 5 1 1 5 5 5 1 1 5\n",
      " 5 1 5 5 1 1 5 5 1 5 1 5 1 7 7 7 6 7 6 7 0 7 6 0 6 6 3 6 7 6 6 3 6 3 6 3 3\n",
      " 7 7 7 7 3 6 6 0 6 3 6 3 7 6 6 6 6 3 6 0 6 6 6 7 0 6 4 3 2 4 4 2 6 2 4 2 4\n",
      " 4 4 3 3 4 4 2 2 3 4 3 2 3 4 2 3 3 4 2 2 2 4 3 3 2 4 4 3 4 4 4 3 4 4 4 3 4\n",
      " 4 3]\n",
      "MiniBatchModel inertia_ is : 30.794132004178895\n",
      "MiniBatchModel Number of iteration is : 31\n"
     ]
    }
   ],
   "source": [
    "print(\"MiniBatchModel Score is :\",MiniBatchModel.score(X))\n",
    "print(\"MiniBatchModel cluster_centers are :\",MiniBatchModel.cluster_centers_)\n",
    "print(\"MiniBatchModel Labels are :\",MiniBatchModel.labels_)\n",
    "print(\"MiniBatchModel inertia_ is :\",MiniBatchModel.inertia_)\n",
    "print(\"MiniBatchModel Number of iteration is :\",MiniBatchModel.n_iter_)"
   ]
  },
  {
   "cell_type": "markdown",
   "id": "timely-illinois",
   "metadata": {},
   "source": [
    "## PCA "
   ]
  },
  {
   "cell_type": "markdown",
   "id": "broken-extent",
   "metadata": {},
   "source": [
    "PCA is an unsupervised statistical technique that is used to reduce the dimensions of the dataset. ML models with many input variables or higher dimensionality tend to fail when operating on a higher input dataset. PCA helps in identifying relationships among different variables & then coupling them. "
   ]
  },
  {
   "cell_type": "code",
   "execution_count": 1,
   "id": "sunrise-fantasy",
   "metadata": {},
   "outputs": [
    {
     "data": {
      "text/plain": [
       "'\\nn.decomposition.PCA(n_components=None, *, copy=True, whiten=False,\\nsvd_solver=’auto’, tol=0.0, iterated_power=’auto’, random_state=None)\\n\\n'"
      ]
     },
     "execution_count": 1,
     "metadata": {},
     "output_type": "execute_result"
    }
   ],
   "source": [
    "\"\"\"\n",
    "n.decomposition.PCA(n_components=None, *, copy=True, whiten=False,\n",
    "svd_solver=’auto’, tol=0.0, iterated_power=’auto’, random_state=None)\n",
    "\n",
    "\"\"\""
   ]
  },
  {
   "cell_type": "code",
   "execution_count": null,
   "id": "administrative-senator",
   "metadata": {},
   "outputs": [],
   "source": []
  }
 ],
 "metadata": {
  "kernelspec": {
   "display_name": "Python 3",
   "language": "python",
   "name": "python3"
  },
  "language_info": {
   "codemirror_mode": {
    "name": "ipython",
    "version": 3
   },
   "file_extension": ".py",
   "mimetype": "text/x-python",
   "name": "python",
   "nbconvert_exporter": "python",
   "pygments_lexer": "ipython3",
   "version": "3.8.1"
  }
 },
 "nbformat": 4,
 "nbformat_minor": 5
}
